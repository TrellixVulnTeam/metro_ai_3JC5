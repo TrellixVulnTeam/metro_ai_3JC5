{
 "cells": [
  {
   "cell_type": "code",
   "execution_count": 1,
   "metadata": {},
   "outputs": [],
   "source": [
    "# 这个就是那个判断酒的类型的，不过这次自己手写一个\n",
    "# 其实就是一个点判断离哪一边比较近，就更大的可能算哪一边的"
   ]
  },
  {
   "cell_type": "code",
   "execution_count": 2,
   "metadata": {},
   "outputs": [],
   "source": [
    "import numpy as np"
   ]
  },
  {
   "cell_type": "code",
   "execution_count": 10,
   "metadata": {},
   "outputs": [],
   "source": [
    "X_raw = [[14.23,  5.64],\n",
    "       [13.2 ,  4.38],\n",
    "       [13.16,  5.68],\n",
    "       [14.37,  4.80 ],\n",
    "       [13.24,  4.32],\n",
    "       [12.07,  2.76],\n",
    "       [12.43,  3.94],\n",
    "       [11.79,  3.  ],\n",
    "       [12.37,  2.12],\n",
    "       [12.04,  2.6 ]]\n",
    "\n",
    "y_raw = [0, 0, 0, 0, 0, 1, 1, 1, 1, 1]\n",
    "# X两列是颜色深度和酒精浓度，y的0是黑皮诺，1是赤霞珠"
   ]
  },
  {
   "cell_type": "code",
   "execution_count": 11,
   "metadata": {},
   "outputs": [],
   "source": [
    "x_test = np.array([12.8, 4.1])\n",
    "# 一杯需要测试的新的酒"
   ]
  },
  {
   "cell_type": "code",
   "execution_count": 12,
   "metadata": {},
   "outputs": [],
   "source": [
    "X_train = np.array(X_raw)\n",
    "y_train = np.array(y_raw)\n",
    "# np速度快，所以都用np"
   ]
  },
  {
   "cell_type": "code",
   "execution_count": 13,
   "metadata": {},
   "outputs": [],
   "source": [
    "import matplotlib.pyplot as plt\n",
    "plt.style.use('ggplot')\n",
    "plt.figure(figsize=(10, 6))\n",
    "plt.scatter(X_train[y_train==1,0], \n",
    "            X_train[y_train==1,1],s=100, \n",
    "            c='g',label='赤霞珠')\n",
    "plt.scatter(X_train[y_train==0,0], \n",
    "            X_train[y_train==0,1],s=100, \n",
    "            c='r',label='黑皮诺')\n",
    "# 这一版本不能使用color=color_g这样子来定义颜色了\n",
    "plt.scatter(x_test[0], x_test[1], s=100, c='y')\n",
    "plt.xlabel('酒精浓度')\n",
    "plt.ylabel('颜色深度')\n",
    "plt.legend(loc='lower right')\n",
    "plt.tight_layout()\n",
    "plt.savefig('葡萄酒样本.png')\n",
    "# 有了x和y轴就能绘制散点图了"
   ]
  },
  {
   "cell_type": "code",
   "execution_count": 14,
   "metadata": {},
   "outputs": [
    {
     "data": {
      "text/plain": [
       "[2.101547049199708,\n",
       " 0.4882622246293471,\n",
       " 1.6204937519163718,\n",
       " 1.7189822570346662,\n",
       " 0.49193495504995355,\n",
       " 1.5259423318068084,\n",
       " 0.4031128874149283,\n",
       " 1.4933519344079622,\n",
       " 2.026153992173349,\n",
       " 1.6815469068687918]"
      ]
     },
     "execution_count": 14,
     "metadata": {},
     "output_type": "execute_result"
    }
   ],
   "source": [
    "from math import sqrt\n",
    "distances = [sqrt(np.sum((x - x_test)**2)) for x in X_train] # 列表推导式\n",
    "# 计算新的样本点到每个样本点之间的距离，这特征都在x里面，所以就看x的\n",
    "distances"
   ]
  },
  {
   "cell_type": "code",
   "execution_count": 15,
   "metadata": {},
   "outputs": [
    {
     "data": {
      "text/plain": [
       "array([6, 1, 4, 7, 5, 2, 9, 3, 8, 0], dtype=int64)"
      ]
     },
     "execution_count": 15,
     "metadata": {},
     "output_type": "execute_result"
    }
   ],
   "source": [
    "sort = np.argsort(distances)\n",
    "sort\n",
    "# 通过索引来找最近的点"
   ]
  },
  {
   "cell_type": "code",
   "execution_count": 16,
   "metadata": {},
   "outputs": [
    {
     "data": {
      "text/plain": [
       "[1, 0, 0]"
      ]
     },
     "execution_count": 16,
     "metadata": {},
     "output_type": "execute_result"
    }
   ],
   "source": [
    "K = 3 \n",
    "topK = [y_train[i] for i in sort[:K]]\n",
    "topK\n",
    "# 通过最近的三个点来找到酒的类别\n",
    "# 不知道哪打错了，和教程输出的不一样"
   ]
  },
  {
   "cell_type": "code",
   "execution_count": 17,
   "metadata": {},
   "outputs": [
    {
     "data": {
      "text/plain": [
       "0"
      ]
     },
     "execution_count": 17,
     "metadata": {},
     "output_type": "execute_result"
    }
   ],
   "source": [
    "from collections import Counter\n",
    "votes = Counter(topK)\n",
    "votes\n",
    "predict_y = votes.most_common(1)[0][0]\n",
    "predict_y"
   ]
  },
  {
   "cell_type": "code",
   "execution_count": 18,
   "metadata": {},
   "outputs": [],
   "source": [
    "# 不一样就不一样把，反正知道原理了"
   ]
  },
  {
   "cell_type": "code",
   "execution_count": 19,
   "metadata": {},
   "outputs": [
    {
     "data": {
      "text/plain": [
       "0"
      ]
     },
     "execution_count": 19,
     "metadata": {},
     "output_type": "execute_result"
    }
   ],
   "source": [
    "from sklearn.neighbors import KNeighborsClassifier \n",
    "kNN_classifier = KNeighborsClassifier(n_neighbors=3)\n",
    "# 最近的三个样本\n",
    "kNN_classifier.fit(X_train,y_train )\n",
    "x_test = x_test.reshape(1,-1)\n",
    "kNN_classifier.predict(x_test)[0]\n",
    "# 这个就是直接调包了"
   ]
  },
  {
   "cell_type": "code",
   "execution_count": null,
   "metadata": {},
   "outputs": [],
   "source": []
  }
 ],
 "metadata": {
  "kernelspec": {
   "display_name": "Python 3",
   "language": "python",
   "name": "python3"
  },
  "language_info": {
   "codemirror_mode": {
    "name": "ipython",
    "version": 3
   },
   "file_extension": ".py",
   "mimetype": "text/x-python",
   "name": "python",
   "nbconvert_exporter": "python",
   "pygments_lexer": "ipython3",
   "version": "3.7.0"
  }
 },
 "nbformat": 4,
 "nbformat_minor": 1
}
