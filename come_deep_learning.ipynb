{
 "cells": [
  {
   "cell_type": "code",
   "execution_count": 1,
   "metadata": {
    "collapsed": true
   },
   "outputs": [],
   "source": [
    "# 深度学习scaling效果好,数据量足够大的话过拟合又能怎么样\n",
    "# scale尺度\n",
    "# GPU要么用云，要么买个2000的显卡\n",
    "# keras是基于tensorflow封装，专门弄深度学习的\n",
    "# 就像搭积木一样\n",
    "# 要做deep learning还是要会点linux\n",
    "# 训练的时候需要稳定的平台\n",
    "# 本地还是比云要好一些，云平台都是要钱的\n",
    "# 不上产品自己建模花个2000就行\n",
    "# 谷歌这些colab不要钱的要科学上网还是少用吧\n",
    "# 百度这个AIstudio感觉不咋地\n",
    "# 亚马逊的也不错，价钱还是算了\n",
    "# 这次用京东云云桥\n",
    "# 训练环境就是notebook\n",
    "# 训练的时候用训练任务，给他自己跑去\n",
    "# 上了这些云平台，中文可能有变化\n",
    "# 如果用jupyter notebook而不是pycharm\n",
    "# 安装库用！pip install 库，记得单独一行"
   ]
  },
  {
   "cell_type": "code",
   "execution_count": 2,
   "metadata": {},
   "outputs": [],
   "source": [
    "import tensorflow as tf"
   ]
  },
  {
   "cell_type": "code",
   "execution_count": 4,
   "metadata": {},
   "outputs": [
    {
     "name": "stdout",
     "output_type": "stream",
     "text": [
      "b'hello ooo'\n"
     ]
    }
   ],
   "source": [
    "hello = tf.constant(\"hello ooo\")\n",
    "# 构建阶段\n",
    "sess = tf.Session()\n",
    "# tf2.0+就没有这个了，1.多的还是不友好\n",
    "print(sess.run(hello))\n",
    "# 执行阶段"
   ]
  },
  {
   "cell_type": "code",
   "execution_count": 1,
   "metadata": {},
   "outputs": [],
   "source": [
    "# keras眼中只有人性\n",
    "# 但是也是最慢的，而且也看不到细节，尤其是在tf级别的报错"
   ]
  },
  {
   "cell_type": "code",
   "execution_count": null,
   "metadata": {},
   "outputs": [],
   "source": [
    "# 一个神经元，一个输入一个激活\n"
   ]
  }
 ],
 "metadata": {
  "kernelspec": {
   "display_name": "Python 2",
   "language": "python",
   "name": "python2"
  },
  "language_info": {
   "codemirror_mode": {
    "name": "ipython",
    "version": 2
   },
   "file_extension": ".py",
   "mimetype": "text/x-python",
   "name": "python",
   "nbconvert_exporter": "python",
   "pygments_lexer": "ipython2",
   "version": "2.7.6"
  }
 },
 "nbformat": 4,
 "nbformat_minor": 0
}
