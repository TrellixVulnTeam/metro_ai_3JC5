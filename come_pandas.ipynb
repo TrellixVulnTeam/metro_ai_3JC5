{
 "cells": [
  {
   "cell_type": "code",
   "execution_count": 1,
   "metadata": {
    "collapsed": true
   },
   "outputs": [
    {
     "name": "stdout",
     "output_type": "stream",
     "text": [
      "[0 1 2 3 4 5 6 7 8 9]\n<class 'numpy.ndarray'>\n"
     ]
    }
   ],
   "source": [
    "import numpy as np, pandas as pd\n",
    "arr1 = np.arange(10)\n",
    "print(arr1)\n",
    "print(type(arr1))"
   ]
  },
  {
   "cell_type": "code",
   "execution_count": 2,
   "metadata": {},
   "outputs": [
    {
     "name": "stdout",
     "output_type": "stream",
     "text": [
      "0    0\n1    1\n2    2\n3    3\n4    4\n5    5\n6    6\n7    7\n8    8\n9    9\ndtype: int32\n"
     ]
    }
   ],
   "source": [
    "s1 = pd.Series(arr1)\n",
    "print(s1)\n",
    "# 这个就是创建类似一维数组用的，不过比一维数组强的是\n",
    "# 还可以通过索引标签获得数据，然后还能自动对齐\n",
    "# 当然这个左侧的是计数用的"
   ]
  },
  {
   "cell_type": "code",
   "execution_count": 3,
   "metadata": {},
   "outputs": [
    {
     "name": "stdout",
     "output_type": "stream",
     "text": [
      "<class 'pandas.core.series.Series'>\n"
     ]
    }
   ],
   "source": [
    "print(type(s1))"
   ]
  },
  {
   "cell_type": "code",
   "execution_count": 4,
   "metadata": {},
   "outputs": [
    {
     "name": "stdout",
     "output_type": "stream",
     "text": [
      "{'a': 10, 'b': 20, 'c': 30, 'd': 40, 'e': 50}\n<class 'dict'>\n"
     ]
    }
   ],
   "source": [
    "dic1 = {'a':10,'b':20,'c':30,'d':40,'e':50}\n",
    "print(dic1)\n",
    "print(type(dic1))\n",
    "# 也可以通过dataframe中的某一行或者某一列创建序列"
   ]
  },
  {
   "cell_type": "code",
   "execution_count": 5,
   "metadata": {},
   "outputs": [
    {
     "name": "stdout",
     "output_type": "stream",
     "text": [
      "[[ 0  1  2]\n [ 3  4  5]\n [ 6  7  8]\n [ 9 10 11]]\n<class 'numpy.ndarray'>\n"
     ]
    }
   ],
   "source": [
    "# dataframe数据框，这里通过二维数组创建数据框\n",
    "# 因为shape为二，就是二维\n",
    "arr2 = np.array(np.arange(12)).reshape(4,3)\n",
    "print(arr2)\n",
    "print(type(arr2))"
   ]
  },
  {
   "cell_type": "code",
   "execution_count": 6,
   "metadata": {},
   "outputs": [
    {
     "name": "stdout",
     "output_type": "stream",
     "text": [
      "   0   1   2\n0  0   1   2\n1  3   4   5\n2  6   7   8\n3  9  10  11\n<class 'pandas.core.frame.DataFrame'>\n"
     ]
    }
   ],
   "source": [
    "df1 = pd.DataFrame(arr2)\n",
    "print(df1)\n",
    "# 最上一行和左侧一列是显示行数和列数\n",
    "print(type(df1))"
   ]
  },
  {
   "cell_type": "code",
   "execution_count": 7,
   "metadata": {},
   "outputs": [
    {
     "name": "stdout",
     "output_type": "stream",
     "text": [
      "{'one': {'a': 1, 'b': 2, 'c': 3, 'd': 4}, 'two': {'a': 5, 'b': 6, 'c': 7, 'd': 8}, 'three': {'a': 9, 'b': 10, 'c': 11, 'd': 12}}\n<class 'dict'>\n"
     ]
    }
   ],
   "source": [
    "dic3 = {'one':{'a':1,'b':2,'c':3,'d':4},'two':{'a':5,'b':6,'c':7,'d':8},'three':{'a':9,'b':10,'c':11,'d':12}}\n",
    "print(dic3)\n",
    "print(type(dic3))"
   ]
  },
  {
   "cell_type": "code",
   "execution_count": 8,
   "metadata": {},
   "outputs": [
    {
     "name": "stdout",
     "output_type": "stream",
     "text": [
      "   one  two  three\na    1    5      9\nb    2    6     10\nc    3    7     11\nd    4    8     12\n<class 'pandas.core.frame.DataFrame'>\n"
     ]
    }
   ],
   "source": [
    "df3 = pd.DataFrame(dic3)\n",
    "# 这个就是用字典来创建了，这个也比较直观\n",
    "print(df3)\n",
    "print(type(df3))"
   ]
  },
  {
   "cell_type": "code",
   "execution_count": 9,
   "metadata": {},
   "outputs": [
    {
     "name": "stdout",
     "output_type": "stream",
     "text": [
      "a    1\nb    2\nc    3\nd    4\nName: one, dtype: int64\n<class 'pandas.core.series.Series'>\n"
     ]
    }
   ],
   "source": [
    "s3 = df3['one']\n",
    "print(s3)\n",
    "print(type(s3))"
   ]
  },
  {
   "cell_type": "code",
   "execution_count": 11,
   "metadata": {},
   "outputs": [
    {
     "name": "stdout",
     "output_type": "stream",
     "text": [
      "0    1\n1    1\n2    2\n3    3\n4    5\n5    8\ndtype: int32\nRangeIndex(start=0, stop=6, step=1)\n"
     ]
    }
   ],
   "source": [
    "s4 = pd.Series(np.array([1,1,2,3,5,8]))\n",
    "print(s4)\n",
    "print(s4.index)"
   ]
  },
  {
   "cell_type": "code",
   "execution_count": 12,
   "metadata": {},
   "outputs": [
    {
     "name": "stdout",
     "output_type": "stream",
     "text": [
      "a    1\nb    1\nc    2\nd    3\ne    5\nf    8\ndtype: int32\n"
     ]
    }
   ],
   "source": [
    "s4.index = ['a','b','c','d','e','f']\n",
    "print(s4)"
   ]
  },
  {
   "cell_type": "code",
   "execution_count": 13,
   "metadata": {},
   "outputs": [
    {
     "name": "stdout",
     "output_type": "stream",
     "text": [
      "s4[3]:  3\ns4[e]:  5\ns4[1,3,5]:  b    1\nd    3\nf    8\ndtype: int32\ns4[['a','b','d','f']]:  a    1\nb    1\nd    3\nf    8\ndtype: int32\ns4[:4]:  a    1\nb    1\nc    2\nd    3\ndtype: int32\ns4['c':]:  c    2\nd    3\ne    5\nf    8\ndtype: int32\ns4['b':'e']:  b    1\nc    2\nd    3\ne    5\ndtype: int32\n"
     ]
    }
   ],
   "source": [
    "print('s4[3]: ',s4[3])\n",
    "print('s4[e]: ',s4['e'])\n",
    "print(\"s4[1,3,5]: \",s4[[1,3,5]])\n",
    "print(\"s4[['a','b','d','f']]: \",s4[['a','b','d','f']])\n",
    "print('s4[:4]: ',s4[:4])\n",
    "print(\"s4['c':]: \",s4['c':])\n",
    "print(\"s4['b':'e']: \",s4['b':'e'])\n",
    "# 用索引来搜索，注意这个获取数据的话，对应的值是可以返回的"
   ]
  },
  {
   "cell_type": "code",
   "execution_count": 14,
   "metadata": {},
   "outputs": [
    {
     "name": "stdout",
     "output_type": "stream",
     "text": [
      "a    10\nb    15\nc    20\nd    30\ne    55\nf    80\ndtype: int32\na    12\nc    11\ng    13\nb    15\nd    14\nf    16\ndtype: int32\na    22.0\nb    30.0\nc    31.0\nd    44.0\ne     NaN\nf    96.0\ng     NaN\ndtype: float64\na    0.833333\nb    1.000000\nc    1.818182\nd    2.142857\ne         NaN\nf    5.000000\ng         NaN\ndtype: float64\n"
     ]
    }
   ],
   "source": [
    "# 自动化对齐\n",
    "s5 = pd.Series(np.array([10,15,20,30,55,80]),index = ['a','b','c','d','e','f'])\n",
    "print(s5)\n",
    "# 索引对不上的就产生缺失值NAN\n",
    "s6 = pd.Series(np.array([12,11,13,15,14,16]),index = ['a','c','g','b','d','f'])\n",
    "print(s6)\n",
    "print(s5 + s6)\n",
    "print(s5/s6)\n",
    "\n",
    "\n"
   ]
  },
  {
   "cell_type": "code",
   "execution_count": 15,
   "metadata": {},
   "outputs": [],
   "source": [
    "import pandas as pd\n",
    "# 可以用这个pandas查询数据\n",
    "stu_dic = {'Age':[14,13,13,14,14,12,12,15,13,12,11,14,12,15,16,12,15,11,15],\n",
    "'Height':[69,56.5,65.3,62.8,63.5,57.3,59.8,62.5,62.5,59,51.3,64.3,56.3,66.5,72,64.8,67,57.5,66.5],\n",
    "'Name':['Alfred','Alice','Barbara','Carol','Henry','James','Jane','Janet','Jeffrey','John','Joyce','Judy','Louise','Marry','Philip','Robert','Ronald','Thomas','Willam'],\n",
    "'Sex':['M','F','F','F','M','M','F','F','M','M','F','F','F','F','M','M','M','M','M'],\n",
    "'Weight':[112.5,84,98,102.5,102.5,83,84.5,112.5,84,99.5,50.5,90,77,112,150,128,133,85,112]}\n",
    "student = pd.DataFrame(stu_dic)"
   ]
  },
  {
   "cell_type": "code",
   "execution_count": 16,
   "metadata": {},
   "outputs": [
    {
     "name": "stdout",
     "output_type": "stream",
     "text": [
      "   Age  Height     Name Sex  Weight\n0   14    69.0   Alfred   M   112.5\n1   13    56.5    Alice   F    84.0\n2   13    65.3  Barbara   F    98.0\n3   14    62.8    Carol   F   102.5\n4   14    63.5    Henry   M   102.5\n"
     ]
    }
   ],
   "source": [
    "print(student.head())\n",
    "# 查询前五行数据"
   ]
  },
  {
   "cell_type": "code",
   "execution_count": 17,
   "metadata": {},
   "outputs": [
    {
     "name": "stdout",
     "output_type": "stream",
     "text": [
      "    Age  Height    Name Sex  Weight\n14   16    72.0  Philip   M   150.0\n15   12    64.8  Robert   M   128.0\n16   15    67.0  Ronald   M   133.0\n17   11    57.5  Thomas   M    85.0\n18   15    66.5  Willam   M   112.0\n"
     ]
    }
   ],
   "source": [
    "print(student.tail())\n",
    "# 查询最后五行数据"
   ]
  },
  {
   "cell_type": "code",
   "execution_count": 18,
   "metadata": {},
   "outputs": [
    {
     "name": "stdout",
     "output_type": "stream",
     "text": [
      "   Age  Height     Name Sex  Weight\n0   14    69.0   Alfred   M   112.5\n2   13    65.3  Barbara   F    98.0\n4   14    63.5    Henry   M   102.5\n5   12    57.3    James   M    83.0\n7   15    62.5    Janet   F   112.5\n"
     ]
    }
   ],
   "source": [
    "print(student.loc[[0,2,4,5,7]])\n",
    "# 查询指定的行"
   ]
  },
  {
   "cell_type": "code",
   "execution_count": 20,
   "metadata": {},
   "outputs": [
    {
     "name": "stdout",
     "output_type": "stream",
     "text": [
      "      Name  Height  Weight\n0   Alfred    69.0   112.5\n1    Alice    56.5    84.0\n2  Barbara    65.3    98.0\n3    Carol    62.8   102.5\n4    Henry    63.5   102.5\n"
     ]
    }
   ],
   "source": [
    "print(student[['Name','Height','Weight']].head())\n",
    "# 同样可以查询指定的列\n"
   ]
  },
  {
   "cell_type": "code",
   "execution_count": 21,
   "metadata": {},
   "outputs": [
    {
     "name": "stdout",
     "output_type": "stream",
     "text": [
      "      Name  Height  Weight\n0   Alfred    69.0   112.5\n1    Alice    56.5    84.0\n2  Barbara    65.3    98.0\n3    Carol    62.8   102.5\n4    Henry    63.5   102.5\n"
     ]
    }
   ],
   "source": [
    "print(student.loc[:,['Name','Height','Weight']].head())\n",
    "# 这个也可以"
   ]
  },
  {
   "cell_type": "code",
   "execution_count": 22,
   "metadata": {},
   "outputs": [
    {
     "name": "stdout",
     "output_type": "stream",
     "text": [
      "    Age  Height     Name Sex  Weight\n1    13    56.5    Alice   F    84.0\n2    13    65.3  Barbara   F    98.0\n3    14    62.8    Carol   F   102.5\n7    15    62.5    Janet   F   112.5\n11   14    64.3     Judy   F    90.0\n13   15    66.5    Marry   F   112.0\n"
     ]
    }
   ],
   "source": [
    "print(student[(student['Sex']=='F') & (student['Age']>12)])\n",
    "# 查询十二岁以上所有的信息"
   ]
  },
  {
   "cell_type": "code",
   "execution_count": 23,
   "metadata": {},
   "outputs": [
    {
     "name": "stdout",
     "output_type": "stream",
     "text": [
      "       Name  Height  Weight\n1     Alice    56.5    84.0\n2   Barbara    65.3    98.0\n3     Carol    62.8   102.5\n7     Janet    62.5   112.5\n11     Judy    64.3    90.0\n13    Marry    66.5   112.0\n"
     ]
    }
   ],
   "source": [
    "print(student[(student['Sex']=='F') & (student['Age']>12)][['Name','Height','Weight']])"
   ]
  },
  {
   "cell_type": "code",
   "execution_count": 24,
   "metadata": {},
   "outputs": [
    {
     "name": "stdout",
     "output_type": "stream",
     "text": [
      "非空元素计算:  100\n最小值:  -4.1270333212494705\n最大值:  7.781921030926066\n最小值的位置:  81\n最大值的位置:  39\n10%分位数:  0.6870184644069928\n求和:  307.0224566250873\n均值:  3.070224566250873\n中位数:  3.204555266776845\n众数:  0    -4.127033\n1    -1.800907\n2    -1.485370\n3    -1.149955\n4    -1.042510\n5    -0.634054\n6    -0.093811\n7     0.108380\n8     0.196053\n9     0.618049\n10    0.694682\n11    0.714737\n12    0.862022\n13    0.944299\n14    1.051527\n15    1.147491\n16    1.205686\n17    1.429130\n18    1.558823\n19    1.688061\n20    1.726953\n21    1.830564\n22    1.867108\n23    1.903515\n24    1.976237\n25    2.061389\n26    2.139809\n27    2.200071\n28    2.204320\n29    2.310468\n        ...   \n70    4.131477\n71    4.263959\n72    4.351108\n73    4.408456\n74    4.409441\n75    4.510828\n76    4.534737\n77    4.633188\n78    4.682018\n79    4.683349\n80    4.719177\n81    4.727435\n82    4.774326\n83    4.906648\n84    4.969840\n85    4.983892\n86    5.067601\n87    5.091877\n88    5.095157\n89    5.117938\n90    5.300071\n91    5.636303\n92    5.642211\n93    5.642316\n94    5.783972\n95    5.865414\n96    6.091318\n97    7.015686\n98    7.061207\n99    7.781921\nLength: 100, dtype: float64\n方差:  4.005609378535087\n标准差:  2.001401853335578\n平均绝对偏差:  1.5112880411556104\n偏度:  -0.6494780760484293\n峰度:  1.2201094052398012\n描述性统计指标:  count    100.000000\nmean       3.070225\nstd        2.001402\nmin       -4.127033\n25%        2.040101\n50%        3.204555\n75%        4.434788\nmax        7.781921\ndtype: float64\n"
     ]
    }
   ],
   "source": [
    "# 进行统计分析\n",
    "np.random.seed(1234)\n",
    "d1 = pd.Series(2*np.random.normal(size = 100)+3)\n",
    "d2 = np.random.f(2,4,size = 100)\n",
    "d3 = np.random.randint(1,100,size = 100)\n",
    "\n",
    "print('非空元素计算: ', d1.count()) #非空元素计算\n",
    "print('最小值: ', d1.min()) #最小值\n",
    "print('最大值: ', d1.max()) #最大值\n",
    "print('最小值的位置: ', d1.idxmin()) #最小值的位置，类似于R中的which.min函数\n",
    "print('最大值的位置: ', d1.idxmax()) #最大值的位置，类似于R中的which.max函数\n",
    "print('10%分位数: ', d1.quantile(0.1)) #10%分位数\n",
    "print('求和: ', d1.sum()) #求和\n",
    "print('均值: ', d1.mean()) #均值\n",
    "print('中位数: ', d1.median()) #中位数\n",
    "print('众数: ', d1.mode()) #众数\n",
    "print('方差: ', d1.var()) #方差\n",
    "print('标准差: ', d1.std()) #标准差\n",
    "print('平均绝对偏差: ', d1.mad()) #平均绝对偏差\n",
    "print('偏度: ', d1.skew()) #偏度\n",
    "print('峰度: ', d1.kurt()) #峰度\n",
    "print('描述性统计指标: ', d1.describe()) #一次性输出多个描述性统计指标\n",
    "# 这个describe只能针对序列或者数据框，一维数组是不行的\n"
   ]
  },
  {
   "cell_type": "code",
   "execution_count": 25,
   "metadata": {},
   "outputs": [
    {
     "name": "stdout",
     "output_type": "stream",
     "text": [
      "Count        100.000000\nMin           -4.127033\nWhicn_Min     81.000000\nQ1             2.040101\nMedian         3.204555\nQ3             4.434788\nMean           3.070225\nMax            7.781921\nWhich_Max     39.000000\nMad            1.511288\nVar            4.005609\nStd            2.001402\nSkew          -0.649478\nKurt           1.220109\ndtype: float64\n"
     ]
    }
   ],
   "source": [
    "def stats(x):\n",
    "\treturn pd.Series([x.count(),x.min(),x.idxmin(),x.quantile(.25),x.median(),x.quantile(.75),\n",
    "                      x.mean(),x.max(),x.idxmax(),x.mad(),x.var(),x.std(),x.skew(),x.kurt()],\n",
    "                     index = ['Count','Min','Whicn_Min','Q1','Median','Q3','Mean','Max',\n",
    "                              'Which_Max','Mad','Var','Std','Skew','Kurt'])\n",
    "# 汇总指标\n",
    "print(stats(d1))"
   ]
  },
  {
   "cell_type": "code",
   "execution_count": 26,
   "metadata": {},
   "outputs": [
    {
     "name": "stdout",
     "output_type": "stream",
     "text": [
      "         x1        x2    x3\n0  3.942870  1.369531  55.0\n1  0.618049  0.943264  68.0\n2  5.865414  0.590663  73.0\n3  2.374696  0.206548  59.0\n4  1.558823  0.223204  60.0\n"
     ]
    }
   ],
   "source": [
    "df = pd.DataFrame(np.array([d1,d2,d3]).T,columns=['x1','x2','x3'])\n",
    "print(df.head())\n"
   ]
  },
  {
   "cell_type": "code",
   "execution_count": 27,
   "metadata": {},
   "outputs": [
    {
     "name": "stdout",
     "output_type": "stream",
     "text": [
      "                   x1          x2          x3\nCount      100.000000  100.000000  100.000000\nMin         -4.127033    0.014330    3.000000\nWhicn_Min   81.000000   72.000000   76.000000\nQ1           2.040101    0.249580   25.000000\nMedian       3.204555    1.000613   54.500000\nQ3           4.434788    2.101581   73.000000\nMean         3.070225    2.028608   51.490000\nMax          7.781921   18.791565   98.000000\nWhich_Max   39.000000   53.000000   96.000000\nMad          1.511288    1.922669   24.010800\nVar          4.005609   10.206447  780.090808\nStd          2.001402    3.194753   27.930106\nSkew        -0.649478    3.326246   -0.118917\nKurt         1.220109   12.636286   -1.211579\n"
     ]
    }
   ],
   "source": [
    "print(df.apply(stats))\n",
    "# 将函数应用到数据框的每一列，自动生成想要的"
   ]
  },
  {
   "cell_type": "code",
   "execution_count": 28,
   "metadata": {},
   "outputs": [
    {
     "name": "stdout",
     "output_type": "stream",
     "text": [
      "count     19\nunique     2\ntop        M\nfreq      10\nName: Sex, dtype: object\n"
     ]
    }
   ],
   "source": [
    "# 前面的都是对数值型数据进行统计描述。如果是离散型的数据\n",
    "# 就不能用这个统计口径了，这时候使用describe就行了\n",
    "print(student['Sex'].describe())\n"
   ]
  },
  {
   "cell_type": "code",
   "execution_count": 29,
   "metadata": {},
   "outputs": [
    {
     "name": "stdout",
     "output_type": "stream",
     "text": [
      "          x1        x2        x3\nx1  1.000000  0.136085  0.037185\nx2  0.136085  1.000000 -0.005688\nx3  0.037185 -0.005688  1.000000\n"
     ]
    }
   ],
   "source": [
    "print(df.corr())\n",
    "# 连续变量的相关系数"
   ]
  },
  {
   "cell_type": "code",
   "execution_count": 30,
   "metadata": {},
   "outputs": [
    {
     "name": "stdout",
     "output_type": "stream",
     "text": [
      "         x1        x2        x3\nx1  1.00000  0.178950  0.006590\nx2  0.17895  1.000000 -0.033874\nx3  0.00659 -0.033874  1.000000\n"
     ]
    }
   ],
   "source": [
    "print(df.corr('spearman'))\n",
    "# 相关系数计算"
   ]
  },
  {
   "cell_type": "code",
   "execution_count": 31,
   "metadata": {},
   "outputs": [
    {
     "name": "stdout",
     "output_type": "stream",
     "text": [
      "x1    1.000000\nx2    0.136085\nx3    0.037185\ndtype: float64\n"
     ]
    }
   ],
   "source": [
    "print(df.corrwith(df['x1']))\n",
    "# 这个是只关心X1和其余变量之间相关系数"
   ]
  },
  {
   "cell_type": "code",
   "execution_count": 32,
   "metadata": {},
   "outputs": [
    {
     "name": "stdout",
     "output_type": "stream",
     "text": [
      "          x1         x2          x3\nx1  4.005609   0.870124    2.078596\nx2  0.870124  10.206447   -0.507512\nx3  2.078596  -0.507512  780.090808\n"
     ]
    }
   ],
   "source": [
    "print(df.cov())\n",
    "# 构造协方差矩阵"
   ]
  },
  {
   "cell_type": "code",
   "execution_count": 33,
   "metadata": {},
   "outputs": [
    {
     "name": "stdout",
     "output_type": "stream",
     "text": [
      "           Name Sex  Age  Height  Weight\n0  LiuShunxiang   M   27   165.7      61\n1     Zhangshan   F   23   167.2      63\n"
     ]
    }
   ],
   "source": [
    "# 这个pandas还可以实现数据库操作的\n",
    "dic = {'Name':['LiuShunxiang','Zhangshan'],'Sex':['M','F'],'Age':[27,23],'Height':[165.7,167.2],'Weight':[61,63]}\n",
    "student2 = pd.DataFrame(dic)\n",
    "print(student2)\n",
    "\n"
   ]
  },
  {
   "cell_type": "code",
   "execution_count": 34,
   "metadata": {},
   "outputs": [
    {
     "name": "stdout",
     "output_type": "stream",
     "text": [
      "    Age  Height          Name Sex  Weight\n0    14    69.0        Alfred   M   112.5\n1    13    56.5         Alice   F    84.0\n2    13    65.3       Barbara   F    98.0\n3    14    62.8         Carol   F   102.5\n4    14    63.5         Henry   M   102.5\n5    12    57.3         James   M    83.0\n6    12    59.8          Jane   F    84.5\n7    15    62.5         Janet   F   112.5\n8    13    62.5       Jeffrey   M    84.0\n9    12    59.0          John   M    99.5\n10   11    51.3         Joyce   F    50.5\n11   14    64.3          Judy   F    90.0\n12   12    56.3        Louise   F    77.0\n13   15    66.5         Marry   F   112.0\n14   16    72.0        Philip   M   150.0\n15   12    64.8        Robert   M   128.0\n16   15    67.0        Ronald   M   133.0\n17   11    57.5        Thomas   M    85.0\n18   15    66.5        Willam   M   112.0\n0    27   165.7  LiuShunxiang   M    61.0\n1    23   167.2     Zhangshan   F    63.0\n"
     ]
    },
    {
     "name": "stderr",
     "output_type": "stream",
     "text": [
      "C:\\python_code\\metro_ai\\lib\\site-packages\\ipykernel_launcher.py:1: FutureWarning: Sorting because non-concatenation axis is not aligned. A future version\nof pandas will change to not sort by default.\n\nTo accept the future behavior, pass 'sort=False'.\n\nTo retain the current behavior and silence the warning, pass 'sort=True'.\n\n  \"\"\"Entry point for launching an IPython kernel.\n"
     ]
    }
   ],
   "source": [
    "student3 = pd.concat([student,student2])\n",
    "print(student3)\n",
    "# 这个是将学生2加到student里面去\n",
    "# 这个还能自动对齐两个数据框的变量\n"
   ]
  },
  {
   "cell_type": "code",
   "execution_count": 35,
   "metadata": {},
   "outputs": [
    {
     "name": "stdout",
     "output_type": "stream",
     "text": [
      "   Age  Height          Name Sex  Weight  Score\n0   27   165.7  LiuShunxiang   M      61    NaN\n1   23   167.2     Zhangshan   F      63    NaN\n"
     ]
    }
   ],
   "source": [
    "print(pd.DataFrame(student2, columns=['Age','Height','Name','Sex','Weight','Score']))\n",
    "# 直接新增一列，没有值就NAN"
   ]
  },
  {
   "cell_type": "code",
   "execution_count": 36,
   "metadata": {},
   "outputs": [
    {
     "ename": "NameError",
     "evalue": "name 'student2' is not defined",
     "traceback": [
      "\u001b[1;31m---------------------------------------------------------------------------\u001b[0m",
      "\u001b[1;31mNameError\u001b[0m                                 Traceback (most recent call last)",
      "\u001b[1;32m<ipython-input-36-3453d237c14b>\u001b[0m in \u001b[0;36m<module>\u001b[1;34m\u001b[0m\n\u001b[0;32m      1\u001b[0m \u001b[1;32mdel\u001b[0m \u001b[0mstudent2\u001b[0m \u001b[1;31m#删除数据框student2, 通过del命令可以删除python的所有对象\u001b[0m\u001b[1;33m\u001b[0m\u001b[0m\n\u001b[1;32m----> 2\u001b[1;33m \u001b[0mprint\u001b[0m\u001b[1;33m(\u001b[0m\u001b[0mstudent2\u001b[0m\u001b[1;33m)\u001b[0m\u001b[1;33m\u001b[0m\u001b[0m\n\u001b[0m",
      "\u001b[1;31mNameError\u001b[0m: name 'student2' is not defined"
     ],
     "output_type": "error"
    }
   ],
   "source": [
    "del student2 #删除数据框student2, 通过del命令可以删除python的所有对象\n",
    "print(student2)"
   ]
  },
  {
   "cell_type": "code",
   "execution_count": 37,
   "metadata": {},
   "outputs": [
    {
     "name": "stdout",
     "output_type": "stream",
     "text": [
      "    Age  Height     Name Sex  Weight\n2    13    65.3  Barbara   F    98.0\n4    14    63.5    Henry   M   102.5\n5    12    57.3    James   M    83.0\n7    15    62.5    Janet   F   112.5\n8    13    62.5  Jeffrey   M    84.0\n9    12    59.0     John   M    99.5\n10   11    51.3    Joyce   F    50.5\n11   14    64.3     Judy   F    90.0\n12   12    56.3   Louise   F    77.0\n13   15    66.5    Marry   F   112.0\n14   16    72.0   Philip   M   150.0\n15   12    64.8   Robert   M   128.0\n16   15    67.0   Ronald   M   133.0\n17   11    57.5   Thomas   M    85.0\n18   15    66.5   Willam   M   112.0\n"
     ]
    }
   ],
   "source": [
    "print(student.drop([0,1,3,6]))\n",
    "# 删除指定行"
   ]
  },
  {
   "cell_type": "code",
   "execution_count": 38,
   "metadata": {},
   "outputs": [
    {
     "name": "stdout",
     "output_type": "stream",
     "text": [
      "    Age  Height    Name Sex  Weight\n7    15    62.5   Janet   F   112.5\n13   15    66.5   Marry   F   112.0\n14   16    72.0  Philip   M   150.0\n16   15    67.0  Ronald   M   133.0\n18   15    66.5  Willam   M   112.0\n"
     ]
    }
   ],
   "source": [
    "print(student[student['Age']>14])\n",
    "# 删除十四岁一下的学生"
   ]
  },
  {
   "cell_type": "code",
   "execution_count": 39,
   "metadata": {},
   "outputs": [
    {
     "name": "stdout",
     "output_type": "stream",
     "text": [
      "   Age     Name Sex\n0   14   Alfred   M\n1   13    Alice   F\n2   13  Barbara   F\n3   14    Carol   F\n4   14    Henry   M\n"
     ]
    }
   ],
   "source": [
    "print(student.drop(['Height','Weight'],axis=1).head())\n",
    "# 删除指定列\n",
    "# axis为0就是删除行"
   ]
  },
  {
   "cell_type": "code",
   "execution_count": 41,
   "metadata": {},
   "outputs": [
    {
     "name": "stdout",
     "output_type": "stream",
     "text": [
      "           Name  Height\n0  LiuShunxiang   173.0\n"
     ]
    }
   ],
   "source": [
    "student3.loc[student3['Name'] == 'LiuShunxiang','Height']=173\n",
    "# 修改原始记录数据\n",
    "print(student3[student3['Name'] == 'LiuShunxiang'][['Name','Height']])"
   ]
  },
  {
   "cell_type": "code",
   "execution_count": 42,
   "metadata": {},
   "outputs": [
    {
     "name": "stdout",
     "output_type": "stream",
     "text": [
      "           Age     Height      Weight\nSex                                  \nF    13.222222  60.588889   90.111111\nM    13.400000  63.910000  108.950000\n"
     ]
    }
   ],
   "source": [
    "# 实现聚合操作\n",
    "print(student.groupby('Sex').mean())\n",
    "# 计算平均值"
   ]
  },
  {
   "cell_type": "code",
   "execution_count": 43,
   "metadata": {},
   "outputs": [
    {
     "name": "stdout",
     "output_type": "stream",
     "text": [
      "        Height      Weight\nSex                       \nF    60.588889   90.111111\nM    63.910000  108.950000\n"
     ]
    }
   ],
   "source": [
    "print(student.drop('Age',axis=1).groupby('Sex').mean())\n",
    "# 不对年龄进行计算"
   ]
  },
  {
   "cell_type": "code",
   "execution_count": 44,
   "metadata": {},
   "outputs": [
    {
     "name": "stdout",
     "output_type": "stream",
     "text": [
      "            Height  Weight\nSex Age                   \nF   11   51.300000   50.50\n    12   58.050000   80.75\n    13   60.900000   91.00\n    14   63.550000   96.25\n    15   64.500000  112.25\nM   11   57.500000   85.00\n    12   60.366667  103.50\n    13   62.500000   84.00\n    14   66.250000  107.50\n    15   66.750000  122.50\n    16   72.000000  150.00\n"
     ]
    }
   ],
   "source": [
    "print(student.groupby(['Sex','Age']).mean())\n",
    "# 使用分组变量，根据性别和年龄，计算身高和体重的平均值\n"
   ]
  },
  {
   "cell_type": "code",
   "execution_count": 45,
   "metadata": {},
   "outputs": [
    {
     "name": "stdout",
     "output_type": "stream",
     "text": [
      "        Height             Weight        \n          mean median        mean  median\nSex                                      \nF    60.588889  62.50   90.111111   90.00\nM    63.910000  64.15  108.950000  107.25\n"
     ]
    }
   ],
   "source": [
    "print(student.drop('Age',axis=1).groupby('Sex').agg([np.mean,np.median]))\n",
    "# 对每个分组计算多个统计量"
   ]
  },
  {
   "cell_type": "code",
   "execution_count": 47,
   "metadata": {},
   "outputs": [
    {
     "name": "stdout",
     "output_type": "stream",
     "text": [
      "0    11\n1     4\n2    19\n3    12\n4     4\n5    14\n6    17\n7    10\n8     1\n9     5\ndtype: int32\n0    11\n1     4\n2    19\n3    12\n4     4\n5    14\n6    17\n7    10\n8     1\n9     5\ndtype: int32\n\n\n2    19\n6    17\n5    14\n3    12\n0    11\n7    10\n9     5\n4     4\n1     4\n8     1\ndtype: int32\n"
     ]
    }
   ],
   "source": [
    "Data = pd.Series(np.array(np.random.randint(1,20,10)))\n",
    "print(Data)\n",
    "print(Data.sort_index())\n",
    "print(\"\\n\")\n",
    "print(Data.sort_values(ascending=False))\n",
    "# 从大到小反着来排序\n",
    "# 进行排序操作"
   ]
  },
  {
   "cell_type": "code",
   "execution_count": 48,
   "metadata": {},
   "outputs": [
    {
     "name": "stdout",
     "output_type": "stream",
     "text": [
      "    Age  Height     Name Sex  Weight\n10   11    51.3    Joyce   F    50.5\n17   11    57.5   Thomas   M    85.0\n12   12    56.3   Louise   F    77.0\n5    12    57.3    James   M    83.0\n9    12    59.0     John   M    99.5\n6    12    59.8     Jane   F    84.5\n15   12    64.8   Robert   M   128.0\n1    13    56.5    Alice   F    84.0\n8    13    62.5  Jeffrey   M    84.0\n2    13    65.3  Barbara   F    98.0\n3    14    62.8    Carol   F   102.5\n4    14    63.5    Henry   M   102.5\n11   14    64.3     Judy   F    90.0\n0    14    69.0   Alfred   M   112.5\n7    15    62.5    Janet   F   112.5\n13   15    66.5    Marry   F   112.0\n18   15    66.5   Willam   M   112.0\n16   15    67.0   Ronald   M   133.0\n14   16    72.0   Philip   M   150.0\n"
     ]
    }
   ],
   "source": [
    "print(student.sort_values(by = ['Age','Height']))\n",
    "# 一般都是按值排序"
   ]
  },
  {
   "cell_type": "code",
   "execution_count": 49,
   "metadata": {},
   "outputs": [
    {
     "name": "stdout",
     "output_type": "stream",
     "text": [
      "      Name  Score\n0   Alfred     88\n1    Alice     76\n2  Barbara     89\n3    Carol     67\n4    Henry     79\n5  Jeffrey     90\n6     Judy     92\n7   Philip     86\n8   Robert     73\n9   Willam     77\n"
     ]
    }
   ],
   "source": [
    "dic2 = {'Name':['Alfred','Alice','Barbara','Carol','Henry','Jeffrey','Judy','Philip','Robert','Willam'],\n",
    "        'Score':[88,76,89,67,79,90,92,86,73,77]}\n",
    "score = pd.DataFrame(dic2)\n",
    "print(score)"
   ]
  },
  {
   "cell_type": "code",
   "execution_count": 50,
   "metadata": {},
   "outputs": [
    {
     "name": "stdout",
     "output_type": "stream",
     "text": [
      "   Age  Height     Name Sex  Weight  Score\n0   14    69.0   Alfred   M   112.5     88\n1   13    56.5    Alice   F    84.0     76\n2   13    65.3  Barbara   F    98.0     89\n3   14    62.8    Carol   F   102.5     67\n4   14    63.5    Henry   M   102.5     79\n5   13    62.5  Jeffrey   M    84.0     90\n6   14    64.3     Judy   F    90.0     92\n7   16    72.0   Philip   M   150.0     86\n8   12    64.8   Robert   M   128.0     73\n9   15    66.5   Willam   M   112.0     77\n"
     ]
    }
   ],
   "source": [
    "stu_score1 = pd.merge(student, score, on='Name')\n",
    "print(stu_score1)\n",
    "# 将两个表关联起来用merge，这个实现的是两个表之间的内连接\n",
    "# 也就是返回两表中共同的部分\n"
   ]
  },
  {
   "cell_type": "code",
   "execution_count": 51,
   "metadata": {},
   "outputs": [
    {
     "name": "stdout",
     "output_type": "stream",
     "text": [
      "    Age  Height     Name Sex  Weight  Score\n0    14    69.0   Alfred   M   112.5   88.0\n1    13    56.5    Alice   F    84.0   76.0\n2    13    65.3  Barbara   F    98.0   89.0\n3    14    62.8    Carol   F   102.5   67.0\n4    14    63.5    Henry   M   102.5   79.0\n5    12    57.3    James   M    83.0    NaN\n6    12    59.8     Jane   F    84.5    NaN\n7    15    62.5    Janet   F   112.5    NaN\n8    13    62.5  Jeffrey   M    84.0   90.0\n9    12    59.0     John   M    99.5    NaN\n10   11    51.3    Joyce   F    50.5    NaN\n11   14    64.3     Judy   F    90.0   92.0\n12   12    56.3   Louise   F    77.0    NaN\n13   15    66.5    Marry   F   112.0    NaN\n14   16    72.0   Philip   M   150.0   86.0\n15   12    64.8   Robert   M   128.0   73.0\n16   15    67.0   Ronald   M   133.0    NaN\n17   11    57.5   Thomas   M    85.0    NaN\n18   15    66.5   Willam   M   112.0   77.0\n"
     ]
    }
   ],
   "source": [
    "# 可以通过how参数设置连接方式，左右外\n",
    "stu_score2 = pd.merge(student, score, on='Name', how='left')\n",
    "print(stu_score2)\n",
    "# 左连接也就是保留左边表的所有信息，能匹配多少就多少，没有的就NAN\n",
    "# 类推右连接"
   ]
  },
  {
   "cell_type": "code",
   "execution_count": 53,
   "metadata": {},
   "outputs": [
    {
     "name": "stdout",
     "output_type": "stream",
     "text": [
      "0     88.0\n1     76.0\n2     89.0\n3     67.0\n4     79.0\n5      NaN\n6      NaN\n7      NaN\n8     90.0\n9      NaN\n10     NaN\n11    92.0\n12     NaN\n13     NaN\n14    86.0\n15    73.0\n16     NaN\n17     NaN\n18    77.0\nName: Score, dtype: float64\n"
     ]
    }
   ],
   "source": [
    "# 进行缺失值处理\n",
    "# 第一种是删除，如果变量大部分是确实的就删了这变量。\n",
    "# 随机分布的如果缺失的数量不多那些也可以删了这些缺失的观测\n",
    "# 第二种是替补，连续型变量，什么正态分布这些就用均值来代替，\n",
    "# 有偏的就用中位数来代替，离散的就用众数代替\n",
    "# 第三种是插补法，用预测值来替换缺失值\n",
    "s = stu_score2['Score']\n",
    "print(s)"
   ]
  },
  {
   "cell_type": "code",
   "execution_count": 54,
   "metadata": {},
   "outputs": [
    {
     "name": "stdout",
     "output_type": "stream",
     "text": [
      "9\n"
     ]
    }
   ],
   "source": [
    "print(sum(pd.isnull(s)))\n",
    "# 检测有多少缺失值"
   ]
  },
  {
   "cell_type": "code",
   "execution_count": 55,
   "metadata": {},
   "outputs": [
    {
     "name": "stdout",
     "output_type": "stream",
     "text": [
      "0     88.0\n1     76.0\n2     89.0\n3     67.0\n4     79.0\n8     90.0\n11    92.0\n14    86.0\n15    73.0\n18    77.0\nName: Score, dtype: float64\n"
     ]
    }
   ],
   "source": [
    "print(s.dropna())\n",
    "# 直接删了这些缺失值"
   ]
  },
  {
   "cell_type": "code",
   "execution_count": 57,
   "metadata": {},
   "outputs": [
    {
     "name": "stdout",
     "output_type": "stream",
     "text": [
      "     x1    x2    x3\n0   1.0   1.0   2.0\n1   3.0   5.0   NaN\n2  13.0  21.0  34.0\n3  55.0   NaN  10.0\n4   NaN   NaN   NaN\n5   NaN   1.0   2.0\n     x1    x2    x3\n0   1.0   1.0   2.0\n2  13.0  21.0  34.0\n只要有NAN的这行都删了\n"
     ]
    }
   ],
   "source": [
    "df = pd.DataFrame([[1,1,2],[3,5,np.nan],[13,21,34],[55,np.nan,10],[np.nan,np.nan,np.nan],[np.nan,1,2]],columns=('x1','x2','x3'))\n",
    "print(df)\n",
    "print(df.dropna())\n",
    "print(\"只要有NAN的这行都删了\")\n",
    "# 如果用参数how=all就表示只删除所有都缺失的观测"
   ]
  },
  {
   "cell_type": "code",
   "execution_count": 58,
   "metadata": {},
   "outputs": [
    {
     "name": "stdout",
     "output_type": "stream",
     "text": [
      "     x1    x2    x3\n0   1.0   1.0   2.0\n1   3.0   5.0   0.0\n2  13.0  21.0  34.0\n3  55.0   0.0  10.0\n4   0.0   0.0   0.0\n5   0.0   1.0   2.0\n"
     ]
    }
   ],
   "source": [
    "print(df.fillna(0))\n",
    "# 用0来填补缺失值"
   ]
  },
  {
   "cell_type": "code",
   "execution_count": 59,
   "metadata": {},
   "outputs": [
    {
     "name": "stdout",
     "output_type": "stream",
     "text": [
      "     x1    x2    x3\n0   1.0   1.0   2.0\n1   3.0   5.0   2.0\n2  13.0  21.0  34.0\n3  55.0  21.0  10.0\n4  55.0  21.0  10.0\n5  55.0   1.0   2.0\n     x1    x2    x3\n0   1.0   1.0   2.0\n1   3.0   5.0  34.0\n2  13.0  21.0  34.0\n3  55.0   1.0  10.0\n4   NaN   1.0   2.0\n5   NaN   1.0   2.0\n"
     ]
    }
   ],
   "source": [
    "print(df.fillna(method='ffill'))\n",
    "print(df.fillna(method='bfill'))\n",
    "# 前项填充和后向填充"
   ]
  },
  {
   "cell_type": "code",
   "execution_count": 60,
   "metadata": {},
   "outputs": [
    {
     "name": "stdout",
     "output_type": "stream",
     "text": [
      "     x1    x2    x3\n0   1.0   1.0   2.0\n1   3.0   5.0   3.0\n2  13.0  21.0  34.0\n3  55.0   2.0  10.0\n4   1.0   2.0   3.0\n5   1.0   1.0   2.0\n"
     ]
    }
   ],
   "source": [
    "print(df.fillna({'x1':1,'x2':2,'x3':3}))\n",
    "# 常量填充"
   ]
  },
  {
   "cell_type": "code",
   "execution_count": 61,
   "metadata": {},
   "outputs": [
    {
     "name": "stdout",
     "output_type": "stream",
     "text": [
      "8.0\n7.0\n12.0\n     x1    x2    x3\n0   1.0   1.0   2.0\n1   3.0   5.0  12.0\n2  13.0  21.0  34.0\n3  55.0   7.0  10.0\n4   8.0   7.0  12.0\n5   8.0   1.0   2.0\n"
     ]
    }
   ],
   "source": [
    "x1_median=df['x1'].median()\n",
    "x2_mean=df['x2'].mean()\n",
    "x3_mean=df['x3'].mean()\n",
    "# 用中位数，平均数填充\n",
    "print(x1_median)\n",
    "print(x2_mean)\n",
    "print(x3_mean)\n",
    "print(df.fillna({'x1':x1_median,'x2':x2_mean,'x3':x3_mean}))"
   ]
  },
  {
   "cell_type": "code",
   "execution_count": 62,
   "metadata": {},
   "outputs": [
    {
     "name": "stdout",
     "output_type": "stream",
     "text": [
      "Sex             F      M\nHeight  60.588889  63.91\n"
     ]
    }
   ],
   "source": [
    "# pandas还可以实现excel的数据透视表功能，查看数据的聚合情况\n",
    "Table1 = pd.pivot_table(student, values=['Height'], columns=['Sex'])\n",
    "print(Table1)\n",
    "# 这里是对一个分组变量，一个数值变量进行统计汇总"
   ]
  },
  {
   "cell_type": "code",
   "execution_count": 63,
   "metadata": {},
   "outputs": [
    {
     "name": "stdout",
     "output_type": "stream",
     "text": [
      "Sex             F       M\nHeight  60.588889   63.91\nWeight  90.111111  108.95\n"
     ]
    }
   ],
   "source": [
    "Table2 = pd.pivot_table(student, values=['Height','Weight'], columns=['Sex'])\n",
    "print(Table2)\n",
    "# 这里可以对两个数值变量进行统计汇总"
   ]
  },
  {
   "cell_type": "code",
   "execution_count": 64,
   "metadata": {},
   "outputs": [
    {
     "name": "stdout",
     "output_type": "stream",
     "text": [
      "        Sex  Age\nHeight  F    11      51.300000\n             12      58.050000\n             13      60.900000\n             14      63.550000\n             15      64.500000\n        M    11      57.500000\n             12      60.366667\n             13      62.500000\n             14      66.250000\n             15      66.750000\n             16      72.000000\nWeight  F    11      50.500000\n             12      80.750000\n             13      91.000000\n             14      96.250000\n             15     112.250000\n        M    11      85.000000\n             12     103.500000\n             13      84.000000\n             14     107.500000\n             15     122.500000\n             16     150.000000\ndtype: float64\n"
     ]
    }
   ],
   "source": [
    "Table3 = pd.pivot_table(student, values=['Height','Weight'], columns=['Sex','Age'])\n",
    "print(Table3)"
   ]
  },
  {
   "cell_type": "code",
   "execution_count": 65,
   "metadata": {},
   "outputs": [
    {
     "name": "stdout",
     "output_type": "stream",
     "text": [
      "Age           11          12    13      14      15     16\n       Sex                                               \nHeight F    51.3   58.050000  60.9   63.55   64.50    NaN\n       M    57.5   60.366667  62.5   66.25   66.75   72.0\nWeight F    50.5   80.750000  91.0   96.25  112.25    NaN\n       M    85.0  103.500000  84.0  107.50  122.50  150.0\n"
     ]
    }
   ],
   "source": [
    "Table4 = pd.pivot_table(student, values=['Height','Weight'], columns=['Sex','Age']).unstack()\n",
    "print(Table4)\n",
    "# 这样子的话就好看一些了，进行非堆叠操作unstack"
   ]
  },
  {
   "cell_type": "code",
   "execution_count": 66,
   "metadata": {},
   "outputs": [
    {
     "name": "stdout",
     "output_type": "stream",
     "text": [
      "             mean         median                std           \nSex             F       M      F       M          F          M\nHeight  60.588889   63.91   62.5   64.15   5.018328   4.937937\nWeight  90.111111  108.95   90.0  107.25  19.383914  22.727186\n"
     ]
    }
   ],
   "source": [
    "Table5 = pd.pivot_table(student, values=['Height','Weight'], columns=['Sex'],aggfunc=[np.mean,np.median,np.std])\n",
    "print(Table5)\n",
    "# 多聚合"
   ]
  },
  {
   "cell_type": "code",
   "execution_count": 68,
   "metadata": {},
   "outputs": [
    {
     "name": "stdout",
     "output_type": "stream",
     "text": [
      "a  1    1\n   2    2\n   3    3\nb  1    4\n   2    5\nc  3    6\n   1    7\nd  2    8\n   3    9\ndtype: int32\n"
     ]
    }
   ],
   "source": [
    "# 多层索引\n",
    "s = pd.Series(np.arange(1,10),index=[[\"a\",\"a\",\"a\",\"b\",\"b\",\"c\",\"c\",\"d\",\"d\"],[1,2,3,1,2,3,1,2,3]])\n",
    "print(s)\n",
    "# 就是进行行索引和列索引"
   ]
  },
  {
   "cell_type": "code",
   "execution_count": 69,
   "metadata": {},
   "outputs": [
    {
     "name": "stdout",
     "output_type": "stream",
     "text": [
      "MultiIndex(levels=[['a', 'b', 'c', 'd'], [1, 2, 3]],\n           codes=[[0, 0, 0, 1, 1, 2, 2, 3, 3], [0, 1, 2, 0, 1, 2, 0, 1, 2]])\n"
     ]
    }
   ],
   "source": [
    "print(s.index)"
   ]
  },
  {
   "cell_type": "code",
   "execution_count": 70,
   "metadata": {},
   "outputs": [
    {
     "name": "stdout",
     "output_type": "stream",
     "text": [
      "1    1\n2    2\n3    3\ndtype: int32\n1\n1    1\n3    3\ndtype: int32\na  1    1\n   2    2\n   3    3\nc  3    6\n   1    7\ndtype: int32\nb  1    4\n   2    5\nc  3    6\n   1    7\nd  2    8\n   3    9\ndtype: int32\n     1    2    3\na  1.0  2.0  3.0\nb  4.0  5.0  NaN\nc  7.0  NaN  6.0\nd  NaN  8.0  9.0\n"
     ]
    }
   ],
   "source": [
    "#选取外层索引为a的数据\n",
    "print(s['a'])\n",
    "#选取外层索引为a和内层索引为1的数据\n",
    "print(s['a',1])\n",
    "#选取外层索引为a和内层索引为1,3的数据\n",
    "print(s['a'][[1,3]])\n",
    "#层次化索引的切片，包括右端的索引\n",
    "print(s[['a','c']])\n",
    "print(s['b':'d'])\n",
    "#通过unstack方法可以将Series变成一个DataFrame\n",
    "#数据的类型以及数据的输出结构都变成了DataFrame，对于不存在的位置使用NaN填充\n",
    "print(s.unstack())"
   ]
  },
  {
   "cell_type": "code",
   "execution_count": 72,
   "metadata": {},
   "outputs": [
    {
     "name": "stdout",
     "output_type": "stream",
     "text": [
      "           模拟考                           正式考                         \n            数学   语文   英语   物理   化学   生物   数学   语文   英语   物理   化学   生物\n期中 雷军 测试一   57  101   79   45  143    7  145   65   33  147   21   27\n      测试二   52   31   44    2   84  149  102  100  114    1    7   58\n   李斌 测试一   66  131   27  116   17  109  110   85  144   66   50   94\n      测试二   37   26  137  133   51   51   36  134   44   48   26    6\n期末 雷军 测试一   30  137  114    4   16  100   75   82  137   77   11   93\n      测试二  136    0   90   54   70   86   39  104   98  137   80  102\n   李斌 测试一  104   11   52  137  118   39   14   34  107  147  141   70\n      测试二   74    5   61   88  117   89   46   41   97   15  124  115\n"
     ]
    }
   ],
   "source": [
    "# 进行层次化索引\n",
    "data = pd.DataFrame(np.random.randint(0,150,size=(8,12)),\n",
    "               columns = pd.MultiIndex.from_product([['模拟考','正式考'],\n",
    "                                                   ['数学','语文','英语','物理','化学','生物']]),\n",
    "               index = pd.MultiIndex.from_product([['期中','期末'],\n",
    "                                                   ['雷军','李斌'],\n",
    "                                                  ['测试一','测试二']]))\n",
    "print(data)\n"
   ]
  },
  {
   "cell_type": "code",
   "execution_count": 73,
   "metadata": {},
   "outputs": [
    {
     "name": "stdout",
     "output_type": "stream",
     "text": [
      "57\n"
     ]
    }
   ],
   "source": [
    "print(data.loc['期中','雷军','测试一']['模拟考','数学'])"
   ]
  },
  {
   "cell_type": "code",
   "execution_count": 74,
   "metadata": {},
   "outputs": [
    {
     "name": "stdout",
     "output_type": "stream",
     "text": [
      "模拟考  数学     57\n     语文    101\n     英语     79\n     物理     45\n     化学    143\n     生物      7\n正式考  数学    145\n     语文     65\n     英语     33\n     物理    147\n     化学     21\n     生物     27\nName: (期中, 雷军, 测试一), dtype: int32\n"
     ]
    }
   ],
   "source": [
    "print(data.loc['期中','雷军','测试一'])"
   ]
  },
  {
   "cell_type": "code",
   "execution_count": 75,
   "metadata": {},
   "outputs": [
    {
     "name": "stdout",
     "output_type": "stream",
     "text": [
      "模拟考  数学     57\n     语文    101\n     英语     79\n     物理     45\n     化学    143\n     生物      7\n正式考  数学    145\n     语文     65\n     英语     33\n     物理    147\n     化学     21\n     生物     27\nName: (期中, 雷军, 测试一), dtype: int32\n"
     ]
    }
   ],
   "source": [
    "print(data.iloc[0])"
   ]
  },
  {
   "cell_type": "code",
   "execution_count": 76,
   "metadata": {},
   "outputs": [
    {
     "name": "stdout",
     "output_type": "stream",
     "text": [
      "            数学   语文   英语   物理   化学   生物\n期中 雷军 测试一  145   65   33  147   21   27\n      测试二  102  100  114    1    7   58\n   李斌 测试一  110   85  144   66   50   94\n      测试二   36  134   44   48   26    6\n期末 雷军 测试一   75   82  137   77   11   93\n      测试二   39  104   98  137   80  102\n   李斌 测试一   14   34  107  147  141   70\n      测试二   46   41   97   15  124  115\n"
     ]
    }
   ],
   "source": [
    "print(data['正式考'])"
   ]
  },
  {
   "cell_type": "code",
   "execution_count": null,
   "metadata": {},
   "outputs": [],
   "source": []
  }
 ],
 "metadata": {
  "kernelspec": {
   "display_name": "Python 2",
   "language": "python",
   "name": "python2"
  },
  "language_info": {
   "codemirror_mode": {
    "name": "ipython",
    "version": 2
   },
   "file_extension": ".py",
   "mimetype": "text/x-python",
   "name": "python",
   "nbconvert_exporter": "python",
   "pygments_lexer": "ipython2",
   "version": "2.7.6"
  }
 },
 "nbformat": 4,
 "nbformat_minor": 0
}
