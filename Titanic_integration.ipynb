{
 "cells": [
  {
   "cell_type": "code",
   "execution_count": 1,
   "metadata": {
    "collapsed": true,
    "pycharm": {
     "is_executing": false
    }
   },
   "outputs": [],
   "source": [
    "import pandas as pd\n",
    "#-------------data split\n",
    "from sklearn.model_selection import train_test_split\n",
    "#-------------\n",
    "from sklearn.feature_extraction import DictVectorizer\n",
    "# 类别型特征进行转化，成特征向量\n",
    "from sklearn.tree import DecisionTreeClassifier\n",
    "# 单一决策树\n",
    "from sklearn.ensemble import RandomForestClassifier\n",
    "# 随机森林\n",
    "from sklearn.ensemble import GradientBoostingClassifier\n",
    "# 梯度提升决策树\n",
    "from sklearn.metrics import classification_report"
   ]
  },
  {
   "cell_type": "code",
   "execution_count": 2,
   "outputs": [
    {
     "name": "stdout",
     "text": [
      "   row.names pclass  survived  \\\n0          1    1st         1   \n1          2    1st         0   \n2          3    1st         0   \n3          4    1st         0   \n4          5    1st         1   \n\n                                              name      age     embarked  \\\n0                     Allen, Miss Elisabeth Walton  29.0000  Southampton   \n1                      Allison, Miss Helen Loraine   2.0000  Southampton   \n2              Allison, Mr Hudson Joshua Creighton  30.0000  Southampton   \n3  Allison, Mrs Hudson J.C. (Bessie Waldo Daniels)  25.0000  Southampton   \n4                    Allison, Master Hudson Trevor   0.9167  Southampton   \n\n                         home.dest room      ticket   boat     sex  \n0                     St Louis, MO  B-5  24160 L221      2  female  \n1  Montreal, PQ / Chesterville, ON  C26         NaN    NaN  female  \n2  Montreal, PQ / Chesterville, ON  C26         NaN  (135)    male  \n3  Montreal, PQ / Chesterville, ON  C26         NaN    NaN  female  \n4  Montreal, PQ / Chesterville, ON  C22         NaN     11    male  \n"
     ],
     "output_type": "stream"
    }
   ],
   "source": [
    "titanic=pd.read_csv('http://biostat.mc.vanderbilt.edu/wiki/pub/Main/DataSets/titanic.txt')\n",
    "print(titanic.head())"
   ],
   "metadata": {
    "collapsed": false,
    "pycharm": {
     "name": "#%%\n",
     "is_executing": false
    }
   }
  },
  {
   "cell_type": "code",
   "execution_count": 3,
   "outputs": [
    {
     "name": "stdout",
     "text": [
      "<class 'pandas.core.frame.DataFrame'>\nRangeIndex: 1313 entries, 0 to 1312\nData columns (total 11 columns):\nrow.names    1313 non-null int64\npclass       1313 non-null object\nsurvived     1313 non-null int64\nname         1313 non-null object\nage          633 non-null float64\nembarked     821 non-null object\nhome.dest    754 non-null object\nroom         77 non-null object\nticket       69 non-null object\nboat         347 non-null object\nsex          1313 non-null object\ndtypes: float64(1), int64(2), object(8)\nmemory usage: 112.9+ KB\nNone\n"
     ],
     "output_type": "stream"
    }
   ],
   "source": [
    "print(titanic.info())"
   ],
   "metadata": {
    "collapsed": false,
    "pycharm": {
     "name": "#%%\n",
     "is_executing": false
    }
   }
  },
  {
   "cell_type": "code",
   "execution_count": 4,
   "outputs": [],
   "source": [
    "# 选择特征和最后生还的结果\n",
    "X=titanic[['pclass','age','sex']]\n",
    "y=titanic['survived']"
   ],
   "metadata": {
    "collapsed": false,
    "pycharm": {
     "name": "#%%\n",
     "is_executing": false
    }
   }
  },
  {
   "cell_type": "code",
   "execution_count": 5,
   "outputs": [
    {
     "name": "stderr",
     "text": [
      "d:\\ai\\lib\\site-packages\\pandas\\core\\generic.py:6130: SettingWithCopyWarning: \nA value is trying to be set on a copy of a slice from a DataFrame\n\nSee the caveats in the documentation: http://pandas.pydata.org/pandas-docs/stable/indexing.html#indexing-view-versus-copy\n  self._update_inplace(new_data)\n"
     ],
     "output_type": "stream"
    }
   ],
   "source": [
    "# age当中不全的都给补上，在这用的是平均年龄\n",
    "X['age'].fillna(X['age'].mean(),inplace=True)"
   ],
   "metadata": {
    "collapsed": false,
    "pycharm": {
     "name": "#%%\n",
     "is_executing": false
    }
   }
  },
  {
   "cell_type": "code",
   "execution_count": 6,
   "outputs": [],
   "source": [
    "X_train,X_test,y_train,y_test=train_test_split(X,y,test_size=0.25,random_state=33)"
   ],
   "metadata": {
    "collapsed": false,
    "pycharm": {
     "name": "#%%\n",
     "is_executing": false
    }
   }
  },
  {
   "cell_type": "code",
   "execution_count": 7,
   "outputs": [],
   "source": [
    "vec=DictVectorizer(sparse=False)\n",
    "X_train=vec.fit_transform(X_train.to_dict(orient='record'))\n",
    "X_test=vec.transform(X_test.to_dict(orient='record'))\n",
    "# 类别型特征转化成特征向量"
   ],
   "metadata": {
    "collapsed": false,
    "pycharm": {
     "name": "#%%\n",
     "is_executing": false
    }
   }
  },
  {
   "cell_type": "code",
   "execution_count": 8,
   "outputs": [],
   "source": [
    "# 使用单一决策树进行预测\n",
    "dtc=DecisionTreeClassifier()\n",
    "dtc.fit(X_train,y_train)\n",
    "dtc_y_predict=dtc.predict(X_test)"
   ],
   "metadata": {
    "collapsed": false,
    "pycharm": {
     "name": "#%%\n",
     "is_executing": false
    }
   }
  },
  {
   "cell_type": "code",
   "execution_count": 9,
   "outputs": [
    {
     "name": "stderr",
     "text": [
      "d:\\ai\\lib\\site-packages\\sklearn\\ensemble\\forest.py:245: FutureWarning: The default value of n_estimators will change from 10 in version 0.20 to 100 in 0.22.\n  \"10 in version 0.20 to 100 in 0.22.\", FutureWarning)\n"
     ],
     "output_type": "stream"
    }
   ],
   "source": [
    "# 随机森林进行集成模型的训练和预测分析\n",
    "rfc=RandomForestClassifier()\n",
    "rfc.fit(X_train,y_train)\n",
    "rfc_y_predict=rfc.predict(X_test)"
   ],
   "metadata": {
    "collapsed": false,
    "pycharm": {
     "name": "#%%\n",
     "is_executing": false
    }
   }
  },
  {
   "cell_type": "code",
   "execution_count": 10,
   "outputs": [],
   "source": [
    "# 用梯度提升决策树\n",
    "gbc=GradientBoostingClassifier()\n",
    "gbc.fit(X_train,y_train)\n",
    "gbc_y_predict=gbc.predict(X_test)"
   ],
   "metadata": {
    "collapsed": false,
    "pycharm": {
     "name": "#%%\n",
     "is_executing": false
    }
   }
  },
  {
   "cell_type": "code",
   "execution_count": 11,
   "outputs": [
    {
     "name": "stdout",
     "text": [
      "0.7811550151975684\n----------\n              precision    recall  f1-score   support\n\n           0       0.91      0.78      0.84       236\n           1       0.58      0.80      0.67        93\n\n    accuracy                           0.78       329\n   macro avg       0.74      0.79      0.75       329\nweighted avg       0.81      0.78      0.79       329\n\n"
     ],
     "output_type": "stream"
    }
   ],
   "source": [
    "print(dtc.score(X_test, y_test))\n",
    "print(\"-\"*10)\n",
    "print(classification_report(dtc_y_predict, y_test))"
   ],
   "metadata": {
    "collapsed": false,
    "pycharm": {
     "name": "#%%\n",
     "is_executing": false
    }
   }
  },
  {
   "cell_type": "code",
   "execution_count": 12,
   "outputs": [
    {
     "name": "stdout",
     "text": [
      "0.78419452887538\n----------\n              precision    recall  f1-score   support\n\n           0       0.91      0.78      0.84       237\n           1       0.58      0.80      0.68        92\n\n    accuracy                           0.78       329\n   macro avg       0.75      0.79      0.76       329\nweighted avg       0.82      0.78      0.79       329\n\n"
     ],
     "output_type": "stream"
    }
   ],
   "source": [
    "print(rfc.score(X_test, y_test))\n",
    "print(\"-\"*10)\n",
    "print(classification_report(rfc_y_predict, y_test))"
   ],
   "metadata": {
    "collapsed": false,
    "pycharm": {
     "name": "#%%\n",
     "is_executing": false
    }
   }
  },
  {
   "cell_type": "code",
   "execution_count": 13,
   "outputs": [
    {
     "name": "stdout",
     "text": [
      "0.790273556231003\n----------\n              precision    recall  f1-score   support\n\n           0       0.92      0.78      0.84       239\n           1       0.58      0.82      0.68        90\n\n    accuracy                           0.79       329\n   macro avg       0.75      0.80      0.76       329\nweighted avg       0.83      0.79      0.80       329\n\n"
     ],
     "output_type": "stream"
    }
   ],
   "source": [
    "print(gbc.score(X_test, y_test))\n",
    "print(\"-\"*10)\n",
    "print(classification_report(gbc_y_predict, y_test))"
   ],
   "metadata": {
    "collapsed": false,
    "pycharm": {
     "name": "#%%\n",
     "is_executing": false
    }
   }
  },
  {
   "cell_type": "code",
   "execution_count": null,
   "outputs": [],
   "source": [
    "# 三个就这么对比出来了，随机森林一般都是作为基线系统用的\n"
   ],
   "metadata": {
    "collapsed": false,
    "pycharm": {
     "name": "#%%\n"
    }
   }
  }
 ],
 "metadata": {
  "language_info": {
   "codemirror_mode": {
    "name": "ipython",
    "version": 2
   },
   "file_extension": ".py",
   "mimetype": "text/x-python",
   "name": "python",
   "nbconvert_exporter": "python",
   "pygments_lexer": "ipython2",
   "version": "2.7.6"
  },
  "kernelspec": {
   "name": "python3",
   "language": "python",
   "display_name": "Python 3"
  },
  "pycharm": {
   "stem_cell": {
    "cell_type": "raw",
    "source": [],
    "metadata": {
     "collapsed": false
    }
   }
  }
 },
 "nbformat": 4,
 "nbformat_minor": 0
}