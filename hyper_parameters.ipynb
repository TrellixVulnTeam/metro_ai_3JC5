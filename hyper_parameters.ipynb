{
 "cells": [
  {
   "cell_type": "code",
   "execution_count": 3,
   "metadata": {
    "collapsed": true
   },
   "outputs": [],
   "source": [
    "# 模型配置一般就是模型的超参数，比如K近邻的K，支持向量机中不同的核函数\n",
    "# 一般选择都是无限的\n",
    "from sklearn.datasets import fetch_20newsgroups\n",
    "import numpy as np\n",
    "news = fetch_20newsgroups(subset='all')\n",
    "from sklearn.model_selection import train_test_split\n",
    "x_train, x_test, y_train, y_test = train_test_split(news.data[:3000], news.target[:3000], test_size=0.25, random_state=33)"
   ]
  },
  {
   "cell_type": "code",
   "execution_count": 4,
   "metadata": {},
   "outputs": [],
   "source": [
    "# 导入支持向量机和文本抽取器\n",
    "from sklearn.svm import SVC\n",
    "from sklearn.feature_extraction.text import TfidfVectorizer\n",
    " \n",
    "# 导入Pipline\n",
    "from sklearn.pipeline import Pipeline\n",
    "# 使用pipline简化系统搭建流程，将文本抽取和分类器模型串联起来\n",
    "clf = Pipeline([('vect', TfidfVectorizer(stop_words='english', analyzer='word')), ('svc', SVC())])"
   ]
  },
  {
   "cell_type": "code",
   "execution_count": 5,
   "metadata": {},
   "outputs": [],
   "source": [
    "# 这里需要试验的两个超参数的个数分别是4，3，\n",
    "# svc_gamma的参数共有10的负二次方，10的负一次方等常见值\n",
    "# 一共12种组合，12个不同参数下的模型\n",
    "parameters = {'svc__gamma': np.logspace(-2, 1, 4), 'svc__C': np.logspace(-1, 1, 3)}\n",
    "# SVC主要调节的是gamma和C\n",
    "# gamma：‘rbf’,‘poly’ 和‘sigmoid’的核函数参数。默认是’auto’，则会选择1/n_features\n",
    "# C：C越大，相当于惩罚松弛变量，希望松弛变量接近0，\n",
    "# 即对误分类的惩罚增大，趋向于对训练集全分对的情况，这样对训练集测试时准确率很高，但泛化能力弱。\n",
    "# C值小，对误分类的惩罚减小，允许容错，将他们当成噪声点，泛化能力较强。\n",
    "# logspace是用来创建等比数列的，\n",
    "# 开始点是10的-2次方，结束点是10的1次方，元素个数是4，每一次是乘10\n",
    "# 如果改变base的话，就可以改变每项乘的值"
   ]
  },
  {
   "cell_type": "code",
   "execution_count": null,
   "metadata": {},
   "outputs": [],
   "source": []
  },
  {
   "cell_type": "code",
   "execution_count": 6,
   "metadata": {},
   "outputs": [],
   "source": [
    "#从sklearn.grid_search中导入网格搜索模块GridSearchCV\n",
    "from sklearn.model_selection import GridSearchCV\n",
    "#将12组参数组合以及初始化的Pipline包括3折交叉验证的要求全部告知GridSearchCV。\n",
    "# 特别需要注意的是refit=True这样一个设定\n",
    "gs = GridSearchCV(clf, parameters, verbose=2, refit=True, cv=3)"
   ]
  },
  {
   "cell_type": "code",
   "execution_count": 7,
   "metadata": {},
   "outputs": [
    {
     "name": "stdout",
     "output_type": "stream",
     "text": [
      "Fitting 3 folds for each of 12 candidates, totalling 36 fits\n[CV] svc__C=0.1, svc__gamma=0.01 .....................................\n"
     ]
    },
    {
     "name": "stderr",
     "output_type": "stream",
     "text": [
      "[Parallel(n_jobs=1)]: Using backend SequentialBackend with 1 concurrent workers.\n"
     ]
    },
    {
     "name": "stdout",
     "output_type": "stream",
     "text": [
      "[CV] ...................... svc__C=0.1, svc__gamma=0.01, total=   5.5s\n[CV] svc__C=0.1, svc__gamma=0.01 .....................................\n"
     ]
    },
    {
     "name": "stderr",
     "output_type": "stream",
     "text": [
      "[Parallel(n_jobs=1)]: Done   1 out of   1 | elapsed:    7.9s remaining:    0.0s\n"
     ]
    },
    {
     "name": "stdout",
     "output_type": "stream",
     "text": [
      "[CV] ...................... svc__C=0.1, svc__gamma=0.01, total=   5.3s\n[CV] svc__C=0.1, svc__gamma=0.01 .....................................\n"
     ]
    },
    {
     "name": "stdout",
     "output_type": "stream",
     "text": [
      "[CV] ...................... svc__C=0.1, svc__gamma=0.01, total=   5.4s\n[CV] svc__C=0.1, svc__gamma=0.1 ......................................\n"
     ]
    },
    {
     "name": "stdout",
     "output_type": "stream",
     "text": [
      "[CV] ....................... svc__C=0.1, svc__gamma=0.1, total=   5.1s\n[CV] svc__C=0.1, svc__gamma=0.1 ......................................\n"
     ]
    },
    {
     "name": "stdout",
     "output_type": "stream",
     "text": [
      "[CV] ....................... svc__C=0.1, svc__gamma=0.1, total=   5.5s\n[CV] svc__C=0.1, svc__gamma=0.1 ......................................\n"
     ]
    },
    {
     "name": "stdout",
     "output_type": "stream",
     "text": [
      "[CV] ....................... svc__C=0.1, svc__gamma=0.1, total=   5.5s\n[CV] svc__C=0.1, svc__gamma=1.0 ......................................\n"
     ]
    },
    {
     "name": "stdout",
     "output_type": "stream",
     "text": [
      "[CV] ....................... svc__C=0.1, svc__gamma=1.0, total=   5.5s\n[CV] svc__C=0.1, svc__gamma=1.0 ......................................\n"
     ]
    },
    {
     "name": "stdout",
     "output_type": "stream",
     "text": [
      "[CV] ....................... svc__C=0.1, svc__gamma=1.0, total=   5.5s\n[CV] svc__C=0.1, svc__gamma=1.0 ......................................\n"
     ]
    },
    {
     "name": "stdout",
     "output_type": "stream",
     "text": [
      "[CV] ....................... svc__C=0.1, svc__gamma=1.0, total=   5.6s\n[CV] svc__C=0.1, svc__gamma=10.0 .....................................\n"
     ]
    },
    {
     "name": "stdout",
     "output_type": "stream",
     "text": [
      "[CV] ...................... svc__C=0.1, svc__gamma=10.0, total=   5.2s\n[CV] svc__C=0.1, svc__gamma=10.0 .....................................\n"
     ]
    },
    {
     "name": "stdout",
     "output_type": "stream",
     "text": [
      "[CV] ...................... svc__C=0.1, svc__gamma=10.0, total=   5.3s\n[CV] svc__C=0.1, svc__gamma=10.0 .....................................\n"
     ]
    },
    {
     "name": "stdout",
     "output_type": "stream",
     "text": [
      "[CV] ...................... svc__C=0.1, svc__gamma=10.0, total=   5.7s\n[CV] svc__C=1.0, svc__gamma=0.01 .....................................\n"
     ]
    },
    {
     "name": "stdout",
     "output_type": "stream",
     "text": [
      "[CV] ...................... svc__C=1.0, svc__gamma=0.01, total=   5.1s\n[CV] svc__C=1.0, svc__gamma=0.01 .....................................\n"
     ]
    },
    {
     "name": "stdout",
     "output_type": "stream",
     "text": [
      "[CV] ...................... svc__C=1.0, svc__gamma=0.01, total=   5.2s\n[CV] svc__C=1.0, svc__gamma=0.01 .....................................\n"
     ]
    },
    {
     "name": "stdout",
     "output_type": "stream",
     "text": [
      "[CV] ...................... svc__C=1.0, svc__gamma=0.01, total=   5.2s\n[CV] svc__C=1.0, svc__gamma=0.1 ......................................\n"
     ]
    },
    {
     "name": "stdout",
     "output_type": "stream",
     "text": [
      "[CV] ....................... svc__C=1.0, svc__gamma=0.1, total=   5.2s\n[CV] svc__C=1.0, svc__gamma=0.1 ......................................\n"
     ]
    },
    {
     "name": "stdout",
     "output_type": "stream",
     "text": [
      "[CV] ....................... svc__C=1.0, svc__gamma=0.1, total=   5.4s\n[CV] svc__C=1.0, svc__gamma=0.1 ......................................\n"
     ]
    },
    {
     "name": "stdout",
     "output_type": "stream",
     "text": [
      "[CV] ....................... svc__C=1.0, svc__gamma=0.1, total=   5.5s\n[CV] svc__C=1.0, svc__gamma=1.0 ......................................\n"
     ]
    },
    {
     "name": "stdout",
     "output_type": "stream",
     "text": [
      "[CV] ....................... svc__C=1.0, svc__gamma=1.0, total=   5.3s\n[CV] svc__C=1.0, svc__gamma=1.0 ......................................\n"
     ]
    },
    {
     "name": "stdout",
     "output_type": "stream",
     "text": [
      "[CV] ....................... svc__C=1.0, svc__gamma=1.0, total=   5.6s\n[CV] svc__C=1.0, svc__gamma=1.0 ......................................\n"
     ]
    },
    {
     "name": "stdout",
     "output_type": "stream",
     "text": [
      "[CV] ....................... svc__C=1.0, svc__gamma=1.0, total=   5.7s\n[CV] svc__C=1.0, svc__gamma=10.0 .....................................\n"
     ]
    },
    {
     "name": "stdout",
     "output_type": "stream",
     "text": [
      "[CV] ...................... svc__C=1.0, svc__gamma=10.0, total=   5.6s\n[CV] svc__C=1.0, svc__gamma=10.0 .....................................\n"
     ]
    },
    {
     "name": "stdout",
     "output_type": "stream",
     "text": [
      "[CV] ...................... svc__C=1.0, svc__gamma=10.0, total=   6.0s\n[CV] svc__C=1.0, svc__gamma=10.0 .....................................\n"
     ]
    },
    {
     "name": "stdout",
     "output_type": "stream",
     "text": [
      "[CV] ...................... svc__C=1.0, svc__gamma=10.0, total=   5.4s\n[CV] svc__C=10.0, svc__gamma=0.01 ....................................\n"
     ]
    },
    {
     "name": "stdout",
     "output_type": "stream",
     "text": [
      "[CV] ..................... svc__C=10.0, svc__gamma=0.01, total=   5.2s\n[CV] svc__C=10.0, svc__gamma=0.01 ....................................\n"
     ]
    },
    {
     "name": "stdout",
     "output_type": "stream",
     "text": [
      "[CV] ..................... svc__C=10.0, svc__gamma=0.01, total=   5.2s\n[CV] svc__C=10.0, svc__gamma=0.01 ....................................\n"
     ]
    },
    {
     "name": "stdout",
     "output_type": "stream",
     "text": [
      "[CV] ..................... svc__C=10.0, svc__gamma=0.01, total=   6.8s\n[CV] svc__C=10.0, svc__gamma=0.1 .....................................\n"
     ]
    },
    {
     "name": "stdout",
     "output_type": "stream",
     "text": [
      "[CV] ...................... svc__C=10.0, svc__gamma=0.1, total=   5.2s\n[CV] svc__C=10.0, svc__gamma=0.1 .....................................\n"
     ]
    },
    {
     "name": "stdout",
     "output_type": "stream",
     "text": [
      "[CV] ...................... svc__C=10.0, svc__gamma=0.1, total=   5.2s\n[CV] svc__C=10.0, svc__gamma=0.1 .....................................\n"
     ]
    },
    {
     "name": "stdout",
     "output_type": "stream",
     "text": [
      "[CV] ...................... svc__C=10.0, svc__gamma=0.1, total=   5.3s\n[CV] svc__C=10.0, svc__gamma=1.0 .....................................\n"
     ]
    },
    {
     "name": "stdout",
     "output_type": "stream",
     "text": [
      "[CV] ...................... svc__C=10.0, svc__gamma=1.0, total=   5.2s\n[CV] svc__C=10.0, svc__gamma=1.0 .....................................\n"
     ]
    },
    {
     "name": "stdout",
     "output_type": "stream",
     "text": [
      "[CV] ...................... svc__C=10.0, svc__gamma=1.0, total=   5.3s\n[CV] svc__C=10.0, svc__gamma=1.0 .....................................\n"
     ]
    },
    {
     "name": "stdout",
     "output_type": "stream",
     "text": [
      "[CV] ...................... svc__C=10.0, svc__gamma=1.0, total=   5.3s\n[CV] svc__C=10.0, svc__gamma=10.0 ....................................\n"
     ]
    },
    {
     "name": "stdout",
     "output_type": "stream",
     "text": [
      "[CV] ..................... svc__C=10.0, svc__gamma=10.0, total=   5.2s\n[CV] svc__C=10.0, svc__gamma=10.0 ....................................\n"
     ]
    },
    {
     "name": "stdout",
     "output_type": "stream",
     "text": [
      "[CV] ..................... svc__C=10.0, svc__gamma=10.0, total=   5.3s\n[CV] svc__C=10.0, svc__gamma=10.0 ....................................\n"
     ]
    },
    {
     "name": "stdout",
     "output_type": "stream",
     "text": [
      "[CV] ..................... svc__C=10.0, svc__gamma=10.0, total=   5.4s\n"
     ]
    },
    {
     "name": "stderr",
     "output_type": "stream",
     "text": [
      "[Parallel(n_jobs=1)]: Done  36 out of  36 | elapsed:  4.8min finished\n"
     ]
    },
    {
     "name": "stdout",
     "output_type": "stream",
     "text": [
      "0.8226666666666667\n"
     ]
    }
   ],
   "source": [
    "gs.fit(x_train, y_train)\n",
    " \n",
    "gs.best_params_, gs.best_score_\n",
    " \n",
    "print(gs.score(x_test, y_test))\n",
    "# 以后推荐使用pipline来简化代码\n",
    "# 这个其实就是你设置好了他自己一个个试着来找最好的"
   ]
  },
  {
   "cell_type": "code",
   "execution_count": 8,
   "metadata": {},
   "outputs": [],
   "source": [
    "gs = GridSearchCV(clf, parameters, verbose=2, refit=True, cv=3,n_jobs=-1)\n",
    "# 这里n_job -1是使用计算机的全部CPU\n",
    "# 也就是并行搜索"
   ]
  },
  {
   "cell_type": "code",
   "execution_count": null,
   "metadata": {},
   "outputs": [],
   "source": [
    "# 以后还是不要在自己电脑上并行搜索了，电脑会卡住的\n",
    "# 虽然速度快了很多\n",
    "# 还是放云平台去并行搜索吧"
   ]
  },
  {
   "cell_type": "code",
   "execution_count": 9,
   "metadata": {},
   "outputs": [
    {
     "name": "stdout",
     "output_type": "stream",
     "text": [
      "Fitting 3 folds for each of 12 candidates, totalling 36 fits\n"
     ]
    },
    {
     "name": "stderr",
     "output_type": "stream",
     "text": [
      "[Parallel(n_jobs=-1)]: Using backend LokyBackend with 4 concurrent workers.\n"
     ]
    },
    {
     "name": "stderr",
     "output_type": "stream",
     "text": [
      "[Parallel(n_jobs=-1)]: Done  36 out of  36 | elapsed:  1.8min finished\n"
     ]
    },
    {
     "name": "stdout",
     "output_type": "stream",
     "text": [
      "0.8226666666666667\n"
     ]
    }
   ],
   "source": [
    "gs.fit(x_train, y_train)\n",
    " \n",
    "gs.best_params_, gs.best_score_\n",
    " \n",
    "print(gs.score(x_test, y_test))"
   ]
  }
 ],
 "metadata": {
  "kernelspec": {
   "display_name": "Python 2",
   "language": "python",
   "name": "python2"
  },
  "language_info": {
   "codemirror_mode": {
    "name": "ipython",
    "version": 2
   },
   "file_extension": ".py",
   "mimetype": "text/x-python",
   "name": "python",
   "nbconvert_exporter": "python",
   "pygments_lexer": "ipython2",
   "version": "2.7.6"
  }
 },
 "nbformat": 4,
 "nbformat_minor": 0
}
