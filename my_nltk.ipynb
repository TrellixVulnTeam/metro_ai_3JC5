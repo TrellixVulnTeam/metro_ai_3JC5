{
 "cells": [
  {
   "cell_type": "code",
   "execution_count": 2,
   "metadata": {
    "pycharm": {
     "is_executing": false
    }
   },
   "outputs": [
    {
     "name": "stdout",
     "text": [
      "[[0 1 1 0 1 1 0 0 2 1 0]\n [1 0 0 1 0 0 1 1 1 0 1]]\n"
     ],
     "output_type": "stream"
    }
   ],
   "source": [
    "sent1='The cat is walking in the bedroom.'\n",
    "sent2='A dog was running across the kitchen.'\n",
    "from sklearn.feature_extraction.text import CountVectorizer\n",
    "count_vec=CountVectorizer()\n",
    "# 这里是用最简单的词袋法对文本进行特征向量化\n",
    "sentences=[sent1,sent2]\n",
    "#输出特征向量化后的表示\n",
    "print(count_vec.fit_transform(sentences).toarray())"
   ]
  },
  {
   "cell_type": "code",
   "execution_count": 3,
   "metadata": {
    "pycharm": {
     "is_executing": false,
     "name": "#%%\n"
    }
   },
   "outputs": [
    {
     "name": "stdout",
     "text": [
      "['across', 'bedroom', 'cat', 'dog', 'in', 'is', 'kitchen', 'running', 'the', 'walking', 'was']\n"
     ],
     "output_type": "stream"
    }
   ],
   "source": [
    "print(count_vec.get_feature_names())\n",
    "# 输出向量各个维度的特征含义"
   ]
  },
  {
   "cell_type": "code",
   "execution_count": 4,
   "metadata": {
    "pycharm": {
     "is_executing": false,
     "name": "#%%\n"
    }
   },
   "outputs": [
    {
     "name": "stdout",
     "text": [
      "['The', 'cat', 'is', 'walking', 'in', 'the', 'bedroom', '.']\n"
     ],
     "output_type": "stream"
    },
    {
     "name": "stderr",
     "text": [
      "[nltk_data] Downloading package punkt to\n[nltk_data]     C:\\Users\\he_junke\\AppData\\Roaming\\nltk_data...\n[nltk_data]   Package punkt is already up-to-date!\n"
     ],
     "output_type": "stream"
    }
   ],
   "source": [
    "# 现在来用nltk进行更加细致的分析\n",
    "import nltk\n",
    "nltk.download('punkt')\n",
    "#对句子进行词汇分割和正规化，有些情况如aren‘t需要分割为are和n’t；或者i‘m要分割为i和’m。\n",
    "tokens_1=nltk.word_tokenize(sent1)\n",
    "print(tokens_1)"
   ]
  },
  {
   "cell_type": "code",
   "execution_count": 5,
   "metadata": {
    "pycharm": {
     "is_executing": false
    }
   },
   "outputs": [
    {
     "name": "stdout",
     "text": [
      "['A', 'dog', 'was', 'running', 'across', 'the', 'kitchen', '.']\n"
     ],
     "output_type": "stream"
    }
   ],
   "source": [
    "tokens_2=nltk.word_tokenize(sent2)\n",
    "print(tokens_2)"
   ]
  },
  {
   "cell_type": "code",
   "execution_count": 8,
   "metadata": {
    "pycharm": {
     "is_executing": false
    }
   },
   "outputs": [
    {
     "name": "stdout",
     "text": [
      "['.', 'The', 'bedroom', 'cat', 'in', 'is', 'the', 'walking']\n"
     ],
     "output_type": "stream"
    }
   ],
   "source": [
    "#整理两句的词表，并且按照ASCII的排序输出\n",
    "vocab_1=sorted(set(tokens_1))\n",
    "print(vocab_1)"
   ]
  },
  {
   "cell_type": "code",
   "execution_count": 7,
   "metadata": {
    "pycharm": {
     "is_executing": false
    }
   },
   "outputs": [
    {
     "name": "stdout",
     "text": [
      "['.', 'A', 'across', 'dog', 'kitchen', 'running', 'the', 'was']\n"
     ],
     "output_type": "stream"
    }
   ],
   "source": [
    "vocab_2=sorted(set(tokens_2))\n",
    "print(vocab_2)"
   ]
  },
  {
   "cell_type": "code",
   "execution_count": 9,
   "metadata": {
    "pycharm": {
     "is_executing": false
    }
   },
   "outputs": [
    {
     "name": "stdout",
     "text": [
      "['the', 'cat', 'is', 'walk', 'in', 'the', 'bedroom', '.']\n"
     ],
     "output_type": "stream"
    }
   ],
   "source": [
    "# 初始化stemmer寻找各个词汇最原始的词根\n",
    "stemmer=nltk.stem.PorterStemmer()\n",
    "stem_1=[stemmer.stem(t) for t in tokens_1]\n",
    "print(stem_1)"
   ]
  },
  {
   "cell_type": "code",
   "execution_count": 10,
   "metadata": {
    "pycharm": {
     "is_executing": false
    }
   },
   "outputs": [
    {
     "name": "stdout",
     "text": [
      "['A', 'dog', 'wa', 'run', 'across', 'the', 'kitchen', '.']\n"
     ],
     "output_type": "stream"
    }
   ],
   "source": [
    "stem_2=[stemmer.stem(t) for t in tokens_2]\n",
    "print(stem_2)"
   ]
  },
  {
   "cell_type": "code",
   "execution_count": 11,
   "metadata": {
    "pycharm": {
     "is_executing": false
    }
   },
   "outputs": [
    {
     "name": "stderr",
     "text": [
      "[nltk_data] Downloading package averaged_perceptron_tagger to\n[nltk_data]     C:\\Users\\he_junke\\AppData\\Roaming\\nltk_data...\n",
      "[nltk_data]   Unzipping taggers\\averaged_perceptron_tagger.zip.\n"
     ],
     "output_type": "stream"
    },
    {
     "name": "stdout",
     "text": [
      "[('The', 'DT'), ('cat', 'NN'), ('is', 'VBZ'), ('walking', 'VBG'), ('in', 'IN'), ('the', 'DT'), ('bedroom', 'NN'), ('.', '.')]\n"
     ],
     "output_type": "stream"
    }
   ],
   "source": [
    "nltk.download('averaged_perceptron_tagger')\n",
    "#初始化词性标注器，对每个词汇进行标注\n",
    "pos_tag_1=nltk.tag.pos_tag(tokens_1)\n",
    "print(pos_tag_1)"
   ]
  },
  {
   "cell_type": "code",
   "execution_count": 12,
   "metadata": {
    "pycharm": {
     "is_executing": false
    }
   },
   "outputs": [
    {
     "name": "stdout",
     "text": [
      "[('A', 'DT'), ('dog', 'NN'), ('was', 'VBD'), ('running', 'VBG'), ('across', 'IN'), ('the', 'DT'), ('kitchen', 'NN'), ('.', '.')]\n"
     ],
     "output_type": "stream"
    }
   ],
   "source": [
    "pos_tag_2=nltk.tag.pos_tag(tokens_2)\n",
    "print(pos_tag_2)"
   ]
  },
  {
   "cell_type": "code",
   "execution_count": null,
   "metadata": {},
   "outputs": [],
   "source": []
  }
 ],
 "metadata": {
  "kernelspec": {
   "display_name": "Python 3",
   "language": "python",
   "name": "python3"
  },
  "language_info": {
   "codemirror_mode": {
    "name": "ipython",
    "version": 3
   },
   "file_extension": ".py",
   "mimetype": "text/x-python",
   "name": "python",
   "nbconvert_exporter": "python",
   "pygments_lexer": "ipython3",
   "version": "3.7.3"
  },
  "pycharm": {
   "stem_cell": {
    "cell_type": "raw",
    "source": [],
    "metadata": {
     "collapsed": false
    }
   }
  }
 },
 "nbformat": 4,
 "nbformat_minor": 1
}