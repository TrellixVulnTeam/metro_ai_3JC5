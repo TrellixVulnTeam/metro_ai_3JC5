{
 "cells": [
  {
   "cell_type": "code",
   "execution_count": 1,
   "metadata": {
    "collapsed": true
   },
   "outputs": [],
   "source": [
    "import numpy as np\n",
    "\n",
    "my_arr = np.arange(1000000)\n",
    "my_list = list(range(1000000))"
   ]
  },
  {
   "cell_type": "code",
   "execution_count": 3,
   "metadata": {},
   "outputs": [
    {
     "name": "stdout",
     "output_type": "stream",
     "text": [
      "Wall time: 41.9 ms\n"
     ]
    }
   ],
   "source": [
    "%time for _ in range(10): my_arr2 = my_arr * 2"
   ]
  },
  {
   "cell_type": "code",
   "execution_count": 4,
   "metadata": {},
   "outputs": [
    {
     "name": "stdout",
     "output_type": "stream",
     "text": [
      "Wall time: 1.18 s\n"
     ]
    }
   ],
   "source": [
    "%time for _ in range(10): my_list2 = [x * 2 for x in my_list]"
   ]
  },
  {
   "cell_type": "code",
   "execution_count": null,
   "metadata": {},
   "outputs": [],
   "source": [
    "# 可以看出来这个np同样用list所消耗的时间比直接用list要少很多"
   ]
  },
  {
   "cell_type": "code",
   "execution_count": 5,
   "metadata": {},
   "outputs": [
    {
     "name": "stdout",
     "output_type": "stream",
     "text": [
      "[[-1.30878156 -0.36379112 -1.49660942]\n [-0.99593549 -0.64048166 -0.42597818]]\n"
     ]
    }
   ],
   "source": [
    "# 多维数组是ndarray\n",
    "data = np.random.randn(2, 3)\n",
    "# 生成二行三列的随机的数组\n",
    "print(data)\n",
    "\n",
    "\n"
   ]
  },
  {
   "cell_type": "code",
   "execution_count": 6,
   "metadata": {},
   "outputs": [
    {
     "name": "stdout",
     "output_type": "stream",
     "text": [
      "[[-13.08781558  -3.63791118 -14.96609425]\n [ -9.95935488  -6.40481657  -4.2597818 ]]\n"
     ]
    }
   ],
   "source": [
    "print(data*10)"
   ]
  },
  {
   "cell_type": "code",
   "execution_count": 7,
   "metadata": {},
   "outputs": [
    {
     "name": "stdout",
     "output_type": "stream",
     "text": [
      "[[-2.61756312 -0.72758224 -2.99321885]\n [-1.99187098 -1.28096331 -0.85195636]]\n"
     ]
    }
   ],
   "source": [
    "print(data + data)"
   ]
  },
  {
   "cell_type": "code",
   "execution_count": 8,
   "metadata": {},
   "outputs": [
    {
     "name": "stdout",
     "output_type": "stream",
     "text": [
      "(2, 3)\nfloat64\n"
     ]
    }
   ],
   "source": [
    "print(data.shape)\n",
    "# 维度大小\n",
    "print(data.dtype)\n",
    "# 数组数据类型"
   ]
  },
  {
   "cell_type": "code",
   "execution_count": 9,
   "metadata": {},
   "outputs": [
    {
     "name": "stdout",
     "output_type": "stream",
     "text": [
      "[6.  7.5 8.  0.  1. ]\n"
     ]
    }
   ],
   "source": [
    "# 创建数组最简单的方法就是用array\n",
    "data1 = [6, 7.5, 8, 0, 1]\n",
    "arr1 = np.array(data1)\n",
    "print(arr1)\n",
    "\n"
   ]
  },
  {
   "cell_type": "code",
   "execution_count": 10,
   "metadata": {},
   "outputs": [
    {
     "name": "stdout",
     "output_type": "stream",
     "text": [
      "[[1 2 3 4]\n [5 6 7 8]]\n"
     ]
    }
   ],
   "source": [
    "# 嵌套序列（由一组等长列表组成的列表）将会被转换成一个多维数组\n",
    "data2 = [[1, 2, 3, 4], [5, 6, 7, 8]]\n",
    "arr2 = np.array(data2)\n",
    "print(arr2)\n",
    "\n",
    "\n"
   ]
  },
  {
   "cell_type": "code",
   "execution_count": 15,
   "metadata": {},
   "outputs": [
    {
     "name": "stdout",
     "output_type": "stream",
     "text": [
      "4\n2\n(2, 4)\n"
     ]
    }
   ],
   "source": [
    "# ndim: number of array dimensions就是几行的意思\n",
    "# array数组\n",
    "# 注意元组的这个不一样\n",
    "a1 = np.zeros(((1, 2, 3, 4)))\n",
    "print(a1.ndim)\n",
    "print(arr2.ndim)\n",
    "print(arr2.shape)"
   ]
  },
  {
   "cell_type": "code",
   "execution_count": 2,
   "metadata": {},
   "outputs": [
    {
     "name": "stdout",
     "output_type": "stream",
     "text": [
      "[0. 0. 0. 0. 0. 0. 0. 0. 0. 0.]\n[[0. 0. 0. 0. 0. 0.]\n [0. 0. 0. 0. 0. 0.]\n [0. 0. 0. 0. 0. 0.]]\n[[[1.11098724e-311 3.16202013e-322]\n  [0.00000000e+000 0.00000000e+000]\n  [1.29060531e-306 3.69628970e-033]]\n\n [[1.86352629e+160 5.79703208e+170]\n  [3.44013139e+179 9.84970541e+165]\n  [2.65057421e-052 1.50349837e+161]]]\n"
     ]
    }
   ],
   "source": [
    "# 创建全0和全1的数组，还有创建没具体值的数组\n",
    "print(np.zeros(10))\n",
    "print(np.zeros((3, 6)))\n",
    "print(np.empty((2, 3, 2)))\n",
    "# empty分配内存空间产生随机值，不进行初始化"
   ]
  },
  {
   "cell_type": "code",
   "execution_count": 3,
   "metadata": {},
   "outputs": [
    {
     "name": "stdout",
     "output_type": "stream",
     "text": [
      "[ 0  1  2  3  4  5  6  7  8  9 10 11 12 13 14]\n"
     ]
    }
   ],
   "source": [
    "print(np.arange(15))\n",
    "# 类似range"
   ]
  },
  {
   "cell_type": "code",
   "execution_count": 4,
   "metadata": {},
   "outputs": [],
   "source": [
    "# numpy关注的是数值计算，所以如果没特别指定的话基本都是float64\n",
    "# 其他的创建函数自己百度去\n",
    "\n",
    "\n"
   ]
  },
  {
   "cell_type": "code",
   "execution_count": 5,
   "metadata": {},
   "outputs": [
    {
     "name": "stdout",
     "output_type": "stream",
     "text": [
      "float64\nint32\n"
     ]
    }
   ],
   "source": [
    "# dtype是一个特殊对象，含有ndarray将一块内存解释为特定数据类型所需的信息\n",
    "arr1 = np.array([1, 2, 3], dtype=np.float64)\n",
    "arr2 = np.array([1, 2, 3], dtype=np.int32)\n",
    "# 其他的数据类型自己百度去\n",
    "print(arr1.dtype)\n",
    "print(arr2.dtype)\n"
   ]
  },
  {
   "cell_type": "code",
   "execution_count": 6,
   "metadata": {},
   "outputs": [
    {
     "name": "stdout",
     "output_type": "stream",
     "text": [
      "int32\nfloat64\n"
     ]
    }
   ],
   "source": [
    "arr = np.array([1, 2, 3, 4, 5])\n",
    "print(arr.dtype)\n",
    "# astype来修改数据类型\n",
    "float_arr = arr.astype(np.float64)\n",
    "print(float_arr.dtype)\n",
    "# 如果浮点数转成整数，那么小数部分将会被截取删了"
   ]
  },
  {
   "cell_type": "code",
   "execution_count": 7,
   "metadata": {},
   "outputs": [
    {
     "name": "stdout",
     "output_type": "stream",
     "text": [
      "[ 1.25 -9.6  42.  ]\n"
     ]
    }
   ],
   "source": [
    "numeric_strings = np.array(['1.25', '-9.6', '42'], dtype=np.string_)\n",
    "# 这个字符串数组表示的全是数字，那么也可以转成数值形式\n",
    "print(numeric_strings.astype(float))\n",
    "# 用这个numpy.string_时候要注意，numpy的字符串数据是大小固定的，发生截取的时候不会警告的"
   ]
  },
  {
   "cell_type": "code",
   "execution_count": 8,
   "metadata": {},
   "outputs": [
    {
     "name": "stdout",
     "output_type": "stream",
     "text": [
      "[0 1 2 3 4 5 6 7 8 9]\n[0.22  0.27  0.357 0.38  0.44  0.5  ]\n[0. 1. 2. 3. 4. 5. 6. 7. 8. 9.]\n"
     ]
    }
   ],
   "source": [
    "int_array = np.arange(10)\n",
    "print(int_array)\n",
    "calibers = np.array([.22, .270, .357, .380, .44, .50], dtype=np.float64)\n",
    "print(calibers)\n",
    "print(int_array.astype(calibers.dtype))\n",
    "# 这个其实就是给每一个后面加上个小数点，但是没有小数位"
   ]
  },
  {
   "cell_type": "code",
   "execution_count": 9,
   "metadata": {},
   "outputs": [
    {
     "name": "stdout",
     "output_type": "stream",
     "text": [
      "[2362991368        523 1661424176 1988385690 1324770695      12290\n          0  544042868]\nuint32\n"
     ]
    }
   ],
   "source": [
    "empty_uint32 = np.empty(8, dtype='u4')\n",
    "# 不一定要写uint32，u4也可以\n",
    "print(empty_uint32)\n",
    "print(empty_uint32.dtype)"
   ]
  },
  {
   "cell_type": "code",
   "execution_count": 10,
   "metadata": {},
   "outputs": [
    {
     "name": "stdout",
     "output_type": "stream",
     "text": [
      "[[1. 2. 3.]\n [4. 5. 6.]]\n[[ 1.  4.  9.]\n [16. 25. 36.]]\n[[0. 0. 0.]\n [0. 0. 0.]]\n"
     ]
    }
   ],
   "source": [
    "# 数组运算\n",
    "arr = np.array([[1., 2., 3.], [4., 5., 6.]])\n",
    "\n",
    "print(arr)\n",
    "print(arr * arr)\n",
    "print(arr - arr)\n",
    "\n"
   ]
  },
  {
   "cell_type": "code",
   "execution_count": 11,
   "metadata": {},
   "outputs": [
    {
     "name": "stdout",
     "output_type": "stream",
     "text": [
      "[[1.         0.5        0.33333333]\n [0.25       0.2        0.16666667]]\n[[1.         1.41421356 1.73205081]\n [2.         2.23606798 2.44948974]]\n"
     ]
    }
   ],
   "source": [
    "print(1 / arr)\n",
    "print(arr ** 0.5)\n",
    "# 数组里面每一个值都会受影响"
   ]
  },
  {
   "cell_type": "code",
   "execution_count": 12,
   "metadata": {},
   "outputs": [
    {
     "name": "stdout",
     "output_type": "stream",
     "text": [
      "[[ 0.  4.  1.]\n [ 7.  2. 12.]]\n[[False  True False]\n [ True False  True]]\n"
     ]
    }
   ],
   "source": [
    "arr2 = np.array([[0., 4., 1.], [7., 2., 12.]])\n",
    "# 进行比较生成的是布尔值的\n",
    "print(arr2)\n",
    "print(arr2 > arr)"
   ]
  },
  {
   "cell_type": "code",
   "execution_count": 13,
   "metadata": {},
   "outputs": [
    {
     "name": "stdout",
     "output_type": "stream",
     "text": [
      "第一个数组：\n[[ 0.  0.  0.]\n [10. 10. 10.]\n [20. 20. 20.]\n [30. 30. 30.]]\n\n第二个数组：\n[1. 2. 3.]\n\n第一个数组加第二个数组：\n[[ 1.  2.  3.]\n [11. 12. 13.]\n [21. 22. 23.]\n [31. 32. 33.]]\n"
     ]
    }
   ],
   "source": [
    "# 两个数组维数不同，元素到元素的操作是不可能的，但是numpy可能，较小的数组会广播道较大数组的大小\n",
    "# 以便形状可兼容\n",
    "a = np.array([[0.0,0.0,0.0],[10.0,10.0,10.0],[20.0,20.0,20.0],[30.0,30.0,30.0]]) \n",
    "b = np.array([1.0,2.0,3.0])  \n",
    "print ('第一个数组：')  \n",
    "print (a) \n",
    "print ('\\n第二个数组：')  \n",
    "print (b) \n",
    "print ('\\n第一个数组加第二个数组：')  \n",
    "print (a + b)\n",
    "# 小的数组直接变成了四维的123，都是补的原始值而不是补0"
   ]
  },
  {
   "cell_type": "code",
   "execution_count": 14,
   "metadata": {},
   "outputs": [],
   "source": [
    "# 如果满足以下规则，可以进行广播：\n",
    "# \n",
    "#     ndim较小的数组会在前面追加一个长度为 1 的维度。\n",
    "#     输出数组的每个维度的大小是输入数组该维度大小的最大值。\n",
    "#     如果输入在每个维度中的大小与输出大小匹配，或其值正好为 1，则可以在计算中使用该输入。\n",
    "#     如果输入的某个维度大小为 1，则该维度中的第一个数据元素将用于该维度的所有计算。\n",
    "# \n",
    "# 如果上述规则产生有效结果，并且满足以下条件之一，那么数组被称为可广播的。\n",
    "# \n",
    "#     数组拥有相同形状。\n",
    "#     数组拥有相同的维数，每个维度拥有相同长度，或者长度为 1。\n",
    "#     数组拥有极少的维度，可以在其前面追加长度为 1 的维度，使上述条件成立。\n"
   ]
  },
  {
   "cell_type": "code",
   "execution_count": 15,
   "metadata": {},
   "outputs": [
    {
     "name": "stdout",
     "output_type": "stream",
     "text": [
      "[0 1 2 3 4 5 6 7 8 9]\n5\n[5 6 7]\n[ 0  1  2  3  4 12 12 12  8  9]\n"
     ]
    }
   ],
   "source": [
    "arr = np.arange(10)\n",
    "# 索引和切片\n",
    "print (arr)\n",
    "#arr的第6个元素\n",
    "print (arr[5])\n",
    "#arr的第6-8个元素，[5:8]左闭右开\n",
    "print (arr[5:8])\n",
    "\n",
    "arr[5:8] = 12\n",
    "# 中间这几个值全都变成了12\n",
    "print (arr)\n"
   ]
  },
  {
   "cell_type": "code",
   "execution_count": null,
   "metadata": {},
   "outputs": [
    {
     "name": "stdout",
     "output_type": "stream",
     "text": [
      "[12 12 12]\n[    0     1     2     3     4    12 12345    12     8     9]\n"
     ]
    }
   ],
   "source": [
    "# 注意这些改的是原始的数组，不会和平时一样需要复制或者深拷贝这些\n",
    "arr_slice = arr[5:8]\n",
    "print (arr_slice)\n",
    "arr_slice[1] = 12345\n",
    "print (arr)\n",
    "# 最初的arr也发生了变化\n",
    "# 要知道np是为了弄大数据的，如果坚持复制来复制去的话会花费很多性能和内存的\n",
    "# 如果要副本的话就需要明确的用copy来复制"
   ]
  },
  {
   "cell_type": "code",
   "execution_count": 2,
   "metadata": {},
   "outputs": [
    {
     "name": "stdout",
     "output_type": "stream",
     "text": [
      "[7 8 9]\n"
     ]
    }
   ],
   "source": [
    "arr2d = np.array([[1, 2, 3], [4, 5, 6], [7, 8, 9]])\n",
    "# 索引\n",
    "print(arr2d[2])"
   ]
  },
  {
   "cell_type": "code",
   "execution_count": 3,
   "metadata": {},
   "outputs": [
    {
     "name": "stdout",
     "output_type": "stream",
     "text": [
      "3\n3\n"
     ]
    }
   ],
   "source": [
    "print (arr2d[0][2])\n",
    "print (arr2d[0, 2])\n",
    "# 进行递归访问，0的2位置上的元素，这两个方式是一样的"
   ]
  },
  {
   "cell_type": "code",
   "execution_count": 7,
   "metadata": {},
   "outputs": [
    {
     "name": "stdout",
     "output_type": "stream",
     "text": [
      "[[[ 1  2  3]\n  [ 4  5  6]]\n\n [[ 7  8  9]\n  [10 11 12]]]\n\n\n[[1 2 3]\n [4 5 6]]\n"
     ]
    }
   ],
   "source": [
    "arr3d = np.array([[[1, 2, 3], [4, 5, 6]], [[7, 8, 9], [10, 11, 12]]])\n",
    "print(arr3d)\n",
    "print(\"\\n\")\n",
    "print(arr3d[0])\n",
    "# 返回0上维度低一点的ndarray"
   ]
  },
  {
   "cell_type": "code",
   "execution_count": 8,
   "metadata": {},
   "outputs": [
    {
     "name": "stdout",
     "output_type": "stream",
     "text": [
      "[[[42 42 42]\n  [42 42 42]]\n\n [[ 7  8  9]\n  [10 11 12]]]\n===========分割线============\n[[[ 1  2  3]\n  [ 4  5  6]]\n\n [[ 7  8  9]\n  [10 11 12]]]\n"
     ]
    }
   ],
   "source": [
    "# 将arr3d[0]的数据进行备份\n",
    "old_values = arr3d[0].copy()\n",
    "# 修改arr3d[0]的值为42\n",
    "arr3d[0] = 42\n",
    "print(arr3d)\n",
    "print('===========分割线============')\n",
    "arr3d[0] = old_values\n",
    "print(arr3d)\n",
    "# 标量值和数组都可以被赋值进去"
   ]
  },
  {
   "cell_type": "code",
   "execution_count": null,
   "metadata": {},
   "outputs": [],
   "source": []
  }
 ],
 "metadata": {
  "kernelspec": {
   "display_name": "Python 2",
   "language": "python",
   "name": "python2"
  },
  "language_info": {
   "codemirror_mode": {
    "name": "ipython",
    "version": 2
   },
   "file_extension": ".py",
   "mimetype": "text/x-python",
   "name": "python",
   "nbconvert_exporter": "python",
   "pygments_lexer": "ipython2",
   "version": "2.7.6"
  }
 },
 "nbformat": 4,
 "nbformat_minor": 0
}
