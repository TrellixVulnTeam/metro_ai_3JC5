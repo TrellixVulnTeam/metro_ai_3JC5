{
 "cells": [
  {
   "cell_type": "code",
   "execution_count": 1,
   "metadata": {
    "collapsed": true
   },
   "outputs": [],
   "source": [
    "import numpy as np\n",
    "\n",
    "my_arr = np.arange(1000000)\n",
    "my_list = list(range(1000000))"
   ]
  },
  {
   "cell_type": "code",
   "execution_count": 3,
   "metadata": {},
   "outputs": [
    {
     "name": "stdout",
     "output_type": "stream",
     "text": [
      "Wall time: 41.9 ms\n"
     ]
    }
   ],
   "source": [
    "%time for _ in range(10): my_arr2 = my_arr * 2"
   ]
  },
  {
   "cell_type": "code",
   "execution_count": 4,
   "metadata": {},
   "outputs": [
    {
     "name": "stdout",
     "output_type": "stream",
     "text": [
      "Wall time: 1.18 s\n"
     ]
    }
   ],
   "source": [
    "%time for _ in range(10): my_list2 = [x * 2 for x in my_list]"
   ]
  },
  {
   "cell_type": "code",
   "execution_count": null,
   "metadata": {},
   "outputs": [],
   "source": [
    "# 可以看出来这个np同样用list所消耗的时间比直接用list要少很多"
   ]
  },
  {
   "cell_type": "code",
   "execution_count": 5,
   "metadata": {},
   "outputs": [
    {
     "name": "stdout",
     "output_type": "stream",
     "text": [
      "[[-1.30878156 -0.36379112 -1.49660942]\n [-0.99593549 -0.64048166 -0.42597818]]\n"
     ]
    }
   ],
   "source": [
    "# 多维数组是ndarray\n",
    "data = np.random.randn(2, 3)\n",
    "# 生成二行三列的随机的数组\n",
    "print(data)\n",
    "\n",
    "\n"
   ]
  },
  {
   "cell_type": "code",
   "execution_count": 6,
   "metadata": {},
   "outputs": [
    {
     "name": "stdout",
     "output_type": "stream",
     "text": [
      "[[-13.08781558  -3.63791118 -14.96609425]\n [ -9.95935488  -6.40481657  -4.2597818 ]]\n"
     ]
    }
   ],
   "source": [
    "print(data*10)"
   ]
  },
  {
   "cell_type": "code",
   "execution_count": 7,
   "metadata": {},
   "outputs": [
    {
     "name": "stdout",
     "output_type": "stream",
     "text": [
      "[[-2.61756312 -0.72758224 -2.99321885]\n [-1.99187098 -1.28096331 -0.85195636]]\n"
     ]
    }
   ],
   "source": [
    "print(data + data)"
   ]
  },
  {
   "cell_type": "code",
   "execution_count": 8,
   "metadata": {},
   "outputs": [
    {
     "name": "stdout",
     "output_type": "stream",
     "text": [
      "(2, 3)\nfloat64\n"
     ]
    }
   ],
   "source": [
    "print(data.shape)\n",
    "# 维度大小\n",
    "print(data.dtype)\n",
    "# 数组数据类型"
   ]
  },
  {
   "cell_type": "code",
   "execution_count": 9,
   "metadata": {},
   "outputs": [
    {
     "name": "stdout",
     "output_type": "stream",
     "text": [
      "[6.  7.5 8.  0.  1. ]\n"
     ]
    }
   ],
   "source": [
    "# 创建数组最简单的方法就是用array\n",
    "data1 = [6, 7.5, 8, 0, 1]\n",
    "arr1 = np.array(data1)\n",
    "print(arr1)\n",
    "\n"
   ]
  },
  {
   "cell_type": "code",
   "execution_count": 10,
   "metadata": {},
   "outputs": [
    {
     "name": "stdout",
     "output_type": "stream",
     "text": [
      "[[1 2 3 4]\n [5 6 7 8]]\n"
     ]
    }
   ],
   "source": [
    "# 嵌套序列（由一组等长列表组成的列表）将会被转换成一个多维数组\n",
    "data2 = [[1, 2, 3, 4], [5, 6, 7, 8]]\n",
    "arr2 = np.array(data2)\n",
    "print(arr2)\n",
    "\n",
    "\n"
   ]
  },
  {
   "cell_type": "code",
   "execution_count": 15,
   "metadata": {},
   "outputs": [
    {
     "name": "stdout",
     "output_type": "stream",
     "text": [
      "4\n2\n(2, 4)\n"
     ]
    }
   ],
   "source": [
    "# ndim: number of array dimensions就是几行的意思\n",
    "# array数组\n",
    "# 注意元组的这个不一样\n",
    "a1 = np.zeros(((1, 2, 3, 4)))\n",
    "print(a1.ndim)\n",
    "print(arr2.ndim)\n",
    "print(arr2.shape)"
   ]
  },
  {
   "cell_type": "code",
   "execution_count": 2,
   "metadata": {},
   "outputs": [
    {
     "name": "stdout",
     "output_type": "stream",
     "text": [
      "[0. 0. 0. 0. 0. 0. 0. 0. 0. 0.]\n[[0. 0. 0. 0. 0. 0.]\n [0. 0. 0. 0. 0. 0.]\n [0. 0. 0. 0. 0. 0.]]\n[[[1.11098724e-311 3.16202013e-322]\n  [0.00000000e+000 0.00000000e+000]\n  [1.29060531e-306 3.69628970e-033]]\n\n [[1.86352629e+160 5.79703208e+170]\n  [3.44013139e+179 9.84970541e+165]\n  [2.65057421e-052 1.50349837e+161]]]\n"
     ]
    }
   ],
   "source": [
    "# 创建全0和全1的数组，还有创建没具体值的数组\n",
    "print(np.zeros(10))\n",
    "print(np.zeros((3, 6)))\n",
    "print(np.empty((2, 3, 2)))\n",
    "# empty分配内存空间产生随机值，不进行初始化"
   ]
  },
  {
   "cell_type": "code",
   "execution_count": 3,
   "metadata": {},
   "outputs": [
    {
     "name": "stdout",
     "output_type": "stream",
     "text": [
      "[ 0  1  2  3  4  5  6  7  8  9 10 11 12 13 14]\n"
     ]
    }
   ],
   "source": [
    "print(np.arange(15))\n",
    "# 类似range"
   ]
  },
  {
   "cell_type": "code",
   "execution_count": 4,
   "metadata": {},
   "outputs": [],
   "source": [
    "# numpy关注的是数值计算，所以如果没特别指定的话基本都是float64\n",
    "# 其他的创建函数自己百度去\n",
    "\n",
    "\n"
   ]
  },
  {
   "cell_type": "code",
   "execution_count": 5,
   "metadata": {},
   "outputs": [
    {
     "name": "stdout",
     "output_type": "stream",
     "text": [
      "float64\nint32\n"
     ]
    }
   ],
   "source": [
    "# dtype是一个特殊对象，含有ndarray将一块内存解释为特定数据类型所需的信息\n",
    "arr1 = np.array([1, 2, 3], dtype=np.float64)\n",
    "arr2 = np.array([1, 2, 3], dtype=np.int32)\n",
    "# 其他的数据类型自己百度去\n",
    "print(arr1.dtype)\n",
    "print(arr2.dtype)\n"
   ]
  },
  {
   "cell_type": "code",
   "execution_count": 6,
   "metadata": {},
   "outputs": [
    {
     "name": "stdout",
     "output_type": "stream",
     "text": [
      "int32\nfloat64\n"
     ]
    }
   ],
   "source": [
    "arr = np.array([1, 2, 3, 4, 5])\n",
    "print(arr.dtype)\n",
    "# astype来修改数据类型\n",
    "float_arr = arr.astype(np.float64)\n",
    "print(float_arr.dtype)\n",
    "# 如果浮点数转成整数，那么小数部分将会被截取删了"
   ]
  },
  {
   "cell_type": "code",
   "execution_count": 7,
   "metadata": {},
   "outputs": [
    {
     "name": "stdout",
     "output_type": "stream",
     "text": [
      "[ 1.25 -9.6  42.  ]\n"
     ]
    }
   ],
   "source": [
    "numeric_strings = np.array(['1.25', '-9.6', '42'], dtype=np.string_)\n",
    "# 这个字符串数组表示的全是数字，那么也可以转成数值形式\n",
    "print(numeric_strings.astype(float))\n",
    "# 用这个numpy.string_时候要注意，numpy的字符串数据是大小固定的，发生截取的时候不会警告的"
   ]
  },
  {
   "cell_type": "code",
   "execution_count": 8,
   "metadata": {},
   "outputs": [
    {
     "name": "stdout",
     "output_type": "stream",
     "text": [
      "[0 1 2 3 4 5 6 7 8 9]\n[0.22  0.27  0.357 0.38  0.44  0.5  ]\n[0. 1. 2. 3. 4. 5. 6. 7. 8. 9.]\n"
     ]
    }
   ],
   "source": [
    "int_array = np.arange(10)\n",
    "print(int_array)\n",
    "calibers = np.array([.22, .270, .357, .380, .44, .50], dtype=np.float64)\n",
    "print(calibers)\n",
    "print(int_array.astype(calibers.dtype))\n",
    "# 这个其实就是给每一个后面加上个小数点，但是没有小数位"
   ]
  },
  {
   "cell_type": "code",
   "execution_count": 9,
   "metadata": {},
   "outputs": [
    {
     "name": "stdout",
     "output_type": "stream",
     "text": [
      "[2362991368        523 1661424176 1988385690 1324770695      12290\n          0  544042868]\nuint32\n"
     ]
    }
   ],
   "source": [
    "empty_uint32 = np.empty(8, dtype='u4')\n",
    "# 不一定要写uint32，u4也可以\n",
    "print(empty_uint32)\n",
    "print(empty_uint32.dtype)"
   ]
  },
  {
   "cell_type": "code",
   "execution_count": 10,
   "metadata": {},
   "outputs": [
    {
     "name": "stdout",
     "output_type": "stream",
     "text": [
      "[[1. 2. 3.]\n [4. 5. 6.]]\n[[ 1.  4.  9.]\n [16. 25. 36.]]\n[[0. 0. 0.]\n [0. 0. 0.]]\n"
     ]
    }
   ],
   "source": [
    "# 数组运算\n",
    "arr = np.array([[1., 2., 3.], [4., 5., 6.]])\n",
    "\n",
    "print(arr)\n",
    "print(arr * arr)\n",
    "print(arr - arr)\n",
    "\n"
   ]
  },
  {
   "cell_type": "code",
   "execution_count": 11,
   "metadata": {},
   "outputs": [
    {
     "name": "stdout",
     "output_type": "stream",
     "text": [
      "[[1.         0.5        0.33333333]\n [0.25       0.2        0.16666667]]\n[[1.         1.41421356 1.73205081]\n [2.         2.23606798 2.44948974]]\n"
     ]
    }
   ],
   "source": [
    "print(1 / arr)\n",
    "print(arr ** 0.5)\n",
    "# 数组里面每一个值都会受影响"
   ]
  },
  {
   "cell_type": "code",
   "execution_count": 12,
   "metadata": {},
   "outputs": [
    {
     "name": "stdout",
     "output_type": "stream",
     "text": [
      "[[ 0.  4.  1.]\n [ 7.  2. 12.]]\n[[False  True False]\n [ True False  True]]\n"
     ]
    }
   ],
   "source": [
    "arr2 = np.array([[0., 4., 1.], [7., 2., 12.]])\n",
    "# 进行比较生成的是布尔值的\n",
    "print(arr2)\n",
    "print(arr2 > arr)"
   ]
  },
  {
   "cell_type": "code",
   "execution_count": 13,
   "metadata": {},
   "outputs": [
    {
     "name": "stdout",
     "output_type": "stream",
     "text": [
      "第一个数组：\n[[ 0.  0.  0.]\n [10. 10. 10.]\n [20. 20. 20.]\n [30. 30. 30.]]\n\n第二个数组：\n[1. 2. 3.]\n\n第一个数组加第二个数组：\n[[ 1.  2.  3.]\n [11. 12. 13.]\n [21. 22. 23.]\n [31. 32. 33.]]\n"
     ]
    }
   ],
   "source": [
    "# 两个数组维数不同，元素到元素的操作是不可能的，但是numpy可能，较小的数组会广播道较大数组的大小\n",
    "# 以便形状可兼容\n",
    "a = np.array([[0.0,0.0,0.0],[10.0,10.0,10.0],[20.0,20.0,20.0],[30.0,30.0,30.0]]) \n",
    "b = np.array([1.0,2.0,3.0])  \n",
    "print ('第一个数组：')  \n",
    "print (a) \n",
    "print ('\\n第二个数组：')  \n",
    "print (b) \n",
    "print ('\\n第一个数组加第二个数组：')  \n",
    "print (a + b)\n",
    "# 小的数组直接变成了四维的123，都是补的原始值而不是补0"
   ]
  },
  {
   "cell_type": "code",
   "execution_count": 14,
   "metadata": {},
   "outputs": [],
   "source": [
    "# 如果满足以下规则，可以进行广播：\n",
    "# \n",
    "#     ndim较小的数组会在前面追加一个长度为 1 的维度。\n",
    "#     输出数组的每个维度的大小是输入数组该维度大小的最大值。\n",
    "#     如果输入在每个维度中的大小与输出大小匹配，或其值正好为 1，则可以在计算中使用该输入。\n",
    "#     如果输入的某个维度大小为 1，则该维度中的第一个数据元素将用于该维度的所有计算。\n",
    "# \n",
    "# 如果上述规则产生有效结果，并且满足以下条件之一，那么数组被称为可广播的。\n",
    "# \n",
    "#     数组拥有相同形状。\n",
    "#     数组拥有相同的维数，每个维度拥有相同长度，或者长度为 1。\n",
    "#     数组拥有极少的维度，可以在其前面追加长度为 1 的维度，使上述条件成立。\n"
   ]
  },
  {
   "cell_type": "code",
   "execution_count": 15,
   "metadata": {},
   "outputs": [
    {
     "name": "stdout",
     "output_type": "stream",
     "text": [
      "[0 1 2 3 4 5 6 7 8 9]\n5\n[5 6 7]\n[ 0  1  2  3  4 12 12 12  8  9]\n"
     ]
    }
   ],
   "source": [
    "arr = np.arange(10)\n",
    "# 索引和切片\n",
    "print (arr)\n",
    "#arr的第6个元素\n",
    "print (arr[5])\n",
    "#arr的第6-8个元素，[5:8]左闭右开\n",
    "print (arr[5:8])\n",
    "\n",
    "arr[5:8] = 12\n",
    "# 中间这几个值全都变成了12\n",
    "print (arr)\n"
   ]
  },
  {
   "cell_type": "code",
   "execution_count": null,
   "metadata": {},
   "outputs": [
    {
     "name": "stdout",
     "output_type": "stream",
     "text": [
      "[12 12 12]\n[    0     1     2     3     4    12 12345    12     8     9]\n"
     ]
    }
   ],
   "source": [
    "# 注意这些改的是原始的数组，不会和平时一样需要复制或者深拷贝这些\n",
    "arr_slice = arr[5:8]\n",
    "print (arr_slice)\n",
    "arr_slice[1] = 12345\n",
    "print (arr)\n",
    "# 最初的arr也发生了变化\n",
    "# 要知道np是为了弄大数据的，如果坚持复制来复制去的话会花费很多性能和内存的\n",
    "# 如果要副本的话就需要明确的用copy来复制"
   ]
  },
  {
   "cell_type": "code",
   "execution_count": 2,
   "metadata": {},
   "outputs": [
    {
     "name": "stdout",
     "output_type": "stream",
     "text": [
      "[7 8 9]\n"
     ]
    }
   ],
   "source": [
    "arr2d = np.array([[1, 2, 3], [4, 5, 6], [7, 8, 9]])\n",
    "# 索引\n",
    "print(arr2d[2])"
   ]
  },
  {
   "cell_type": "code",
   "execution_count": 3,
   "metadata": {},
   "outputs": [
    {
     "name": "stdout",
     "output_type": "stream",
     "text": [
      "3\n3\n"
     ]
    }
   ],
   "source": [
    "print (arr2d[0][2])\n",
    "print (arr2d[0, 2])\n",
    "# 进行递归访问，0的2位置上的元素，这两个方式是一样的"
   ]
  },
  {
   "cell_type": "code",
   "execution_count": 7,
   "metadata": {},
   "outputs": [
    {
     "name": "stdout",
     "output_type": "stream",
     "text": [
      "[[[ 1  2  3]\n  [ 4  5  6]]\n\n [[ 7  8  9]\n  [10 11 12]]]\n\n\n[[1 2 3]\n [4 5 6]]\n"
     ]
    }
   ],
   "source": [
    "arr3d = np.array([[[1, 2, 3], [4, 5, 6]], [[7, 8, 9], [10, 11, 12]]])\n",
    "print(arr3d)\n",
    "print(\"\\n\")\n",
    "print(arr3d[0])\n",
    "# 返回0上维度低一点的ndarray"
   ]
  },
  {
   "cell_type": "code",
   "execution_count": 8,
   "metadata": {},
   "outputs": [
    {
     "name": "stdout",
     "output_type": "stream",
     "text": [
      "[[[42 42 42]\n  [42 42 42]]\n\n [[ 7  8  9]\n  [10 11 12]]]\n===========分割线============\n[[[ 1  2  3]\n  [ 4  5  6]]\n\n [[ 7  8  9]\n  [10 11 12]]]\n"
     ]
    }
   ],
   "source": [
    "# 将arr3d[0]的数据进行备份\n",
    "old_values = arr3d[0].copy()\n",
    "# 修改arr3d[0]的值为42\n",
    "arr3d[0] = 42\n",
    "print(arr3d)\n",
    "print('===========分割线============')\n",
    "arr3d[0] = old_values\n",
    "print(arr3d)\n",
    "# 标量值和数组都可以被赋值进去"
   ]
  },
  {
   "cell_type": "code",
   "execution_count": 9,
   "metadata": {},
   "outputs": [
    {
     "name": "stdout",
     "output_type": "stream",
     "text": [
      "[[1 2 3]\n [4 5 6]\n [7 8 9]]\n===========分割线============\n[[1 2 3]\n [4 5 6]]\n"
     ]
    }
   ],
   "source": [
    "print(arr2d)\n",
    "print('===========分割线============')\n",
    "print(arr2d[:2])\n",
    "# 切0和1轴的"
   ]
  },
  {
   "cell_type": "code",
   "execution_count": 10,
   "metadata": {},
   "outputs": [
    {
     "name": "stdout",
     "output_type": "stream",
     "text": [
      "[[2 3]\n [5 6]]\n"
     ]
    }
   ],
   "source": [
    "print(arr2d[:2, 1:])\n",
    "# 后面的是进去之后的从1开始到最后的切"
   ]
  },
  {
   "cell_type": "code",
   "execution_count": 12,
   "metadata": {},
   "outputs": [
    {
     "name": "stdout",
     "output_type": "stream",
     "text": [
      "['Bob' 'Joe' 'Will' 'Bob' 'Will' 'Joe' 'Joe']\n[[ 0.4973647   1.8156115   0.39165585 -0.99502229]\n [-2.00483115  0.01985026  0.66831662 -0.6903029 ]\n [-1.66957736 -0.1975745  -0.42924002  0.00267774]\n [-0.86503121 -0.10477545 -1.23185485  0.68989887]\n [ 1.31805538 -0.20462078  0.84575444  2.59546266]\n [-1.06228126 -1.33718052  1.77527171  0.65031478]\n [ 0.63029048 -0.16200213  0.41393493  0.42105781]]\n[ True False False  True False False False]\n[[ 0.4973647   1.8156115   0.39165585 -0.99502229]\n [-0.86503121 -0.10477545 -1.23185485  0.68989887]]\n"
     ]
    }
   ],
   "source": [
    "names = np.array(['Bob', 'Joe', 'Will', 'Bob', 'Will', 'Joe', 'Joe'])\n",
    "data = np.random.randn(7, 4)\n",
    "\n",
    "print(names)\n",
    "print(data)\n",
    "print(names == 'Bob')\n",
    "# 这样子来弄个数组索引，用这个里面的true和false对应关系就行了\n",
    "print(data[names == 'Bob'])"
   ]
  },
  {
   "cell_type": "code",
   "execution_count": 13,
   "metadata": {},
   "outputs": [
    {
     "name": "stdout",
     "output_type": "stream",
     "text": [
      "[False  True  True False  True  True  True]\n[[-2.00483115  0.01985026  0.66831662 -0.6903029 ]\n [-1.66957736 -0.1975745  -0.42924002  0.00267774]\n [ 1.31805538 -0.20462078  0.84575444  2.59546266]\n [-1.06228126 -1.33718052  1.77527171  0.65031478]\n [ 0.63029048 -0.16200213  0.41393493  0.42105781]]\n"
     ]
    }
   ],
   "source": [
    "print(names != 'Bob')\n",
    "# 这两种表示否定的方法也都可以\n",
    "print(data[~(names == 'Bob')])"
   ]
  },
  {
   "cell_type": "code",
   "execution_count": 14,
   "metadata": {},
   "outputs": [
    {
     "name": "stdout",
     "output_type": "stream",
     "text": [
      "[[-2.00483115  0.01985026  0.66831662 -0.6903029 ]\n [-1.66957736 -0.1975745  -0.42924002  0.00267774]\n [ 1.31805538 -0.20462078  0.84575444  2.59546266]\n [-1.06228126 -1.33718052  1.77527171  0.65031478]\n [ 0.63029048 -0.16200213  0.41393493  0.42105781]]\n"
     ]
    }
   ],
   "source": [
    "cond = names == 'Bob'\n",
    "print(data[~cond])\n",
    "# 这样子以后也可以操作这个判定条件了"
   ]
  },
  {
   "cell_type": "code",
   "execution_count": 15,
   "metadata": {},
   "outputs": [
    {
     "name": "stdout",
     "output_type": "stream",
     "text": [
      "[[0. 0. 0. 0.]\n [1. 1. 1. 1.]\n [2. 2. 2. 2.]\n [3. 3. 3. 3.]\n [4. 4. 4. 4.]\n [5. 5. 5. 5.]\n [6. 6. 6. 6.]\n [7. 7. 7. 7.]]\n"
     ]
    }
   ],
   "source": [
    "# 花式索引：利用整数数组进行索引\n",
    "arr = np.empty((8, 4))\n",
    "for i in range(8):\n",
    "  arr[i] = i\n",
    "print (arr)\n",
    "\n"
   ]
  },
  {
   "cell_type": "code",
   "execution_count": 16,
   "metadata": {},
   "outputs": [
    {
     "name": "stdout",
     "output_type": "stream",
     "text": [
      "[[4. 4. 4. 4.]\n [3. 3. 3. 3.]\n [0. 0. 0. 0.]\n [6. 6. 6. 6.]]\n"
     ]
    }
   ],
   "source": [
    "print (arr[[4, 3, 0, 6]])\n",
    "# 特定顺序来选取子集，这个是位置，不是值"
   ]
  },
  {
   "cell_type": "code",
   "execution_count": 17,
   "metadata": {},
   "outputs": [
    {
     "name": "stdout",
     "output_type": "stream",
     "text": [
      "[[5. 5. 5. 5.]\n [3. 3. 3. 3.]\n [1. 1. 1. 1.]]\n"
     ]
    }
   ],
   "source": [
    "print(arr[[-3, -5, -7]])"
   ]
  },
  {
   "cell_type": "code",
   "execution_count": 18,
   "metadata": {},
   "outputs": [
    {
     "name": "stdout",
     "output_type": "stream",
     "text": [
      "[[ 0  1  2  3]\n [ 4  5  6  7]\n [ 8  9 10 11]\n [12 13 14 15]\n [16 17 18 19]\n [20 21 22 23]\n [24 25 26 27]\n [28 29 30 31]]\n[ 4 23 29 10]\n"
     ]
    }
   ],
   "source": [
    "arr = np.arange(32).reshape((8, 4))\n",
    "print(arr)\n",
    "print(arr[[1, 5, 7, 2], [0, 3, 1, 2]])\n",
    "# 传入多个也可以，里面也是通过对应位置来的，返回的是一维数组，里面都是值"
   ]
  },
  {
   "cell_type": "code",
   "execution_count": 19,
   "metadata": {},
   "outputs": [
    {
     "name": "stdout",
     "output_type": "stream",
     "text": [
      "[[ 4  7  5  6]\n [20 23 21 22]\n [28 31 29 30]\n [ 8 11  9 10]]\n"
     ]
    }
   ],
   "source": [
    "# 要想变成常见的矩阵区域的话\n",
    "print(arr[[1, 5, 7, 2]][:, [0, 3, 1, 2]])\n",
    "\n",
    "# 要花式索引和切片不一样，它是将数据复制到新的数组中，切片是直接在原数组上进行切片\n"
   ]
  },
  {
   "cell_type": "code",
   "execution_count": 20,
   "metadata": {},
   "outputs": [
    {
     "name": "stdout",
     "output_type": "stream",
     "text": [
      "[[ 0  1  2  3  4]\n [ 5  6  7  8  9]\n [10 11 12 13 14]]\n[[ 0  5 10]\n [ 1  6 11]\n [ 2  7 12]\n [ 3  8 13]\n [ 4  9 14]]\n"
     ]
    }
   ],
   "source": [
    "arr = np.arange(15).reshape((3, 5))\n",
    "print(arr)\n",
    "print(arr.T)\n",
    "# 简单的转置操作"
   ]
  },
  {
   "cell_type": "code",
   "execution_count": 21,
   "metadata": {},
   "outputs": [
    {
     "name": "stdout",
     "output_type": "stream",
     "text": [
      "[[ 0.27447302 -0.8221905  -1.09027535]\n [ 0.58485829 -0.50854391 -1.88884074]\n [ 0.26296954 -1.80796589 -0.10604938]\n [-0.45421317  0.68486192 -1.58439948]\n [ 0.99067653  0.69480679  1.78158736]\n [ 1.12546943 -0.71632794  3.0177793 ]]\n[[ 2.94097868 -1.42748492  4.44920718]\n [-1.42748492  5.66827284  0.03975064]\n [ 4.44920718  0.03975064 19.55903327]]\n"
     ]
    }
   ],
   "source": [
    "arr = np.random.randn(6, 3)\n",
    "print (arr)\n",
    "print (np.dot(arr.T, arr))\n",
    "# np.dot计算矩阵内积"
   ]
  },
  {
   "cell_type": "code",
   "execution_count": 22,
   "metadata": {},
   "outputs": [
    {
     "name": "stdout",
     "output_type": "stream",
     "text": [
      "[[[ 0  1  2  3]\n  [ 4  5  6  7]]\n\n [[ 8  9 10 11]\n  [12 13 14 15]]]\n==========分割线==============\n[[[ 0  1  2  3]\n  [ 8  9 10 11]]\n\n [[ 4  5  6  7]\n  [12 13 14 15]]]\n"
     ]
    }
   ],
   "source": [
    "arr = np.arange(16).reshape((2, 2, 4))\n",
    "print(arr)\n",
    "print('==========分割线==============')\n",
    "print(arr.transpose((1, 0, 2)))\n",
    "# 高维数组转置就需要用这个了，当然这个的话需要得到一个由轴编号组成的元组才能进行转置操作\n",
    "# 这个实际上就是1和2的位置进行了互换，想成ABCD来看就是了"
   ]
  },
  {
   "cell_type": "code",
   "execution_count": 23,
   "metadata": {},
   "outputs": [
    {
     "name": "stdout",
     "output_type": "stream",
     "text": [
      "[[[ 0  1  2  3]\n  [ 4  5  6  7]]\n\n [[ 8  9 10 11]\n  [12 13 14 15]]]\n==========分割线==============\n[[[ 0  4]\n  [ 1  5]\n  [ 2  6]\n  [ 3  7]]\n\n [[ 8 12]\n  [ 9 13]\n  [10 14]\n  [11 15]]]\n"
     ]
    }
   ],
   "source": [
    "print(arr)\n",
    "print('==========分割线==============')\n",
    "print(arr.swapaxes(1, 2))\n",
    "# 这个就是另外一种全部都转置了，但是也是1和2的位置互换"
   ]
  },
  {
   "cell_type": "code",
   "execution_count": 24,
   "metadata": {},
   "outputs": [
    {
     "name": "stdout",
     "output_type": "stream",
     "text": [
      "[0 1 2 3 4 5 6 7 8 9]\n[0.         1.         1.41421356 1.73205081 2.         2.23606798\n 2.44948974 2.64575131 2.82842712 3.        ]\n[1.00000000e+00 2.71828183e+00 7.38905610e+00 2.00855369e+01\n 5.45981500e+01 1.48413159e+02 4.03428793e+02 1.09663316e+03\n 2.98095799e+03 8.10308393e+03]\n"
     ]
    }
   ],
   "source": [
    "arr = np.arange(10)\n",
    "\n",
    "print(arr)\n",
    "# 这两个都是通用函数，对数据执行元素级运算\n",
    "print(np.sqrt(arr))\n",
    "# 开方\n",
    "print(np.exp(arr))\n",
    "# e =2.71828...这个exp（3）就是e的三次方"
   ]
  },
  {
   "cell_type": "code",
   "execution_count": 25,
   "metadata": {},
   "outputs": [
    {
     "name": "stdout",
     "output_type": "stream",
     "text": [
      "[0.68725904 0.29853095 0.24848817 0.36633978 0.54712715 0.11145256\n 0.14068004 0.57720423]\n[ 0.39557314  0.18432082  0.4906254   0.23255789 -1.0968044  -0.18188899\n -0.43622292  0.44166738]\n[0.68725904 0.29853095 0.4906254  0.36633978 0.54712715 0.11145256\n 0.14068004 0.57720423]\n"
     ]
    }
   ],
   "source": [
    "x = np.random.randn(8)\n",
    "y = np.random.randn(8)\n",
    "\n",
    "print(x)\n",
    "print(y)\n",
    "print(np.maximum(x, y))"
   ]
  },
  {
   "cell_type": "code",
   "execution_count": 2,
   "metadata": {},
   "outputs": [
    {
     "name": "stdout",
     "output_type": "stream",
     "text": [
      "[-2.44606886  0.48803877 -4.13567368  2.67335563 -0.9773015   2.27276423\n -4.12906669]\n[-0.44606886  0.48803877 -0.13567368  0.67335563 -0.9773015   0.27276423\n -0.12906669]\n[-2.  0. -4.  2. -0.  2. -4.]\n"
     ]
    }
   ],
   "source": [
    "arr = np.random.randn(7) * 5\n",
    "print(arr)\n",
    "\n",
    "remainder, whole_part = np.modf(arr)\n",
    "# 返回整数和小数部分\n",
    "print(remainder)\n",
    "print(whole_part)"
   ]
  },
  {
   "cell_type": "code",
   "execution_count": 3,
   "metadata": {},
   "outputs": [
    {
     "name": "stdout",
     "output_type": "stream",
     "text": [
      "[-2.44606886  0.48803877 -4.13567368  2.67335563 -0.9773015   2.27276423\n -4.12906669]\n[       nan 0.69859772        nan 1.63503995        nan 1.50756898\n        nan]\n[       nan 0.69859772        nan 1.63503995        nan 1.50756898\n        nan]\n[       nan 0.69859772        nan 1.63503995        nan 1.50756898\n        nan]\n"
     ]
    },
    {
     "name": "stderr",
     "output_type": "stream",
     "text": [
      "C:\\python_code\\metro_ai\\lib\\site-packages\\ipykernel_launcher.py:2: RuntimeWarning: invalid value encountered in sqrt\n  \nC:\\python_code\\metro_ai\\lib\\site-packages\\ipykernel_launcher.py:3: RuntimeWarning: invalid value encountered in sqrt\n  This is separate from the ipykernel package so we can avoid doing imports until\n"
     ]
    }
   ],
   "source": [
    "print(arr)\n",
    "print(np.sqrt(arr))\n",
    "# 接受一个可选参数\n",
    "print(np.sqrt(arr, arr))\n",
    "# 数组在原地进行了操作\n",
    "print(arr)\n",
    "# ufunc各种数学函数自己查去"
   ]
  },
  {
   "cell_type": "code",
   "execution_count": 6,
   "metadata": {},
   "outputs": [
    {
     "name": "stdout",
     "output_type": "stream",
     "text": [
      "[-5 -4 -3 -2 -1  0  1  2  3  4]\n[[-5 -5 -5 -5 -5 -5 -5 -5 -5 -5]\n [-4 -4 -4 -4 -4 -4 -4 -4 -4 -4]\n [-3 -3 -3 -3 -3 -3 -3 -3 -3 -3]\n [-2 -2 -2 -2 -2 -2 -2 -2 -2 -2]\n [-1 -1 -1 -1 -1 -1 -1 -1 -1 -1]\n [ 0  0  0  0  0  0  0  0  0  0]\n [ 1  1  1  1  1  1  1  1  1  1]\n [ 2  2  2  2  2  2  2  2  2  2]\n [ 3  3  3  3  3  3  3  3  3  3]\n [ 4  4  4  4  4  4  4  4  4  4]]\n"
     ]
    }
   ],
   "source": [
    "# 用数组表达式代替循环通常称为矢量化\n",
    "# 这里是想计算x方加y方的开方\n",
    "points = np.arange(-5, 5, 1) # 1000 equally spaced points\n",
    "# -5到5步长为0.01\n",
    "print(points)\n",
    "xs, ys = np.meshgrid(points, points)\n",
    "# 这个函数接受两个一维数组并且产生两个二维矩阵\n",
    "print(ys)\n",
    "\n",
    "\n",
    "\n"
   ]
  },
  {
   "cell_type": "code",
   "execution_count": 7,
   "metadata": {},
   "outputs": [
    {
     "name": "stdout",
     "output_type": "stream",
     "text": [
      "[[7.07106781 6.40312424 5.83095189 5.38516481 5.09901951 5.\n  5.09901951 5.38516481 5.83095189 6.40312424]\n [6.40312424 5.65685425 5.         4.47213595 4.12310563 4.\n  4.12310563 4.47213595 5.         5.65685425]\n [5.83095189 5.         4.24264069 3.60555128 3.16227766 3.\n  3.16227766 3.60555128 4.24264069 5.        ]\n [5.38516481 4.47213595 3.60555128 2.82842712 2.23606798 2.\n  2.23606798 2.82842712 3.60555128 4.47213595]\n [5.09901951 4.12310563 3.16227766 2.23606798 1.41421356 1.\n  1.41421356 2.23606798 3.16227766 4.12310563]\n [5.         4.         3.         2.         1.         0.\n  1.         2.         3.         4.        ]\n [5.09901951 4.12310563 3.16227766 2.23606798 1.41421356 1.\n  1.41421356 2.23606798 3.16227766 4.12310563]\n [5.38516481 4.47213595 3.60555128 2.82842712 2.23606798 2.\n  2.23606798 2.82842712 3.60555128 4.47213595]\n [5.83095189 5.         4.24264069 3.60555128 3.16227766 3.\n  3.16227766 3.60555128 4.24264069 5.        ]\n [6.40312424 5.65685425 5.         4.47213595 4.12310563 4.\n  4.12310563 4.47213595 5.         5.65685425]]\n"
     ]
    }
   ],
   "source": [
    "z = np.sqrt(xs ** 2 + ys ** 2)\n",
    "print(z)"
   ]
  },
  {
   "cell_type": "code",
   "execution_count": 8,
   "metadata": {},
   "outputs": [
    {
     "data": {
      "text/plain": [
       "Text(0.5, 1.0, 'Image plot of $\\\\sqrt{x^2 + y^2}$ for a grid of values')"
      ]
     },
     "execution_count": 8,
     "metadata": {},
     "output_type": "execute_result"
    },
    {
     "data": {
      "image/png": "[encoded data removed]",
      "text/plain": [
       "<Figure size 432x288 with 2 Axes>"
      ]
     },
     "metadata": {},
     "output_type": "display_data"
    }
   ],
   "source": [
    "import matplotlib.pyplot as plt\n",
    "%matplotlib inline\n",
    "# 数组可视化\n",
    "plt.imshow(z, cmap=plt.cm.gray); plt.colorbar()\n",
    "plt.title(\"Image plot of $\\sqrt{x^2 + y^2}$ for a grid of values\")"
   ]
  },
  {
   "cell_type": "code",
   "execution_count": 9,
   "metadata": {},
   "outputs": [
    {
     "name": "stdout",
     "output_type": "stream",
     "text": [
      "[1.1, 2.2, 1.3, 1.4, 2.5]\n"
     ]
    }
   ],
   "source": [
    "xarr = np.array([1.1, 1.2, 1.3, 1.4, 1.5])\n",
    "yarr = np.array([2.1, 2.2, 2.3, 2.4, 2.5])\n",
    "cond = np.array([True, False, True, True, False])\n",
    "\n",
    "result = [(x if c else y)\n",
    "\tfor x, y, c in zip(xarr, yarr, cond)]\n",
    "print(result)"
   ]
  },
  {
   "cell_type": "code",
   "execution_count": 10,
   "metadata": {},
   "outputs": [
    {
     "name": "stdout",
     "output_type": "stream",
     "text": [
      "[1.1 2.2 1.3 1.4 2.5]\n"
     ]
    }
   ],
   "source": [
    "result = np.where(cond, xarr, yarr)\n",
    "# 后面两个标量值也可以\n",
    "print(result)\n",
    "# 用这个处理大数组的速度比前面那个for循环的列表生成式快"
   ]
  },
  {
   "cell_type": "code",
   "execution_count": 11,
   "metadata": {},
   "outputs": [
    {
     "name": "stdout",
     "output_type": "stream",
     "text": [
      "[[ 2.4927611   0.33753636  0.19939763  0.54244255]\n [-0.34798562  0.00840251 -0.49140221  0.9202613 ]\n [ 0.00701047 -0.82838578 -2.15347274  1.58369364]\n [ 0.05058305  0.80134194 -1.12633933  1.07651809]]\n[[ True  True  True  True]\n [False  True False  True]\n [ True False False  True]\n [ True  True False  True]]\n[[ 2  2  2  2]\n [-2  2 -2  2]\n [ 2 -2 -2  2]\n [ 2  2 -2  2]]\n"
     ]
    }
   ],
   "source": [
    "arr = np.random.randn(4, 4)\n",
    "print(arr)\n",
    "print(arr > 0)\n",
    "print(np.where(arr > 0, 2, -2))\n",
    "# where产生了一个新的数组"
   ]
  },
  {
   "cell_type": "code",
   "execution_count": 12,
   "metadata": {},
   "outputs": [
    {
     "name": "stdout",
     "output_type": "stream",
     "text": [
      "[[ 2.          2.          2.          2.        ]\n [-0.34798562  2.         -0.49140221  2.        ]\n [ 2.         -0.82838578 -2.15347274  2.        ]\n [ 2.          2.         -1.12633933  2.        ]]\n"
     ]
    }
   ],
   "source": [
    "print(np.where(arr > 0, 2, arr))\n",
    "# 用常数2替换所有正数"
   ]
  },
  {
   "cell_type": "code",
   "execution_count": 13,
   "metadata": {},
   "outputs": [
    {
     "name": "stdout",
     "output_type": "stream",
     "text": [
      "[[ 0.79435669 -0.42607023  0.29678192 -0.96456553]\n [ 1.73815523  1.92384645  0.97445331  0.8816995 ]\n [ 0.44227368  0.64597134  0.29798856  2.1000416 ]\n [ 0.01705149  0.24557669 -0.14186529 -0.91610687]\n [-0.04767595  0.78505841 -0.36881878 -0.549225  ]]\n0.3864463617164967\n0.3864463617164967\n7.728927234329934\n"
     ]
    }
   ],
   "source": [
    "# 数学统计。各种sum、标准差等聚合计算通常叫做约简\n",
    "# matrix矩阵axis轴\n",
    "arr = np.random.randn(5, 4)\n",
    "print(arr)\n",
    "print(arr.mean())\n",
    "# 返回平均值\n",
    "print(np.mean(arr))\n",
    "print(arr.sum())\n"
   ]
  },
  {
   "cell_type": "code",
   "execution_count": 14,
   "metadata": {},
   "outputs": [
    {
     "name": "stdout",
     "output_type": "stream",
     "text": [
      "[-0.07487429  1.37953862  0.87156879 -0.19883599 -0.04516533]\n[2.94416115 3.17438267 1.05853971 0.55184371]\n"
     ]
    }
   ],
   "source": [
    "print(arr.mean(axis=1))\n",
    "# 计算该轴向上的统计值\n",
    "# mean是平均值\n",
    "print(arr.sum(axis=0))\n",
    "# sum是和"
   ]
  },
  {
   "cell_type": "code",
   "execution_count": 2,
   "metadata": {},
   "outputs": [
    {
     "name": "stdout",
     "output_type": "stream",
     "text": [
      "[ 0  1  3  6 10 15 21 28]\n"
     ]
    }
   ],
   "source": [
    "arr = np.array([0, 1, 2, 3, 4, 5, 6, 7])\n",
    "print(arr.cumsum())\n",
    "# 这个就不聚合，这个是累加函数\n",
    "# 产生同样大小的数组\n",
    "# 其实就是把前面的都加上的和\n"
   ]
  },
  {
   "cell_type": "code",
   "execution_count": 5,
   "metadata": {},
   "outputs": [
    {
     "name": "stdout",
     "output_type": "stream",
     "text": [
      "[[0 1 2]\n [3 4 5]\n [6 7 8]]\n[ 0  1  3  6 10 15 21 28 36]\n[[ 0  1  2]\n [ 3  5  7]\n [ 9 12 15]]\n[[  0   0   0]\n [  3  12  60]\n [  6  42 336]]\n"
     ]
    }
   ],
   "source": [
    "arr = np.array([[0, 1, 2], [3, 4, 5], [6, 7, 8]])\n",
    "print(arr)\n",
    "print(arr.cumsum())\n",
    "print(arr.cumsum(axis=0))\n",
    "# 根据每个低维的切片沿着标记轴计算部分聚类\n",
    "# 0代表列，1代表行\n",
    "print(arr.cumprod(axis=1))\n",
    "# 累乘"
   ]
  },
  {
   "cell_type": "code",
   "execution_count": 2,
   "metadata": {},
   "outputs": [
    {
     "name": "stdout",
     "output_type": "stream",
     "text": [
      "49\n"
     ]
    }
   ],
   "source": [
    "# 数组统计方法\n",
    "arr = np.random.randn(100)\n",
    "print((arr > 0).sum())\n",
    "\n",
    "\n"
   ]
  },
  {
   "cell_type": "code",
   "execution_count": 3,
   "metadata": {},
   "outputs": [
    {
     "name": "stdout",
     "output_type": "stream",
     "text": [
      "True\nFalse\n"
     ]
    }
   ],
   "source": [
    "bools = np.array([False, False, True, False])\n",
    "print(bools.any())\n",
    "# any是测试是否存在一个或者多个true\n",
    "print(bools.all())\n",
    "# all是测试是否都是true\n",
    "# 如果有其他非布尔型的数组，所有非0元素都会被当作true"
   ]
  },
  {
   "cell_type": "code",
   "execution_count": 11,
   "metadata": {},
   "outputs": [
    {
     "name": "stdout",
     "output_type": "stream",
     "text": [
      "我们的数组是：\n[[3 7]\n [9 1]]\n\n\n调用 sort() 函数：\n[[3 7]\n [1 9]]\n\n\n沿轴 0 排序：\n[[3 1]\n [9 7]]\n沿轴 1 排序：\n[[3 7]\n [1 9]]\n\n\n我们的数组是：\n[(b'raju', 21) (b'anil', 25) (b'ravi', 17) (b'amar', 27)]\n\n\n按 name 排序：\n[(b'amar', 27) (b'anil', 25) (b'raju', 21) (b'ravi', 17)]\n"
     ]
    }
   ],
   "source": [
    "import numpy as np  \n",
    "\n",
    "a = np.array([[3,7],[9,1]])  \n",
    "print ('我们的数组是：')\n",
    "print (a) \n",
    "print ('\\n')  \n",
    "print ('调用 sort() 函数：')  \n",
    "print (np.sort(a))  \n",
    "# sort是返回数组的排序副本，a是要排序的数组\n",
    "print ('\\n')  \n",
    "print ('沿轴 0 排序：就是沿着横轴排序。横轴降一个维度，实际上纵向进行了排序')  \n",
    "print (np.sort(a, axis=0))  \n",
    "print ('沿轴 1 排序：就是沿着纵轴排序，纵轴降一个维度，实际上是横向进行了排序')  \n",
    "print (np.sort(a, axis=1))  \n",
    "print ('\\n')  \n",
    "# 三维是指有三列\n",
    "# axis是沿着它排序的数组的轴，如果没有数组会被展开，沿着最后的轴排序\n",
    "# 在 sort 函数中排序字段 \n",
    "dt = np.dtype([('name',  'S10'),('age',  int)]) \n",
    "a = np.array([(\"raju\",21),(\"anil\",25),(\"ravi\",  17),  (\"amar\",27)], dtype = dt)  \n",
    "print ('我们的数组是：')  \n",
    "print (a) \n",
    "print ('\\n')  \n",
    "print ('按 name 排序：')  \n",
    "print (np.sort(a, order =  'name'))"
   ]
  },
  {
   "cell_type": "code",
   "execution_count": 10,
   "metadata": {},
   "outputs": [
    {
     "name": "stdout",
     "output_type": "stream",
     "text": [
      "[[1 2 3]\n [4 5 6]]\n(2, 3)\n\n\n[[[ 0  1  2  3]\n  [ 4  5  6  7]\n  [ 8  9 10 11]]\n\n [[12 13 14 15]\n  [16 17 18 19]\n  [20 21 22 23]]]\n(2, 3, 4)\n"
     ]
    }
   ],
   "source": [
    "# 轴axis其实是用shape来理解比较好\n",
    "arr1 = np.array([1, 2, 3, 4, 5, 6]).reshape(2,3)\n",
    "print(arr1)\n",
    "print(arr1.shape)\n",
    "print(\"\\n\")\n",
    "# axis=0是横轴，从横轴看shape有两个，axis为1是纵轴，从纵轴看有三个\n",
    "# 高维的话\n",
    "arr2 = np.arange(24).reshape(2, 3, 4)\n",
    "print(arr2)\n",
    "print(arr2.shape)\n",
    "# 这个就是先分成了两个块，然后每个块里面再横轴纵轴来看\n",
    "# 轴就是秩\n",
    "\n",
    "\n"
   ]
  },
  {
   "cell_type": "code",
   "execution_count": 13,
   "metadata": {},
   "outputs": [
    {
     "name": "stdout",
     "output_type": "stream",
     "text": [
      "[[ 1.14500111  0.07563599 -0.65510248]\n [-0.09960829  1.4312751   0.35641298]\n [ 1.49333937  2.14219158 -1.3548421 ]\n [-0.36308662 -0.5071094   1.03025182]\n [-0.56564499 -1.40929168  0.23121308]]\n沿着纵轴排序，也就是横向的\n[[-0.65510248  0.07563599  1.14500111]\n [-0.09960829  0.35641298  1.4312751 ]\n [-1.3548421   1.49333937  2.14219158]\n [-0.5071094  -0.36308662  1.03025182]\n [-1.40929168 -0.56564499  0.23121308]]\n"
     ]
    }
   ],
   "source": [
    "arr = np.random.randn(5, 3)\n",
    "print(arr)\n",
    "arr.sort(1)\n",
    "print(\"沿着纵轴排序，也就是横向的\")\n",
    "print(arr)"
   ]
  },
  {
   "cell_type": "code",
   "execution_count": 14,
   "metadata": {},
   "outputs": [
    {
     "name": "stdout",
     "output_type": "stream",
     "text": [
      "我们的数组是：\n[3 1 2]\n\n\n对 x 调用 argsort() 函数：\n[1 2 0]\n\n\n以排序后的顺序重构原数组：\n[1 2 3]\n\n\n使用循环重构原数组：\n1\n2\n3\n"
     ]
    }
   ],
   "source": [
    "import numpy as np \n",
    "\n",
    "x = np.array([3,  1,  2])  \n",
    "print ('我们的数组是：')  \n",
    "print (x) \n",
    "print ('\\n')  \n",
    "print ('对 x 调用 argsort() 函数：' )\n",
    "# 沿着定轴执行间接排序，返回的是索引数组\n",
    "y = np.argsort(x)  \n",
    "print (y) \n",
    "print ('\\n')  \n",
    "print ('以排序后的顺序重构原数组：这个就是线性代数的矩阵相乘')  \n",
    "print (x[y])  \n",
    "print ('\\n')  \n",
    "print ('使用循环重构原数组：')  \n",
    "for i in y:  \n",
    "    print (x[i])"
   ]
  },
  {
   "cell_type": "code",
   "execution_count": 15,
   "metadata": {},
   "outputs": [
    {
     "name": "stdout",
     "output_type": "stream",
     "text": [
      "调用 lexsort() 函数：\n[3 1 0 2]\n\n\n使用这个索引来获取排序后的数据：\n['amar, f.y.', 'anil, s.y.', 'raju, f.y.', 'ravi, s.y.']\n"
     ]
    }
   ],
   "source": [
    "import numpy as np \n",
    "# 这两个看成是电子表格中的两行\n",
    "nm = ('raju','anil','ravi','amar') \n",
    "dv = ('f.y.',  's.y.',  's.y.',  'f.y.') \n",
    "ind = np.lexsort((dv,nm))  \n",
    "# 使用键序列执行间接排序，键看作是电子表格中的一列，返回的也是个索引数组\n",
    "print ('调用 lexsort() 函数：' ) \n",
    "print (ind) \n",
    "print ('\\n')  \n",
    "print ('使用这个索引来获取排序后的数据：')  \n",
    "print ([nm[i]  +  \", \"  + dv[i]  for i in ind])\n",
    "# 对nm进行了排序，但是对应的dv也跟着发生了改变"
   ]
  },
  {
   "cell_type": "code",
   "execution_count": 16,
   "metadata": {},
   "outputs": [
    {
     "name": "stdout",
     "output_type": "stream",
     "text": [
      "['Bob' 'Joe' 'Will']\n[1 2 3 4]\n"
     ]
    }
   ],
   "source": [
    "# 唯一化\n",
    "names = np.array(['Bob', 'Joe', 'Will', 'Bob', 'Will', 'Joe', 'Joe'])\n",
    "print(np.unique(names))\n",
    "# 找出数组中的唯一值并返回已排序的结果\n",
    "ints = np.array([3, 3, 3, 2, 2, 1, 1, 4, 4])\n",
    "print(np.unique(ints))"
   ]
  },
  {
   "cell_type": "code",
   "execution_count": 17,
   "metadata": {},
   "outputs": [
    {
     "name": "stdout",
     "output_type": "stream",
     "text": [
      "['Bob', 'Joe', 'Will']\n"
     ]
    }
   ],
   "source": [
    "print(sorted(set(names)))\n",
    "# python的这个也可以"
   ]
  },
  {
   "cell_type": "code",
   "execution_count": 18,
   "metadata": {},
   "outputs": [
    {
     "name": "stdout",
     "output_type": "stream",
     "text": [
      "[ True False False  True  True False  True]\n"
     ]
    }
   ],
   "source": [
    "values = np.array([6, 0, 0, 3, 2, 5, 6])\n",
    "\n",
    "print(np.in1d(values, [2, 3, 6]))\n",
    "# 测试一个数组的值在不在另外一个数组里面，返回一个布尔型数组"
   ]
  },
  {
   "cell_type": "code",
   "execution_count": 19,
   "metadata": {},
   "outputs": [
    {
     "name": "stdout",
     "output_type": "stream",
     "text": [
      "[0 1 2 3 4 5 6 7 8 9]\n"
     ]
    }
   ],
   "source": [
    "arr = np.arange(10)\n",
    "np.save('some_array', arr)\n",
    "# save是用来保存文本或者二进制数据的\n",
    "print(np.load('some_array.npy'))\n",
    "# 这个就是来读取这个文件的"
   ]
  },
  {
   "cell_type": "code",
   "execution_count": 21,
   "metadata": {},
   "outputs": [
    {
     "name": "stdout",
     "output_type": "stream",
     "text": [
      "[0 1 2 3 4 5 6 7 8 9]\n"
     ]
    }
   ],
   "source": [
    "np.savez('array_archive.npz', a=arr, b=arr)\n",
    "# 保存多个数组\n",
    "arch = np.load('array_archive.npz')\n",
    "print(arch['b'])\n",
    "np.savez_compressed('arrays_compressed.npz', a=arr, b=arr)\n",
    "# 压缩"
   ]
  },
  {
   "cell_type": "code",
   "execution_count": 22,
   "metadata": {},
   "outputs": [
    {
     "name": "stdout",
     "output_type": "stream",
     "text": [
      "[[1. 2. 3.]\n [4. 5. 6.]]\n[[ 6. 23.]\n [-1.  7.]\n [ 8.  9.]]\n[[ 28.  64.]\n [ 67. 181.]]\n"
     ]
    }
   ],
   "source": [
    "# 线性代数\n",
    "import numpy as np\n",
    "\n",
    "x = np.array([[1., 2., 3.], [4., 5., 6.]])\n",
    "y = np.array([[6., 23.], [-1, 7], [8, 9]])\n",
    "\n",
    "print(x)\n",
    "print(y)\n",
    "print(x.dot(y))\n",
    "# 这个就是这两个矩阵相乘\n",
    "\n"
   ]
  },
  {
   "cell_type": "code",
   "execution_count": 23,
   "metadata": {},
   "outputs": [
    {
     "name": "stdout",
     "output_type": "stream",
     "text": [
      "[[ 28.  64.]\n [ 67. 181.]]\n"
     ]
    }
   ],
   "source": [
    "print(np.dot(x, y))"
   ]
  },
  {
   "cell_type": "code",
   "execution_count": 24,
   "metadata": {},
   "outputs": [
    {
     "name": "stdout",
     "output_type": "stream",
     "text": [
      "[1. 1. 1.]\n[ 6. 15.]\n"
     ]
    }
   ],
   "source": [
    "print(np.ones(3))\n",
    "print(np.dot(x, np.ones(3)))"
   ]
  },
  {
   "cell_type": "code",
   "execution_count": 25,
   "metadata": {},
   "outputs": [
    {
     "name": "stdout",
     "output_type": "stream",
     "text": [
      "[ 6. 15.]\n"
     ]
    }
   ],
   "source": [
    "print (x @ np.ones(3))\n",
    "# 也可以这样来表示乘法"
   ]
  },
  {
   "cell_type": "code",
   "execution_count": 31,
   "metadata": {},
   "outputs": [
    {
     "name": "stdout",
     "output_type": "stream",
     "text": [
      "[[8.25194186 3.3789742 ]\n [3.3789742  2.0000736 ]]\n[[ 0.39317161 -0.66423392]\n [-0.66423392  1.62215495]]\n计算矩阵的逆矩阵，给定一个矩阵A，返回逆矩阵\n[[ 1.00000000e+00 -3.46710820e-16]\n [-3.30142378e-19  1.00000000e+00]]\n计算矩阵的qr因子分解，将矩阵mat乘以qr,q为正交，r为上三角形\n[[-0.92542194 -0.3789383 ]\n [-0.3789383   0.92542194]]\n[[1.0000000e+00 7.7233359e-17]\n [7.7233359e-17 1.0000000e+00]]\n[[-8.91695077 -3.88488135]\n [ 0.          0.57048924]]\n"
     ]
    }
   ],
   "source": [
    "from numpy.linalg import inv, qr\n",
    "\n",
    "X = np.random.randn(2, 2)\n",
    "mat = X.T.dot(X)\n",
    "print(mat)\n",
    "print(inv(mat))\n",
    "print(\"计算矩阵的逆矩阵，给定一个矩阵A，\"\n",
    "      \"返回逆矩阵\")\n",
    "print(mat.dot(inv(mat)))\n",
    "\n",
    "q, r = qr(mat)\n",
    "print(\"计算矩阵的qr因子分解，将矩阵mat乘以qr,\"\n",
    "      \"q为正交矩阵，r为上三角形\")\n",
    "print(q)\n",
    "print(q.dot(q.T))\n",
    "# 正交矩阵就是A乘以A转置为E（单位矩阵）\n",
    "print(r)"
   ]
  },
  {
   "cell_type": "code",
   "execution_count": 32,
   "metadata": {},
   "outputs": [
    {
     "name": "stdout",
     "output_type": "stream",
     "text": [
      "[[ 1.20342673 -0.81805069  2.32526297 -0.17627317]\n [ 0.18178327  0.47369592 -0.82797472  0.54091609]\n [-0.24655936  0.63966235 -1.0800548   0.17944971]\n [-0.88348936 -0.70942116 -1.44001929  0.00610699]]\n"
     ]
    }
   ],
   "source": [
    "# 伪随机数生成\n",
    "# 用来生成多种概率分布的样本值的函数\n",
    "# 这个是生成正态分布的样本数组\n",
    "samples = np.random.normal(size=(4, 4))\n",
    "print(samples)"
   ]
  },
  {
   "cell_type": "code",
   "execution_count": 33,
   "metadata": {},
   "outputs": [
    {
     "name": "stdout",
     "output_type": "stream",
     "text": [
      "1.4 s ± 220 ms per loop (mean ± std. dev. of 7 runs, 1 loop each)\n"
     ]
    },
    {
     "name": "stdout",
     "output_type": "stream",
     "text": [
      "39.8 ms ± 2.4 ms per loop (mean ± std. dev. of 7 runs, 10 loops each)\n"
     ]
    }
   ],
   "source": [
    "# 这东西比python内置的random快了很多\n",
    "from random import normalvariate\n",
    "\n",
    "N = 1000000\n",
    "%timeit samples = [normalvariate(0, 1) for _ in range(N)]\n",
    "%timeit np.random.normal(size=N)\n",
    "\n"
   ]
  },
  {
   "cell_type": "code",
   "execution_count": 35,
   "metadata": {},
   "outputs": [],
   "source": [
    "np.random.seed(1234)\n",
    "# 伪随机数是通过算法基于随机数生成器种子，\n",
    "# 在确定性条件下生成的\n",
    "# 可以更改随机数种子\n"
   ]
  },
  {
   "cell_type": "code",
   "execution_count": 36,
   "metadata": {},
   "outputs": [
    {
     "name": "stdout",
     "output_type": "stream",
     "text": [
      "[ 0.47143516 -1.19097569  1.43270697 -0.3126519  -0.72058873  0.88716294\n  0.85958841 -0.6365235   0.01569637 -2.24268495]\n"
     ]
    }
   ],
   "source": [
    "rng = np.random.RandomState(1234)\n",
    "# 这个就能避免全局状态，与其他隔离\n",
    "print(rng.randn(10))"
   ]
  },
  {
   "cell_type": "code",
   "execution_count": 39,
   "metadata": {},
   "outputs": [
    {
     "data": {
      "text/plain": [
       "[<matplotlib.lines.Line2D at 0x1d6d3a764a8>]"
      ]
     },
     "execution_count": 39,
     "metadata": {},
     "output_type": "execute_result"
    },
    {
     "data": {
      "image/png": "[encoded data removed]",
      "text/plain": [
       "<Figure size 432x288 with 1 Axes>"
      ]
     },
     "metadata": {},
     "output_type": "display_data"
    }
   ],
   "source": [
    "# 随机漫步，从0开始，步长1和-1出现的概率相等\n",
    "import random\n",
    "import matplotlib.pyplot as plt\n",
    "%matplotlib inline\n",
    "\n",
    "position = 0\n",
    "walk = [position]\n",
    "steps = 1000\n",
    "for i in range(steps):\n",
    "     step = 1 if random.randint(0, 1) else -1\n",
    "     position += step\n",
    "     walk.append(position)\n",
    "plt.plot(walk[:100])\n",
    "# 次数多了就可能不能回到原点了"
   ]
  },
  {
   "cell_type": "code",
   "execution_count": 41,
   "metadata": {},
   "outputs": [
    {
     "name": "stdout",
     "output_type": "stream",
     "text": [
      "-9\n60\n"
     ]
    }
   ],
   "source": [
    "nsteps = 1000\n",
    "draws = np.random.randint(0, 2, size=nsteps)\n",
    "steps = np.where(draws > 0, 1, -1)\n",
    "walk = steps.cumsum()\n",
    "print(walk.min())\n",
    "print(walk.max())\n",
    "# 取最大最小值"
   ]
  },
  {
   "cell_type": "code",
   "execution_count": 42,
   "metadata": {},
   "outputs": [
    {
     "name": "stdout",
     "output_type": "stream",
     "text": [
      "297\n"
     ]
    }
   ],
   "source": [
    "print((np.abs(walk) >= 10).argmax())\n",
    "# 需要多久才能达到第一个绝对值10"
   ]
  },
  {
   "cell_type": "code",
   "execution_count": 43,
   "metadata": {},
   "outputs": [
    {
     "name": "stdout",
     "output_type": "stream",
     "text": [
      "[[  1   2   3 ...  46  47  46]\n [  1   0   1 ...  40  41  42]\n [  1   2   3 ... -26 -27 -28]\n ...\n [  1   0   1 ...  64  65  66]\n [  1   2   1 ...   2   1   0]\n [ -1  -2  -3 ...  32  33  34]]\n122\n-128\n"
     ]
    }
   ],
   "source": [
    "nwalks = 5000\n",
    "nsteps = 1000\n",
    "draws = np.random.randint(0, 2, size=(nwalks, nsteps)) # 0 or 1\n",
    "steps = np.where(draws > 0, 1, -1)\n",
    "walks = steps.cumsum(1)\n",
    "# 一次模拟多个随机漫步\n",
    "print(walks)\n",
    "print(walks.max())\n",
    "print(walks.min())"
   ]
  },
  {
   "cell_type": "code",
   "execution_count": 44,
   "metadata": {},
   "outputs": [
    {
     "name": "stdout",
     "output_type": "stream",
     "text": [
      "[ True  True  True ...  True False  True]\n3368\n"
     ]
    }
   ],
   "source": [
    "hits30 = (np.abs(walks) >= 30).any(1)\n",
    "print(hits30)\n",
    "print(hits30.sum())\n",
    "# 计算30或者-30的最小穿越时间，\n",
    "# 因为不是5000个过程都达到了30，所以用any来检查"
   ]
  },
  {
   "cell_type": "code",
   "execution_count": 45,
   "metadata": {},
   "outputs": [
    {
     "name": "stdout",
     "output_type": "stream",
     "text": [
      "509.99762470308787\n"
     ]
    }
   ],
   "source": [
    "crossing_times = (np.abs(walks[hits30]) >= 30).argmax(1)\n",
    "print(crossing_times.mean())\n",
    "# 获取穿越时间"
   ]
  },
  {
   "cell_type": "code",
   "execution_count": null,
   "metadata": {},
   "outputs": [],
   "source": []
  }
 ],
 "metadata": {
  "kernelspec": {
   "display_name": "Python 2",
   "language": "python",
   "name": "python2"
  },
  "language_info": {
   "codemirror_mode": {
    "name": "ipython",
    "version": 2
   },
   "file_extension": ".py",
   "mimetype": "text/x-python",
   "name": "python",
   "nbconvert_exporter": "python",
   "pygments_lexer": "ipython2",
   "version": "2.7.6"
  }
 },
 "nbformat": 4,
 "nbformat_minor": 0
}
