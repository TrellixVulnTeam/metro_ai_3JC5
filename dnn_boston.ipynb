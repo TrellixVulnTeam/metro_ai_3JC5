{
 "cells": [
  {
   "cell_type": "code",
   "execution_count": 2,
   "metadata": {
    "collapsed": true,
    "pycharm": {
     "is_executing": false
    }
   },
   "outputs": [],
   "source": [
    "#coding:utf-8\n",
    "#使用skflow内置的LR，DNN，Scikit-learn中的集成回归模型对“美国波士顿房价”进行预测\n",
    "from sklearn import datasets,metrics,preprocessing,model_selection\n",
    "#读取数据\n",
    "boston=datasets.load_boston()\n",
    "\n",
    "#获取房价数据特征及对应房价\n",
    "x,y=boston.data,boston.target\n",
    "#数据分割，25%做测试\n",
    "x_train,x_test,y_train,y_test=model_selection.train_test_split(x,y,test_size=0.25,random_state=33)\n",
    "#对数据特征进行标准化处理\n",
    "scaler=preprocessing.StandardScaler()\n",
    "x_train=scaler.fit_transform(x_train)\n",
    "x_test=scaler.transform(x_test)"
   ]
  },
  {
   "cell_type": "code",
   "execution_count": 3,
   "outputs": [
    {
     "name": "stderr",
     "text": [
      "WARNING: Logging before flag parsing goes to stderr.\nW0718 22:13:27.754597  9344 deprecation_wrapper.py:119] From d:\\ai\\lib\\site-packages\\skflow\\trainer.py:27: The name tf.train.GradientDescentOptimizer is deprecated. Please use tf.compat.v1.train.GradientDescentOptimizer instead.\n\n",
      "W0718 22:13:27.757597  9344 deprecation_wrapper.py:119] From d:\\ai\\lib\\site-packages\\skflow\\trainer.py:28: The name tf.train.AdagradOptimizer is deprecated. Please use tf.compat.v1.train.AdagradOptimizer instead.\n\n",
      "W0718 22:13:27.758597  9344 deprecation_wrapper.py:119] From d:\\ai\\lib\\site-packages\\skflow\\trainer.py:29: The name tf.train.AdamOptimizer is deprecated. Please use tf.compat.v1.train.AdamOptimizer instead.\n\n",
      "W0718 22:13:28.024598  9344 deprecation_wrapper.py:119] From d:\\ai\\lib\\site-packages\\skflow\\estimators\\base.py:111: The name tf.set_random_seed is deprecated. Please use tf.compat.v1.set_random_seed instead.\n\n",
      "W0718 22:13:28.046597  9344 deprecation_wrapper.py:119] From d:\\ai\\lib\\site-packages\\skflow\\estimators\\base.py:118: The name tf.placeholder is deprecated. Please use tf.compat.v1.placeholder instead.\n\n",
      "W0718 22:13:28.053597  9344 deprecation_wrapper.py:119] From d:\\ai\\lib\\site-packages\\skflow\\estimators\\base.py:133: The name tf.summary.histogram is deprecated. Please use tf.compat.v1.summary.histogram instead.\n\n",
      "W0718 22:13:28.067598  9344 deprecation_wrapper.py:119] From d:\\ai\\lib\\site-packages\\skflow\\models.py:33: The name tf.variable_scope is deprecated. Please use tf.compat.v1.variable_scope instead.\n\n",
      "W0718 22:13:28.081598  9344 deprecation_wrapper.py:119] From d:\\ai\\lib\\site-packages\\skflow\\models.py:41: The name tf.get_variable is deprecated. Please use tf.compat.v1.get_variable instead.\n\n",
      "W0718 22:13:28.087598  9344 deprecation.py:506] From d:\\ai\\lib\\site-packages\\tensorflow\\python\\ops\\init_ops.py:1251: calling VarianceScaling.__init__ (from tensorflow.python.ops.init_ops) with dtype is deprecated and will be removed in a future version.\nInstructions for updating:\nCall initializer instance with the dtype argument instead of passing it to the constructor\n",
      "W0718 22:13:28.169597  9344 deprecation_wrapper.py:119] From d:\\ai\\lib\\site-packages\\skflow\\ops\\losses_ops.py:23: The name tf.op_scope is deprecated. Please use tf.compat.v1.op_scope instead.\n\n",
      "W0718 22:13:28.173598  9344 ops.py:6631] tf.op_scope(values, name, default_name) is deprecated, use tf.name_scope(name, default_name, values)\n",
      "W0718 22:13:28.177597  9344 deprecation_wrapper.py:119] From d:\\ai\\lib\\site-packages\\skflow\\ops\\losses_ops.py:24: The name tf.nn.xw_plus_b is deprecated. Please use tf.compat.v1.nn.xw_plus_b instead.\n\n",
      "W0718 22:13:28.201597  9344 deprecation_wrapper.py:119] From d:\\ai\\lib\\site-packages\\skflow\\estimators\\base.py:142: The name tf.summary.scalar is deprecated. Please use tf.compat.v1.summary.scalar instead.\n\n",
      "W0718 22:13:28.210597  9344 deprecation_wrapper.py:119] From d:\\ai\\lib\\site-packages\\skflow\\estimators\\base.py:145: The name tf.summary.merge_all is deprecated. Please use tf.compat.v1.summary.merge_all instead.\n\n",
      "W0718 22:13:28.353597  9344 deprecation.py:323] From d:\\ai\\lib\\site-packages\\tensorflow\\python\\ops\\clip_ops.py:286: add_dispatch_support.<locals>.wrapper (from tensorflow.python.ops.array_ops) is deprecated and will be removed in a future version.\nInstructions for updating:\nUse tf.where in 2.0, which has the same broadcast rule as np.where\n",
      "W0718 22:13:28.381597  9344 deprecation.py:323] From d:\\ai\\lib\\site-packages\\tensorflow\\python\\util\\tf_should_use.py:193: initialize_all_variables (from tensorflow.python.ops.variables) is deprecated and will be removed after 2017-03-02.\nInstructions for updating:\nUse `tf.global_variables_initializer` instead.\n",
      "W0718 22:13:28.388597  9344 deprecation_wrapper.py:119] From d:\\ai\\lib\\site-packages\\skflow\\estimators\\base.py:154: The name tf.train.Saver is deprecated. Please use tf.compat.v1.train.Saver instead.\n\n"
     ],
     "output_type": "stream"
    },
    {
     "traceback": [
      "\u001b[1;31m---------------------------------------------------------------------------\u001b[0m",
      "\u001b[1;31mTypeError\u001b[0m                                 Traceback (most recent call last)",
      "\u001b[1;32m<ipython-input-3-b1b87eca84ff>\u001b[0m in \u001b[0;36m<module>\u001b[1;34m\u001b[0m\n\u001b[0;32m     16\u001b[0m \u001b[1;31m# TypeError: Using a `tf.Tensor` as a Python `bool` is not allowed. Use `if t is not None:` instead of `if t:` to test if a tensor is defined, and use TensorFlow ops such as tf.cond to execute subgraphs conditioned on the value of a tensor.\u001b[0m\u001b[1;33m\u001b[0m\u001b[1;33m\u001b[0m\u001b[1;33m\u001b[0m\u001b[0m\n\u001b[0;32m     17\u001b[0m \u001b[1;31m# 这个问题巨多\u001b[0m\u001b[1;33m\u001b[0m\u001b[1;33m\u001b[0m\u001b[1;33m\u001b[0m\u001b[0m\n\u001b[1;32m---> 18\u001b[1;33m \u001b[0mtf_lr\u001b[0m\u001b[1;33m.\u001b[0m\u001b[0mfit\u001b[0m\u001b[1;33m(\u001b[0m\u001b[0mx_train\u001b[0m\u001b[1;33m,\u001b[0m \u001b[0my_train\u001b[0m\u001b[1;33m)\u001b[0m\u001b[1;33m\u001b[0m\u001b[1;33m\u001b[0m\u001b[0m\n\u001b[0m\u001b[0;32m     19\u001b[0m \u001b[0mtf_lr_y_predict\u001b[0m\u001b[1;33m=\u001b[0m\u001b[0mtf_lr\u001b[0m\u001b[1;33m.\u001b[0m\u001b[0mpredict\u001b[0m\u001b[1;33m(\u001b[0m\u001b[0mx_test\u001b[0m\u001b[1;33m)\u001b[0m\u001b[1;33m\u001b[0m\u001b[1;33m\u001b[0m\u001b[0m\n",
      "\u001b[1;32md:\\ai\\lib\\site-packages\\skflow\\estimators\\base.py\u001b[0m in \u001b[0;36mfit\u001b[1;34m(self, X, y, logdir)\u001b[0m\n\u001b[0;32m    225\u001b[0m                             \u001b[0mverbose\u001b[0m\u001b[1;33m=\u001b[0m\u001b[0mself\u001b[0m\u001b[1;33m.\u001b[0m\u001b[0mverbose\u001b[0m\u001b[1;33m,\u001b[0m\u001b[1;33m\u001b[0m\u001b[1;33m\u001b[0m\u001b[0m\n\u001b[0;32m    226\u001b[0m                             \u001b[0mearly_stopping_rounds\u001b[0m\u001b[1;33m=\u001b[0m\u001b[0mself\u001b[0m\u001b[1;33m.\u001b[0m\u001b[0m_early_stopping_rounds\u001b[0m\u001b[1;33m,\u001b[0m\u001b[1;33m\u001b[0m\u001b[1;33m\u001b[0m\u001b[0m\n\u001b[1;32m--> 227\u001b[1;33m                             feed_params_fn=self._data_feeder.get_feed_params)\n\u001b[0m\u001b[0;32m    228\u001b[0m         \u001b[1;32mreturn\u001b[0m \u001b[0mself\u001b[0m\u001b[1;33m\u001b[0m\u001b[1;33m\u001b[0m\u001b[0m\n\u001b[0;32m    229\u001b[0m \u001b[1;33m\u001b[0m\u001b[0m\n",
      "\u001b[1;32md:\\ai\\lib\\site-packages\\skflow\\trainer.py\u001b[0m in \u001b[0;36mtrain\u001b[1;34m(self, sess, feed_dict_fn, steps, summary_writer, summaries, print_steps, verbose, early_stopping_rounds, feed_params_fn)\u001b[0m\n\u001b[0;32m    165\u001b[0m             \u001b[0mlosses\u001b[0m\u001b[1;33m.\u001b[0m\u001b[0mappend\u001b[0m\u001b[1;33m(\u001b[0m\u001b[0mloss\u001b[0m\u001b[1;33m)\u001b[0m\u001b[1;33m\u001b[0m\u001b[1;33m\u001b[0m\u001b[0m\n\u001b[0;32m    166\u001b[0m             \u001b[0mprint_loss_buffer\u001b[0m\u001b[1;33m.\u001b[0m\u001b[0mappend\u001b[0m\u001b[1;33m(\u001b[0m\u001b[0mloss\u001b[0m\u001b[1;33m)\u001b[0m\u001b[1;33m\u001b[0m\u001b[1;33m\u001b[0m\u001b[0m\n\u001b[1;32m--> 167\u001b[1;33m             \u001b[1;32mif\u001b[0m \u001b[0msummaries\u001b[0m \u001b[1;32mand\u001b[0m \u001b[0msummary_writer\u001b[0m \u001b[1;32mand\u001b[0m \u001b[0msumm\u001b[0m \u001b[1;32mis\u001b[0m \u001b[1;32mnot\u001b[0m \u001b[1;32mNone\u001b[0m\u001b[1;33m:\u001b[0m\u001b[1;33m\u001b[0m\u001b[1;33m\u001b[0m\u001b[0m\n\u001b[0m\u001b[0;32m    168\u001b[0m                 \u001b[0msummary_writer\u001b[0m\u001b[1;33m.\u001b[0m\u001b[0madd_summary\u001b[0m\u001b[1;33m(\u001b[0m\u001b[0msumm\u001b[0m\u001b[1;33m,\u001b[0m \u001b[0mglobal_step\u001b[0m\u001b[1;33m)\u001b[0m\u001b[1;33m\u001b[0m\u001b[1;33m\u001b[0m\u001b[0m\n\u001b[0;32m    169\u001b[0m             \u001b[1;32mif\u001b[0m \u001b[0mverbose\u001b[0m \u001b[1;33m>\u001b[0m \u001b[1;36m0\u001b[0m\u001b[1;33m:\u001b[0m\u001b[1;33m\u001b[0m\u001b[1;33m\u001b[0m\u001b[0m\n",
      "\u001b[1;32md:\\ai\\lib\\site-packages\\tensorflow\\python\\framework\\ops.py\u001b[0m in \u001b[0;36m__bool__\u001b[1;34m(self)\u001b[0m\n\u001b[0;32m    688\u001b[0m       \u001b[0;31m`\u001b[0m\u001b[0mTypeError\u001b[0m\u001b[0;31m`\u001b[0m\u001b[1;33m.\u001b[0m\u001b[1;33m\u001b[0m\u001b[1;33m\u001b[0m\u001b[0m\n\u001b[0;32m    689\u001b[0m     \"\"\"\n\u001b[1;32m--> 690\u001b[1;33m     raise TypeError(\"Using a `tf.Tensor` as a Python `bool` is not allowed. \"\n\u001b[0m\u001b[0;32m    691\u001b[0m                     \u001b[1;34m\"Use `if t is not None:` instead of `if t:` to test if a \"\u001b[0m\u001b[1;33m\u001b[0m\u001b[1;33m\u001b[0m\u001b[0m\n\u001b[0;32m    692\u001b[0m                     \u001b[1;34m\"tensor is defined, and use TensorFlow ops such as \"\u001b[0m\u001b[1;33m\u001b[0m\u001b[1;33m\u001b[0m\u001b[0m\n",
      "\u001b[1;31mTypeError\u001b[0m: Using a `tf.Tensor` as a Python `bool` is not allowed. Use `if t is not None:` instead of `if t:` to test if a tensor is defined, and use TensorFlow ops such as tf.cond to execute subgraphs conditioned on the value of a tensor."
     ],
     "ename": "TypeError",
     "evalue": "Using a `tf.Tensor` as a Python `bool` is not allowed. Use `if t is not None:` instead of `if t:` to test if a tensor is defined, and use TensorFlow ops such as tf.cond to execute subgraphs conditioned on the value of a tensor.",
     "output_type": "error"
    }
   ],
   "source": [
    "import skflow\n",
    "tf_lr=skflow.TensorFlowLinearRegressor(steps=10000,learning_rate=0.01,batch_size=50)\n",
    "# 这个需要进去改一下，毕竟这的tf版本是新版的，不支持旧版的东西\n",
    "# AttributeError: 'module' object has no attribute 'histogram_summary'\n",
    "# tf.histogram_summary()\n",
    "# 改为：tf.summary.histogram()\n",
    "# 有好几处要改的地方\n",
    "# AttributeError: module 'tensorflow' has no attribute 'mul'\n",
    "# tf.mul已经在新版本中被移除，使用 tf.multiply 代替\n",
    "# AttributeError: module 'tensorflow' has no attribute 'scalar_summary'\n",
    "# 将tf.scalar_summary改为tf.summary.scalar\n",
    "# AttributeError: module 'tensorflow' has no attribute 'merge_all_summaries'\n",
    "# 修改为merged_summary_op = tf.summary.merge_all()\n",
    "# tf.train.SummaryWriter已废除\n",
    "# 使用 tf.summary.FileWriter\n",
    "# TypeError: Using a `tf.Tensor` as a Python `bool` is not allowed. Use `if t is not None:` instead of `if t:` to test if a tensor is defined, and use TensorFlow ops such as tf.cond to execute subgraphs conditioned on the value of a tensor.\n",
    "# 这个问题巨多\n",
    "tf_lr.fit(x_train, y_train)\n",
    "tf_lr_y_predict=tf_lr.predict(x_test)"
   ],
   "metadata": {
    "collapsed": false,
    "pycharm": {
     "name": "#%%\n",
     "is_executing": false
    }
   }
  },
  {
   "cell_type": "code",
   "execution_count": null,
   "outputs": [],
   "source": [
    "print('LR')\n",
    "print('absoluate:',metrics.mean_absolute_error(tf_lr_y_predict, y_test))\n",
    "print('squared:',metrics.mean_squared_error(tf_lr_y_predict, y_test))\n",
    "print('R-squared:',metrics.r2_score(tf_lr_y_predict, y_test))"
   ],
   "metadata": {
    "collapsed": false,
    "pycharm": {
     "name": "#%%\n",
     "is_executing": true
    }
   }
  },
  {
   "cell_type": "code",
   "execution_count": null,
   "outputs": [],
   "source": [
    "\n"
   ],
   "metadata": {
    "collapsed": false,
    "pycharm": {
     "name": "#%%\n"
    }
   }
  }
 ],
 "metadata": {
  "language_info": {
   "codemirror_mode": {
    "name": "ipython",
    "version": 2
   },
   "file_extension": ".py",
   "mimetype": "text/x-python",
   "name": "python",
   "nbconvert_exporter": "python",
   "pygments_lexer": "ipython2",
   "version": "2.7.6"
  },
  "kernelspec": {
   "name": "python3",
   "language": "python",
   "display_name": "Python 3"
  },
  "pycharm": {
   "stem_cell": {
    "cell_type": "raw",
    "source": [],
    "metadata": {
     "collapsed": false
    }
   }
  }
 },
 "nbformat": 4,
 "nbformat_minor": 0
}