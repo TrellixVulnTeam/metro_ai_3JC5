{
 "cells": [
  {
   "cell_type": "code",
   "execution_count": 9,
   "metadata": {
    "pycharm": {
     "is_executing": false
    }
   },
   "outputs": [],
   "source": [
    "# 读取20类新闻文本的数据细节\n",
    "# 朴素贝叶斯是单独考察每一维度被分类的条件概率，然后综合这些概率做出分类预测\n",
    "from sklearn.datasets import fetch_20newsgroups"
   ]
  },
  {
   "cell_type": "code",
   "execution_count": 10,
   "metadata": {
    "pycharm": {
     "name": "#%%\n",
     "is_executing": false
    }
   },
   "outputs": [
    {
     "name": "stdout",
     "text": [
      "18846\nFrom: Mamatha Devineni Ratnam <mr47+@andrew.cmu.edu>\nSubject: Pens fans reactions\nOrganization: Post Office, Carnegie Mellon, Pittsburgh, PA\nLines: 12\nNNTP-Posting-Host: po4.andrew.cmu.edu\n\n\n\nI am sure some bashers of Pens fans are pretty confused about the lack\nof any kind of posts about the recent Pens massacre of the Devils. Actually,\nI am  bit puzzled too and a bit relieved. However, I am going to put an end\nto non-PIttsburghers' relief with a bit of praise for the Pens. Man, they\nare killing those Devils worse than I thought. Jagr just showed you why\nhe is much better than his regular season stats. He is also a lot\nfo fun to watch in the playoffs. Bowman should let JAgr have a lot of\nfun in the next couple of games since the Pens are going to beat the pulp out of Jersey anyway. I was very disappointed not to see the Islanders lose the final\nregular season game.          PENS RULE!!!\n\n\n"
     ],
     "output_type": "stream"
    }
   ],
   "source": [
    "news = fetch_20newsgroups(subset='all')\n",
    "# 查验数据规模和细节\n",
    "print(len(news.data))\n",
    "print(news.data[0])"
   ]
  },
  {
   "cell_type": "code",
   "execution_count": 12,
   "metadata": {
    "pycharm": {
     "is_executing": false
    }
   },
   "outputs": [],
   "source": [
    "# 使用sklearn.model_selection里的train_test_split模块用于分割数据\n",
    "from sklearn.model_selection import train_test_split\n",
    "# 随机采样25%的数据样本作为测试集\n",
    "X_train, X_test, y_train, y_test = train_test_split(news.data, news.target, test_size=0.25, random_state=33)\n",
    "# 直接在这设置需要被预测的目标就行了，这个都是内部自己算去了"
   ]
  },
  {
   "cell_type": "code",
   "execution_count": 13,
   "outputs": [],
   "source": [
    "# 从sklearn.feature_extraction.test里导入用于文本特征向量转化模块\n",
    "from sklearn.feature_extraction.text import CountVectorizer\n",
    "vec = CountVectorizer()\n",
    "X_train = vec.fit_transform(X_train)\n",
    "X_test = vec.transform(X_test)"
   ],
   "metadata": {
    "collapsed": false,
    "pycharm": {
     "name": "#%%\n",
     "is_executing": false
    }
   }
  },
  {
   "cell_type": "code",
   "execution_count": 14,
   "outputs": [],
   "source": [
    "# 从sklearn.naive_bayes里导入朴素贝叶斯模型\n",
    "from sklearn.naive_bayes import MultinomialNB\n",
    "# 使用默认配置初始化朴素贝叶斯模型\n",
    "mnb = MultinomialNB()\n",
    "# 利用训练数据对模型参数进行估计\n",
    "mnb.fit(X_train, y_train)\n",
    "# 对测试样本进行类别预测,结果存储在变量y_predict中\n",
    "y_predict = mnb.predict(X_test)"
   ],
   "metadata": {
    "collapsed": false,
    "pycharm": {
     "name": "#%%\n",
     "is_executing": false
    }
   }
  },
  {
   "cell_type": "code",
   "execution_count": 16,
   "outputs": [
    {
     "name": "stdout",
     "text": [
      "The accuracy of Naive Bayes Classifier is 0.8397707979626485\n                          precision    recall  f1-score   support\n\n             alt.atheism       0.86      0.86      0.86       201\n           comp.graphics       0.59      0.86      0.70       250\n comp.os.ms-windows.misc       0.89      0.10      0.17       248\ncomp.sys.ibm.pc.hardware       0.60      0.88      0.72       240\n   comp.sys.mac.hardware       0.93      0.78      0.85       242\n          comp.windows.x       0.82      0.84      0.83       263\n            misc.forsale       0.91      0.70      0.79       257\n               rec.autos       0.89      0.89      0.89       238\n         rec.motorcycles       0.98      0.92      0.95       276\n      rec.sport.baseball       0.98      0.91      0.95       251\n        rec.sport.hockey       0.93      0.99      0.96       233\n               sci.crypt       0.86      0.98      0.91       238\n         sci.electronics       0.85      0.88      0.86       249\n                 sci.med       0.92      0.94      0.93       245\n               sci.space       0.89      0.96      0.92       221\n  soc.religion.christian       0.78      0.96      0.86       232\n      talk.politics.guns       0.88      0.96      0.92       251\n   talk.politics.mideast       0.90      0.98      0.94       231\n      talk.politics.misc       0.79      0.89      0.84       188\n      talk.religion.misc       0.93      0.44      0.60       158\n\n                accuracy                           0.84      4712\n               macro avg       0.86      0.84      0.82      4712\n            weighted avg       0.86      0.84      0.82      4712\n\n"
     ],
     "output_type": "stream"
    }
   ],
   "source": [
    "# 从sklearn.metrics里导入classification_report用于详细的分类性能报告\n",
    "from sklearn.metrics import classification_report\n",
    "print('The accuracy of Naive Bayes Classifier is', mnb.score(X_test, y_test))\n",
    "print(classification_report(y_test, y_predict, target_names=news.target_names))"
   ],
   "metadata": {
    "collapsed": false,
    "pycharm": {
     "name": "#%%\n",
     "is_executing": false
    }
   }
  },
  {
   "cell_type": "code",
   "execution_count": null,
   "outputs": [],
   "source": [
    "# 这新版本的pycharm虽然显示结果好了些，但是用起来还是有些不习惯，各种快捷键好像都有点不好使了\n",
    "\n"
   ],
   "metadata": {
    "collapsed": false,
    "pycharm": {
     "name": "#%%\n"
    }
   }
  }
 ],
 "metadata": {
  "kernelspec": {
   "display_name": "Python 3",
   "language": "python",
   "name": "python3"
  },
  "language_info": {
   "codemirror_mode": {
    "name": "ipython",
    "version": 3
   },
   "file_extension": ".py",
   "mimetype": "text/x-python",
   "name": "python",
   "nbconvert_exporter": "python",
   "pygments_lexer": "ipython3",
   "version": "3.7.3"
  },
  "pycharm": {
   "stem_cell": {
    "cell_type": "raw",
    "source": [],
    "metadata": {
     "collapsed": false
    }
   }
  }
 },
 "nbformat": 4,
 "nbformat_minor": 1
}