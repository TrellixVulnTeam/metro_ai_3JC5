{
 "cells": [
  {
   "cell_type": "code",
   "execution_count": 1,
   "metadata": {
    "collapsed": true,
    "pycharm": {
     "is_executing": false
    }
   },
   "outputs": [
    {
     "data": {
      "text/plain": [
       "array([15.77075346, 11.40670395, 11.03044558,  4.84639758,  3.09292055,\n        2.58097379,  1.00413543,  0.72817072,  0.43800353,  0.22082113,\n        0.07367823])"
      ]
     },
     "execution_count": 1,
     "metadata": {},
     "output_type": "execute_result"
    }
   ],
   "source": [
    "from numpy import linalg as la\n",
    "from numpy import *\n",
    "# 用户-菜肴矩阵，有很多菜都没有评分\n",
    "# 行是用户，列是菜肴，其实正常情况下是用户数量远大于菜的数量\n",
    "U,Sigma,VT=la.svd(mat([[0, 0, 0, 0, 0, 4, 0, 0, 0, 0, 5],\n",
    "           [0, 0, 0, 3, 0, 4, 0, 0, 0, 0, 3],\n",
    "           [0, 0, 0, 0, 4, 0, 0, 1, 0, 4, 0],\n",
    "           [3, 3, 4, 0, 0, 0, 0, 2, 2, 0, 0],\n",
    "           [5, 4, 5, 0, 0, 0, 0, 5, 5, 0, 0],\n",
    "           [0, 0, 0, 0, 5, 0, 1, 0, 0, 5, 0],\n",
    "           [4, 3, 4, 0, 0, 0, 0, 5, 5, 0, 1],\n",
    "           [0, 0, 0, 4, 0, 4, 0, 0, 0, 0, 4],\n",
    "           [0, 0, 0, 2, 0, 2, 5, 0, 0, 1, 2],\n",
    "           [0, 0, 0, 0, 5, 0, 0, 0, 0, 4, 0],\n",
    "           [1, 0, 0, 0, 0, 0, 0, 1, 2, 0, 0]]))\n",
    "Sigma"
   ]
  },
  {
   "cell_type": "code",
   "execution_count": 2,
   "metadata": {
    "collapsed": false,
    "pycharm": {
     "name": "#%%\n",
     "is_executing": false
    }
   },
   "outputs": [
    {
     "name": "stdout",
     "output_type": "stream",
     "text": [
      "541.9999999999995\n487.7999999999996\n378.8295595113579\n500.50028912757926\n"
     ]
    }
   ],
   "source": [
    "Sig2=Sigma**2\n",
    "# 计算总能量\n",
    "print(sum(Sig2))\n",
    "# 计算总能量的90%\n",
    "print(sum(Sig2)*0.9)\n",
    "# 计算前两个元素所包含的能量\n",
    "print(sum(Sig2[:2]))\n",
    "# 前两个元素能量不够，所以计算前三个元素所包含的能量\n",
    "print(sum(Sig2[:3]))"
   ]
  },
  {
   "cell_type": "code",
   "execution_count": 4,
   "metadata": {
    "collapsed": false,
    "pycharm": {
     "name": "#%%\n",
     "is_executing": false
    }
   },
   "outputs": [],
   "source": [
    "# 推荐引擎一般是根据相似度计算，相似度高的就认为喜欢\n",
    "# 一般是欧式距离，皮尔逊相关系数，余弦相似度三种\n",
    "from numpy import *\n",
    "from numpy import linalg as la\n",
    "# inA和inB都是列向量\n",
    "def ecludSim(inA, inB) :\n",
    "    return 1.0/(1.0 + la.norm(inA - inB))\n",
    "\n",
    "def pearsSim(inA, inB) :\n",
    "    # 检查是否存在三个或更多的点，若不存在，则返回1.0，这是因为此时两个向量完全相关\n",
    "    if len(inA) < 3 : return 1.0\n",
    "    return 0.5+0.5*corrcoef(inA, inB, rowvar = 0)[0][1]\n",
    "\n",
    "def cosSim(inA, inB) :\n",
    "    num = float(inA.T*inB)\n",
    "    denom = la.norm(inA)*la.norm(inB)\n",
    "    return 0.5+0.5*(num/denom)\n",
    "\n",
    "# 一般物品比用户少，所以我们计算物品之间的相似度"
   ]
  },
  {
   "cell_type": "code",
   "execution_count": 5,
   "metadata": {
    "collapsed": false,
    "pycharm": {
     "name": "#%%\n",
     "is_executing": false
    }
   },
   "outputs": [],
   "source": [
    "myMat=mat([[0, 0, 0, 0, 0, 4, 0, 0, 0, 0, 5],\n",
    "           [0, 0, 0, 3, 0, 4, 0, 0, 0, 0, 3],\n",
    "           [0, 0, 0, 0, 4, 0, 0, 1, 0, 4, 0],\n",
    "           [3, 3, 4, 0, 0, 0, 0, 2, 2, 0, 0],\n",
    "           [5, 4, 5, 0, 0, 0, 0, 5, 5, 0, 0],\n",
    "           [0, 0, 0, 0, 5, 0, 1, 0, 0, 5, 0],\n",
    "           [4, 3, 4, 0, 0, 0, 0, 5, 5, 0, 1],\n",
    "           [0, 0, 0, 4, 0, 4, 0, 0, 0, 0, 4],\n",
    "           [0, 0, 0, 2, 0, 2, 5, 0, 0, 1, 2],\n",
    "           [0, 0, 0, 0, 5, 0, 0, 0, 0, 4, 0],\n",
    "           [1, 0, 0, 0, 0, 0, 0, 1, 2, 0, 0]])"
   ]
  },
  {
   "cell_type": "code",
   "execution_count": 6,
   "metadata": {
    "collapsed": false,
    "pycharm": {
     "name": "#%%\n",
     "is_executing": false
    }
   },
   "outputs": [],
   "source": [
    "# 构建SVD推荐引擎，在第三行对数据集记性了SVD分解\n",
    "def svdEst(dataMat, user, simMeas, item) :\n",
    "    n = shape(dataMat)[1]\n",
    "    # 得到数据集中物品的数目\n",
    "    \n",
    "    # 对评估值进行初始化\n",
    "    simTotal = 0.0; ratSimTotal = 0.0\n",
    "    \n",
    "    U,Sigma,VT = la.svd(dataMat)\n",
    "    \n",
    "    # 使用奇异值构建一个对角矩阵\n",
    "    Sig4 = mat(eye(4)*Sigma[:4])\n",
    "    \n",
    "    # 利用U矩阵将物品转换到低维空间中\n",
    "    xformedItems = dataMat.T * U[:, :4] * Sig4.I\n",
    "    \n",
    "    # 对于给定的用户，for循环在用户对应行的所有元素上进行遍历，\n",
    "    # 这里的相似度是在低维空间下进行的。相似度的计算方法也会作为一个参数传递给该函数\n",
    "    for j in range(n) :\n",
    "        userRating = dataMat[user,j]\n",
    "        if userRating == 0 or j == item : continue\n",
    "        similarity = simMeas(xformedItems[item, :].T, xformedItems[j, :].T)\n",
    "        # print便于了解相似度计算的进展情况\n",
    "        print('the %d and %d similarity is : %f' % (item, j, similarity))\n",
    "        \n",
    "        # 对相似度求和\n",
    "        simTotal += similarity\n",
    "        \n",
    "        # 对相似度及评分值的乘积求和\n",
    "        ratSimTotal += similarity * userRating\n",
    "    if simTotal == 0 : return 0\n",
    "    else : return ratSimTotal/simTotal\n",
    "    # 通过除以所有的评分总和，对上述相似度评分的乘积进行归一化。这使得评分值在0-5之间，\n",
    "    # 而这些评分值则用于对预测值进行排序"
   ]
  },
  {
   "cell_type": "code",
   "execution_count": 7,
   "metadata": {
    "collapsed": false,
    "pycharm": {
     "name": "#%%\n",
     "is_executing": false
    }
   },
   "outputs": [],
   "source": [
    "# 用来计算在给定相似度计算方法的条件下，用户对物品的估计评分值\n",
    "# 参数：数据矩阵、用户编号、物品编号、相似度计算方法，矩阵采用图1和图2的形式\n",
    "# 即行对应用户、列对应物品\n",
    "def standEst(dataMat, user, simMeas, item) :\n",
    "    # 首先得到数据集中的物品数目\n",
    "    n = shape(dataMat)[1]\n",
    "    # 对两个用于计算估计评分值的变量进行初始化\n",
    "    simTotal = 0.0; ratSimTotal = 0.0\n",
    "    # 遍历行中的每个物品\n",
    "    for j in range(n) :\n",
    "        userRating = dataMat[user,j]\n",
    "        # 如果某个物品评分值为0，意味着用户没有对该物品评分，跳过\n",
    "        if userRating == 0 : continue\n",
    "        # 寻找两个用户都评级的物品，变量overLap给出的是两个物品当中已经被评分的那个元素\n",
    "        overLap = nonzero(logical_and(dataMat[:, item].A>0, dataMat[:, j].A>0))[0]\n",
    "        # 若两者没有任何重合元素，则相似度为0且中止本次循环\n",
    "        if len(overLap) == 0 : similarity = 0\n",
    "        # 如果存在重合的物品，则基于这些重合物品计算相似度\n",
    "        else : similarity = simMeas(dataMat[overLap, item], dataMat[overLap, j])\n",
    "        # print 'the %d and %d similarity is : %f' % (item, j, similarity)\n",
    "        # 随后相似度不断累加\n",
    "        simTotal += similarity\n",
    "        ratSimTotal += similarity * userRating\n",
    "    if simTotal == 0 : return 0\n",
    "    # 通过除以所有的评分总和，对上述相似度评分的乘积进行归一化。这使得评分值在0-5之间，\n",
    "    # 而这些评分值则用于对预测值进行排序\n",
    "    else : return ratSimTotal/simTotal\n",
    "\n",
    "# 推荐引擎，会调用standEst()函数，产生最高的N个推荐结果。\n",
    "# simMeas：相似度计算方法\n",
    "# estMethod：估计方法\n",
    "def recommend(dataMat, user, N=3, simMeas=cosSim, estMethod=standEst) :\n",
    "    # 寻找未评级的物品，对给定用户建立一个未评分的物品列表\n",
    "    unratedItems = nonzero(dataMat[user, :].A==0)[1]\n",
    "    # 如果不存在未评分物品，退出函数，否则在所有未评分物品上进行循环\n",
    "    if len(unratedItems) == 0 : return 'you rated everything'\n",
    "    itemScores = []\n",
    "    for item in unratedItems :\n",
    "        # 对于每个未评分物品，通过调用standEst()来产生该物品的预测评分。\n",
    "        estimatedScore = estMethod(dataMat, user, simMeas, item)\n",
    "        # 该物品的编号和估计得分值会放在一个元素列表itemScores\n",
    "        itemScores.append((item, estimatedScore))\n",
    "    # 寻找前N个未评级物品\n",
    "    return  sorted(itemScores, key=lambda jj : jj[1], reverse=True)[:N] "
   ]
  },
  {
   "cell_type": "code",
   "execution_count": 8,
   "metadata": {
    "collapsed": false,
    "pycharm": {
     "name": "#%%\n",
     "is_executing": false
    }
   },
   "outputs": [
    {
     "name": "stdout",
     "output_type": "stream",
     "text": [
      "the 0 and 3 similarity is : 0.490950\nthe 0 and 5 similarity is : 0.484274\nthe 0 and 10 similarity is : 0.512755\nthe 1 and 3 similarity is : 0.491294\nthe 1 and 5 similarity is : 0.481516\nthe 1 and 10 similarity is : 0.509709\nthe 2 and 3 similarity is : 0.491573\nthe 2 and 5 similarity is : 0.482346\nthe 2 and 10 similarity is : 0.510584\nthe 4 and 3 similarity is : 0.450495\nthe 4 and 5 similarity is : 0.506795\nthe 4 and 10 similarity is : 0.512896\nthe 6 and 3 similarity is : 0.743699\nthe 6 and 5 similarity is : 0.468366\nthe 6 and 10 similarity is : 0.439465\nthe 7 and 3 similarity is : 0.482175\nthe 7 and 5 similarity is : 0.494716\nthe 7 and 10 similarity is : 0.524970\nthe 8 and 3 similarity is : 0.491307\nthe 8 and 5 similarity is : 0.491228\nthe 8 and 10 similarity is : 0.520290\nthe 9 and 3 similarity is : 0.522379\nthe 9 and 5 similarity is : 0.496130\nthe 9 and 10 similarity is : 0.493617\n"
     ]
    },
    {
     "data": {
      "text/plain": [
       "[(4, 3.344714938469228), (7, 3.329402072452697), (9, 3.328100876390069)]"
      ]
     },
     "execution_count": 8,
     "metadata": {},
     "output_type": "execute_result"
    }
   ],
   "source": [
    "recommend(myMat, 1, estMethod=svdEst)"
   ]
  },
  {
   "cell_type": "code",
   "execution_count": 9,
   "metadata": {
    "collapsed": false,
    "pycharm": {
     "name": "#%%\n",
     "is_executing": false
    }
   },
   "outputs": [
    {
     "data": {
      "text/plain": [
       "[(6, 3.3333333333333335), (9, 3.3333333333333335), (0, 3.0)]"
      ]
     },
     "execution_count": 9,
     "metadata": {},
     "output_type": "execute_result"
    }
   ],
   "source": [
    "recommend(myMat, 1, estMethod=standEst)"
   ]
  },
  {
   "cell_type": "code",
   "execution_count": null,
   "metadata": {
    "collapsed": false,
    "pycharm": {
     "name": "#%%\n"
    }
   },
   "outputs": [],
   "source": [
    "# SVD用在图像压缩也很不错\n"
   ]
  }
 ],
 "metadata": {
  "language_info": {
   "codemirror_mode": {
    "name": "ipython",
    "version": 2
   },
   "file_extension": ".py",
   "mimetype": "text/x-python",
   "name": "python",
   "nbconvert_exporter": "python",
   "pygments_lexer": "ipython2",
   "version": "2.7.6"
  },
  "kernelspec": {
   "name": "python3",
   "language": "python",
   "display_name": "Python 3"
  },
  "pycharm": {
   "stem_cell": {
    "cell_type": "raw",
    "source": [],
    "metadata": {
     "collapsed": false
    }
   }
  }
 },
 "nbformat": 4,
 "nbformat_minor": 0
}
