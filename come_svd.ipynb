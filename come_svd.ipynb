{
 "cells": [
  {
   "cell_type": "code",
   "execution_count": 5,
   "metadata": {
    "collapsed": true,
    "pycharm": {
     "is_executing": false
    }
   },
   "outputs": [],
   "source": [
    "# svd就是奇异值分解，提取信息用的，和pca一样都是工具\n",
    "# 用于推荐系统和图像压缩\n",
    "# 缺点是数据的转换可能难以理解，适合数值型数据\n",
    "# 这个其实就是矩阵分解，分解成三个小的矩阵\n",
    "# 提取对角元素，也就是奇异值，想想pca也是分解之后提取特征值"
   ]
  },
  {
   "cell_type": "code",
   "execution_count": 6,
   "outputs": [
    {
     "name": "stdout",
     "text": [
      "[[-0.14142136 -0.98994949]\n [-0.98994949  0.14142136]]\n[10.  0.]\n[[-0.70710678 -0.70710678]\n [-0.70710678  0.70710678]]\n"
     ],
     "output_type": "stream"
    }
   ],
   "source": [
    "from numpy import *\n",
    "U,Sigma,VT=linalg.svd([[1, 1], [7, 7]])\n",
    "# 这个linalg是一个线性代数箱\n",
    "print(U)\n",
    "print(Sigma)\n",
    "# 可以发现这个sigma是以行向量的形式返回对角元素，而不是2乘2的矩阵\n",
    "# 10，0\n",
    "# 0， 0\n",
    "# 这种矩阵除了对角元素其他的都是0，就可以节省空间\n",
    "print(VT)\n"
   ],
   "metadata": {
    "collapsed": false,
    "pycharm": {
     "name": "#%%\n",
     "is_executing": false
    }
   }
  },
  {
   "cell_type": "code",
   "execution_count": 8,
   "outputs": [
    {
     "name": "stdout",
     "text": [
      "[9.64365076e+00 5.29150262e+00 7.40623935e-16 4.05103551e-16\n 2.21838243e-32]\n"
     ],
     "output_type": "stream"
    }
   ],
   "source": [
    "U,Sigma,VT=linalg.svd([[0, 0, 0, 2, 2],\n",
    "            [0, 0, 0, 3, 3],\n",
    "            [0, 0, 0, 1, 1],\n",
    "            [1, 1, 1, 0, 0],\n",
    "            [2, 2, 2, 0, 0],\n",
    "            [5, 5, 5, 0, 0],\n",
    "            [1, 1, 1, 0, 0]])\n",
    "print(Sigma)"
   ],
   "metadata": {
    "collapsed": false,
    "pycharm": {
     "name": "#%%\n",
     "is_executing": false
    }
   }
  },
  {
   "cell_type": "code",
   "execution_count": 10,
   "outputs": [
    {
     "data": {
      "text/plain": "matrix([[ 5.03302006e-17,  1.95279569e-15,  1.70575023e-15,\n          2.00000000e+00,  2.00000000e+00],\n        [-7.69233911e-16,  3.14619452e-16,  4.54614459e-16,\n          3.00000000e+00,  3.00000000e+00],\n        [-2.02143152e-16,  6.40186235e-17,  1.38124528e-16,\n          1.00000000e+00,  1.00000000e+00],\n        [ 1.00000000e+00,  1.00000000e+00,  1.00000000e+00,\n         -1.52065993e-33, -1.21652794e-33],\n        [ 2.00000000e+00,  2.00000000e+00,  2.00000000e+00,\n         -3.04131986e-33, -2.43305589e-33],\n        [ 5.00000000e+00,  5.00000000e+00,  5.00000000e+00,\n          1.82479192e-33,  1.45983353e-33],\n        [ 1.00000000e+00,  1.00000000e+00,  1.00000000e+00,\n         -1.52065993e-33, -1.21652794e-33]])"
     },
     "metadata": {},
     "output_type": "execute_result",
     "execution_count": 10
    }
   ],
   "source": [
    "# 可以看出来前三个数值很大，这样子的话就可以把后面两个给去掉了\n",
    "Sig3 = mat([[Sigma[0], 0 ,0], [0, Sigma[1], 0], [0, 0, Sigma[2]]])\n",
    "U[:,:3]*Sig3*VT[:3, :]"
   ],
   "metadata": {
    "collapsed": false,
    "pycharm": {
     "name": "#%%\n",
     "is_executing": false
    }
   }
  },
  {
   "cell_type": "code",
   "execution_count": null,
   "outputs": [],
   "source": [
    "# 能发现和前面给的初始的矩阵差不多\n"
   ],
   "metadata": {
    "collapsed": false,
    "pycharm": {
     "name": "#%%\n"
    }
   }
  }
 ],
 "metadata": {
  "language_info": {
   "codemirror_mode": {
    "name": "ipython",
    "version": 2
   },
   "file_extension": ".py",
   "mimetype": "text/x-python",
   "name": "python",
   "nbconvert_exporter": "python",
   "pygments_lexer": "ipython2",
   "version": "2.7.6"
  },
  "kernelspec": {
   "name": "python3",
   "language": "python",
   "display_name": "Python 3"
  },
  "pycharm": {
   "stem_cell": {
    "cell_type": "raw",
    "source": [],
    "metadata": {
     "collapsed": false
    }
   }
  }
 },
 "nbformat": 4,
 "nbformat_minor": 0
}